{
 "cells": [
  {
   "cell_type": "code",
   "execution_count": 2,
   "metadata": {},
   "outputs": [],
   "source": [
    "import requests\n",
    "import pandas as pd\n",
    "import numpy as np\n",
    "import json\n",
    "from bs4 import BeautifulSoup\n",
    "from tqdm.notebook import tqdm\n",
    "import seaborn as sns\n",
    "import matplotlib.pyplot as plt\n",
    "import pickle\n",
    "import os\n",
    "import time\n",
    "from datetime import datetime as dt\n",
    "data_dir = \"/Users/vigadam/Documents/github/media_network/data/\""
   ]
  },
  {
   "cell_type": "markdown",
   "metadata": {},
   "source": [
    "## 24.hu"
   ]
  },
  {
   "cell_type": "code",
   "execution_count": 43,
   "metadata": {},
   "outputs": [],
   "source": [
    "page_types = [\n",
    "    \"https://24.hu/tech/\",\n",
    "    \"https://24.hu/szorakozas/\",\n",
    "    \"https://24.hu/kultura/\",\n",
    "    \"https://24.hu/fn/uzleti-tippek/\",\n",
    "    \"https://24.hu/fn/gazdasag/\",\n",
    "    \"https://24.hu/kulfold/\",\n",
    "    \"https://24.hu/kozelet/\",\n",
    "    \"https://24.hu/belfold/\",\n",
    "    \"https://24.hu/tudomany/\",\n",
    "    \"https://24.hu/kistotal/\",\n",
    "    \"https://24.hu/velemeny/\",\n",
    "    \"https://24.hu/szorakozas/\",\n",
    "    \"https://24.hu/otthon/\",\n",
    "    \"https://24.hu/elet-stilus/\",\n",
    "    \"https://24.hu/sport/\"\n",
    "]"
   ]
  },
  {
   "cell_type": "code",
   "execution_count": 47,
   "metadata": {
    "collapsed": true
   },
   "outputs": [
    {
     "name": "stdout",
     "output_type": "stream",
     "text": [
      "https://24.hu/szorakozas/\n"
     ]
    },
    {
     "data": {
      "application/vnd.jupyter.widget-view+json": {
       "model_id": "9a3bba87f8194be89a4135e098552e22",
       "version_major": 2,
       "version_minor": 0
      },
      "text/plain": [
       "HBox(children=(FloatProgress(value=0.0, max=99999.0), HTML(value='')))"
      ]
     },
     "metadata": {},
     "output_type": "display_data"
    },
    {
     "name": "stdout",
     "output_type": "stream",
     "text": [
      "\n"
     ]
    },
    {
     "ename": "KeyboardInterrupt",
     "evalue": "",
     "output_type": "error",
     "traceback": [
      "\u001b[0;31m---------------------------------------------------------------------------\u001b[0m",
      "\u001b[0;31mKeyboardInterrupt\u001b[0m                         Traceback (most recent call last)",
      "\u001b[0;32m<ipython-input-47-8e4bbac3ab38>\u001b[0m in \u001b[0;36m<module>\u001b[0;34m\u001b[0m\n\u001b[1;32m     10\u001b[0m \u001b[0;34m\u001b[0m\u001b[0m\n\u001b[1;32m     11\u001b[0m             \u001b[0;32mtry\u001b[0m\u001b[0;34m:\u001b[0m\u001b[0;34m\u001b[0m\u001b[0;34m\u001b[0m\u001b[0m\n\u001b[0;32m---> 12\u001b[0;31m                 \u001b[0mresponse\u001b[0m \u001b[0;34m=\u001b[0m \u001b[0mrequests\u001b[0m\u001b[0;34m.\u001b[0m\u001b[0mget\u001b[0m\u001b[0;34m(\u001b[0m\u001b[0mpage_link\u001b[0m\u001b[0;34m)\u001b[0m\u001b[0;34m\u001b[0m\u001b[0;34m\u001b[0m\u001b[0m\n\u001b[0m\u001b[1;32m     13\u001b[0m             \u001b[0;32mexcept\u001b[0m \u001b[0mTimeoutError\u001b[0m \u001b[0;32mor\u001b[0m \u001b[0mConnectionError\u001b[0m\u001b[0;34m:\u001b[0m\u001b[0;34m\u001b[0m\u001b[0;34m\u001b[0m\u001b[0m\n\u001b[1;32m     14\u001b[0m                 \u001b[0mprint\u001b[0m\u001b[0;34m(\u001b[0m\u001b[0mpage_link\u001b[0m\u001b[0;34m)\u001b[0m\u001b[0;34m\u001b[0m\u001b[0;34m\u001b[0m\u001b[0m\n",
      "\u001b[0;32m/usr/local/lib/python3.8/site-packages/requests/api.py\u001b[0m in \u001b[0;36mget\u001b[0;34m(url, params, **kwargs)\u001b[0m\n\u001b[1;32m     74\u001b[0m \u001b[0;34m\u001b[0m\u001b[0m\n\u001b[1;32m     75\u001b[0m     \u001b[0mkwargs\u001b[0m\u001b[0;34m.\u001b[0m\u001b[0msetdefault\u001b[0m\u001b[0;34m(\u001b[0m\u001b[0;34m'allow_redirects'\u001b[0m\u001b[0;34m,\u001b[0m \u001b[0;32mTrue\u001b[0m\u001b[0;34m)\u001b[0m\u001b[0;34m\u001b[0m\u001b[0;34m\u001b[0m\u001b[0m\n\u001b[0;32m---> 76\u001b[0;31m     \u001b[0;32mreturn\u001b[0m \u001b[0mrequest\u001b[0m\u001b[0;34m(\u001b[0m\u001b[0;34m'get'\u001b[0m\u001b[0;34m,\u001b[0m \u001b[0murl\u001b[0m\u001b[0;34m,\u001b[0m \u001b[0mparams\u001b[0m\u001b[0;34m=\u001b[0m\u001b[0mparams\u001b[0m\u001b[0;34m,\u001b[0m \u001b[0;34m**\u001b[0m\u001b[0mkwargs\u001b[0m\u001b[0;34m)\u001b[0m\u001b[0;34m\u001b[0m\u001b[0;34m\u001b[0m\u001b[0m\n\u001b[0m\u001b[1;32m     77\u001b[0m \u001b[0;34m\u001b[0m\u001b[0m\n\u001b[1;32m     78\u001b[0m \u001b[0;34m\u001b[0m\u001b[0m\n",
      "\u001b[0;32m/usr/local/lib/python3.8/site-packages/requests/api.py\u001b[0m in \u001b[0;36mrequest\u001b[0;34m(method, url, **kwargs)\u001b[0m\n\u001b[1;32m     59\u001b[0m     \u001b[0;31m# cases, and look like a memory leak in others.\u001b[0m\u001b[0;34m\u001b[0m\u001b[0;34m\u001b[0m\u001b[0;34m\u001b[0m\u001b[0m\n\u001b[1;32m     60\u001b[0m     \u001b[0;32mwith\u001b[0m \u001b[0msessions\u001b[0m\u001b[0;34m.\u001b[0m\u001b[0mSession\u001b[0m\u001b[0;34m(\u001b[0m\u001b[0;34m)\u001b[0m \u001b[0;32mas\u001b[0m \u001b[0msession\u001b[0m\u001b[0;34m:\u001b[0m\u001b[0;34m\u001b[0m\u001b[0;34m\u001b[0m\u001b[0m\n\u001b[0;32m---> 61\u001b[0;31m         \u001b[0;32mreturn\u001b[0m \u001b[0msession\u001b[0m\u001b[0;34m.\u001b[0m\u001b[0mrequest\u001b[0m\u001b[0;34m(\u001b[0m\u001b[0mmethod\u001b[0m\u001b[0;34m=\u001b[0m\u001b[0mmethod\u001b[0m\u001b[0;34m,\u001b[0m \u001b[0murl\u001b[0m\u001b[0;34m=\u001b[0m\u001b[0murl\u001b[0m\u001b[0;34m,\u001b[0m \u001b[0;34m**\u001b[0m\u001b[0mkwargs\u001b[0m\u001b[0;34m)\u001b[0m\u001b[0;34m\u001b[0m\u001b[0;34m\u001b[0m\u001b[0m\n\u001b[0m\u001b[1;32m     62\u001b[0m \u001b[0;34m\u001b[0m\u001b[0m\n\u001b[1;32m     63\u001b[0m \u001b[0;34m\u001b[0m\u001b[0m\n",
      "\u001b[0;32m/usr/local/lib/python3.8/site-packages/requests/sessions.py\u001b[0m in \u001b[0;36mrequest\u001b[0;34m(self, method, url, params, data, headers, cookies, files, auth, timeout, allow_redirects, proxies, hooks, stream, verify, cert, json)\u001b[0m\n\u001b[1;32m    528\u001b[0m         }\n\u001b[1;32m    529\u001b[0m         \u001b[0msend_kwargs\u001b[0m\u001b[0;34m.\u001b[0m\u001b[0mupdate\u001b[0m\u001b[0;34m(\u001b[0m\u001b[0msettings\u001b[0m\u001b[0;34m)\u001b[0m\u001b[0;34m\u001b[0m\u001b[0;34m\u001b[0m\u001b[0m\n\u001b[0;32m--> 530\u001b[0;31m         \u001b[0mresp\u001b[0m \u001b[0;34m=\u001b[0m \u001b[0mself\u001b[0m\u001b[0;34m.\u001b[0m\u001b[0msend\u001b[0m\u001b[0;34m(\u001b[0m\u001b[0mprep\u001b[0m\u001b[0;34m,\u001b[0m \u001b[0;34m**\u001b[0m\u001b[0msend_kwargs\u001b[0m\u001b[0;34m)\u001b[0m\u001b[0;34m\u001b[0m\u001b[0;34m\u001b[0m\u001b[0m\n\u001b[0m\u001b[1;32m    531\u001b[0m \u001b[0;34m\u001b[0m\u001b[0m\n\u001b[1;32m    532\u001b[0m         \u001b[0;32mreturn\u001b[0m \u001b[0mresp\u001b[0m\u001b[0;34m\u001b[0m\u001b[0;34m\u001b[0m\u001b[0m\n",
      "\u001b[0;32m/usr/local/lib/python3.8/site-packages/requests/sessions.py\u001b[0m in \u001b[0;36msend\u001b[0;34m(self, request, **kwargs)\u001b[0m\n\u001b[1;32m    663\u001b[0m             \u001b[0;31m# Redirect resolving generator.\u001b[0m\u001b[0;34m\u001b[0m\u001b[0;34m\u001b[0m\u001b[0;34m\u001b[0m\u001b[0m\n\u001b[1;32m    664\u001b[0m             \u001b[0mgen\u001b[0m \u001b[0;34m=\u001b[0m \u001b[0mself\u001b[0m\u001b[0;34m.\u001b[0m\u001b[0mresolve_redirects\u001b[0m\u001b[0;34m(\u001b[0m\u001b[0mr\u001b[0m\u001b[0;34m,\u001b[0m \u001b[0mrequest\u001b[0m\u001b[0;34m,\u001b[0m \u001b[0;34m**\u001b[0m\u001b[0mkwargs\u001b[0m\u001b[0;34m)\u001b[0m\u001b[0;34m\u001b[0m\u001b[0;34m\u001b[0m\u001b[0m\n\u001b[0;32m--> 665\u001b[0;31m             \u001b[0mhistory\u001b[0m \u001b[0;34m=\u001b[0m \u001b[0;34m[\u001b[0m\u001b[0mresp\u001b[0m \u001b[0;32mfor\u001b[0m \u001b[0mresp\u001b[0m \u001b[0;32min\u001b[0m \u001b[0mgen\u001b[0m\u001b[0;34m]\u001b[0m\u001b[0;34m\u001b[0m\u001b[0;34m\u001b[0m\u001b[0m\n\u001b[0m\u001b[1;32m    666\u001b[0m         \u001b[0;32melse\u001b[0m\u001b[0;34m:\u001b[0m\u001b[0;34m\u001b[0m\u001b[0;34m\u001b[0m\u001b[0m\n\u001b[1;32m    667\u001b[0m             \u001b[0mhistory\u001b[0m \u001b[0;34m=\u001b[0m \u001b[0;34m[\u001b[0m\u001b[0;34m]\u001b[0m\u001b[0;34m\u001b[0m\u001b[0;34m\u001b[0m\u001b[0m\n",
      "\u001b[0;32m/usr/local/lib/python3.8/site-packages/requests/sessions.py\u001b[0m in \u001b[0;36m<listcomp>\u001b[0;34m(.0)\u001b[0m\n\u001b[1;32m    663\u001b[0m             \u001b[0;31m# Redirect resolving generator.\u001b[0m\u001b[0;34m\u001b[0m\u001b[0;34m\u001b[0m\u001b[0;34m\u001b[0m\u001b[0m\n\u001b[1;32m    664\u001b[0m             \u001b[0mgen\u001b[0m \u001b[0;34m=\u001b[0m \u001b[0mself\u001b[0m\u001b[0;34m.\u001b[0m\u001b[0mresolve_redirects\u001b[0m\u001b[0;34m(\u001b[0m\u001b[0mr\u001b[0m\u001b[0;34m,\u001b[0m \u001b[0mrequest\u001b[0m\u001b[0;34m,\u001b[0m \u001b[0;34m**\u001b[0m\u001b[0mkwargs\u001b[0m\u001b[0;34m)\u001b[0m\u001b[0;34m\u001b[0m\u001b[0;34m\u001b[0m\u001b[0m\n\u001b[0;32m--> 665\u001b[0;31m             \u001b[0mhistory\u001b[0m \u001b[0;34m=\u001b[0m \u001b[0;34m[\u001b[0m\u001b[0mresp\u001b[0m \u001b[0;32mfor\u001b[0m \u001b[0mresp\u001b[0m \u001b[0;32min\u001b[0m \u001b[0mgen\u001b[0m\u001b[0;34m]\u001b[0m\u001b[0;34m\u001b[0m\u001b[0;34m\u001b[0m\u001b[0m\n\u001b[0m\u001b[1;32m    666\u001b[0m         \u001b[0;32melse\u001b[0m\u001b[0;34m:\u001b[0m\u001b[0;34m\u001b[0m\u001b[0;34m\u001b[0m\u001b[0m\n\u001b[1;32m    667\u001b[0m             \u001b[0mhistory\u001b[0m \u001b[0;34m=\u001b[0m \u001b[0;34m[\u001b[0m\u001b[0;34m]\u001b[0m\u001b[0;34m\u001b[0m\u001b[0;34m\u001b[0m\u001b[0m\n",
      "\u001b[0;32m/usr/local/lib/python3.8/site-packages/requests/sessions.py\u001b[0m in \u001b[0;36mresolve_redirects\u001b[0;34m(self, resp, req, stream, timeout, verify, cert, proxies, yield_requests, **adapter_kwargs)\u001b[0m\n\u001b[1;32m    235\u001b[0m             \u001b[0;32melse\u001b[0m\u001b[0;34m:\u001b[0m\u001b[0;34m\u001b[0m\u001b[0;34m\u001b[0m\u001b[0m\n\u001b[1;32m    236\u001b[0m \u001b[0;34m\u001b[0m\u001b[0m\n\u001b[0;32m--> 237\u001b[0;31m                 resp = self.send(\n\u001b[0m\u001b[1;32m    238\u001b[0m                     \u001b[0mreq\u001b[0m\u001b[0;34m,\u001b[0m\u001b[0;34m\u001b[0m\u001b[0;34m\u001b[0m\u001b[0m\n\u001b[1;32m    239\u001b[0m                     \u001b[0mstream\u001b[0m\u001b[0;34m=\u001b[0m\u001b[0mstream\u001b[0m\u001b[0;34m,\u001b[0m\u001b[0;34m\u001b[0m\u001b[0;34m\u001b[0m\u001b[0m\n",
      "\u001b[0;32m/usr/local/lib/python3.8/site-packages/requests/sessions.py\u001b[0m in \u001b[0;36msend\u001b[0;34m(self, request, **kwargs)\u001b[0m\n\u001b[1;32m    641\u001b[0m \u001b[0;34m\u001b[0m\u001b[0m\n\u001b[1;32m    642\u001b[0m         \u001b[0;31m# Send the request\u001b[0m\u001b[0;34m\u001b[0m\u001b[0;34m\u001b[0m\u001b[0;34m\u001b[0m\u001b[0m\n\u001b[0;32m--> 643\u001b[0;31m         \u001b[0mr\u001b[0m \u001b[0;34m=\u001b[0m \u001b[0madapter\u001b[0m\u001b[0;34m.\u001b[0m\u001b[0msend\u001b[0m\u001b[0;34m(\u001b[0m\u001b[0mrequest\u001b[0m\u001b[0;34m,\u001b[0m \u001b[0;34m**\u001b[0m\u001b[0mkwargs\u001b[0m\u001b[0;34m)\u001b[0m\u001b[0;34m\u001b[0m\u001b[0;34m\u001b[0m\u001b[0m\n\u001b[0m\u001b[1;32m    644\u001b[0m \u001b[0;34m\u001b[0m\u001b[0m\n\u001b[1;32m    645\u001b[0m         \u001b[0;31m# Total elapsed time of the request (approximately)\u001b[0m\u001b[0;34m\u001b[0m\u001b[0;34m\u001b[0m\u001b[0;34m\u001b[0m\u001b[0m\n",
      "\u001b[0;32m/usr/local/lib/python3.8/site-packages/requests/adapters.py\u001b[0m in \u001b[0;36msend\u001b[0;34m(self, request, stream, timeout, verify, cert, proxies)\u001b[0m\n\u001b[1;32m    437\u001b[0m         \u001b[0;32mtry\u001b[0m\u001b[0;34m:\u001b[0m\u001b[0;34m\u001b[0m\u001b[0;34m\u001b[0m\u001b[0m\n\u001b[1;32m    438\u001b[0m             \u001b[0;32mif\u001b[0m \u001b[0;32mnot\u001b[0m \u001b[0mchunked\u001b[0m\u001b[0;34m:\u001b[0m\u001b[0;34m\u001b[0m\u001b[0;34m\u001b[0m\u001b[0m\n\u001b[0;32m--> 439\u001b[0;31m                 resp = conn.urlopen(\n\u001b[0m\u001b[1;32m    440\u001b[0m                     \u001b[0mmethod\u001b[0m\u001b[0;34m=\u001b[0m\u001b[0mrequest\u001b[0m\u001b[0;34m.\u001b[0m\u001b[0mmethod\u001b[0m\u001b[0;34m,\u001b[0m\u001b[0;34m\u001b[0m\u001b[0;34m\u001b[0m\u001b[0m\n\u001b[1;32m    441\u001b[0m                     \u001b[0murl\u001b[0m\u001b[0;34m=\u001b[0m\u001b[0murl\u001b[0m\u001b[0;34m,\u001b[0m\u001b[0;34m\u001b[0m\u001b[0;34m\u001b[0m\u001b[0m\n",
      "\u001b[0;32m/usr/local/lib/python3.8/site-packages/urllib3/connectionpool.py\u001b[0m in \u001b[0;36murlopen\u001b[0;34m(self, method, url, body, headers, retries, redirect, assert_same_host, timeout, pool_timeout, release_conn, chunked, body_pos, **response_kw)\u001b[0m\n\u001b[1;32m    497\u001b[0m         \u001b[0;32mreturn\u001b[0m \u001b[0;34m(\u001b[0m\u001b[0mscheme\u001b[0m\u001b[0;34m,\u001b[0m \u001b[0mhost\u001b[0m\u001b[0;34m,\u001b[0m \u001b[0mport\u001b[0m\u001b[0;34m)\u001b[0m \u001b[0;34m==\u001b[0m \u001b[0;34m(\u001b[0m\u001b[0mself\u001b[0m\u001b[0;34m.\u001b[0m\u001b[0mscheme\u001b[0m\u001b[0;34m,\u001b[0m \u001b[0mself\u001b[0m\u001b[0;34m.\u001b[0m\u001b[0mhost\u001b[0m\u001b[0;34m,\u001b[0m \u001b[0mself\u001b[0m\u001b[0;34m.\u001b[0m\u001b[0mport\u001b[0m\u001b[0;34m)\u001b[0m\u001b[0;34m\u001b[0m\u001b[0;34m\u001b[0m\u001b[0m\n\u001b[1;32m    498\u001b[0m \u001b[0;34m\u001b[0m\u001b[0m\n\u001b[0;32m--> 499\u001b[0;31m     def urlopen(\n\u001b[0m\u001b[1;32m    500\u001b[0m         \u001b[0mself\u001b[0m\u001b[0;34m,\u001b[0m\u001b[0;34m\u001b[0m\u001b[0;34m\u001b[0m\u001b[0m\n\u001b[1;32m    501\u001b[0m         \u001b[0mmethod\u001b[0m\u001b[0;34m,\u001b[0m\u001b[0;34m\u001b[0m\u001b[0;34m\u001b[0m\u001b[0m\n",
      "\u001b[0;31mKeyboardInterrupt\u001b[0m: "
     ]
    }
   ],
   "source": [
    "max_page = 100000\n",
    "for page_type in page_types:\n",
    "    articles_page_type = []\n",
    "    boolean = True\n",
    "    print(page_type)\n",
    "    while boolean:\n",
    "        for page_number in tqdm(range(1, max_page)):\n",
    "            page_link = page_type + f\"page/{page_number}\"\n",
    "\n",
    "            try:\n",
    "                response = requests.get(page_link)\n",
    "            except TimeoutError or ConnectionError:\n",
    "                print(page_link)\n",
    "                pass\n",
    "\n",
    "            soup = BeautifulSoup(response.text, \"html.parser\")\n",
    "            articles = soup.find_all(\"a\", class_=\"m-articleWidget__linkImgWrap\")\n",
    "            articles_page_type = articles_page_type + [\n",
    "                article.get(\"href\") for article in articles\n",
    "            ]\n",
    "\n",
    "            if soup.find(attrs={\"class\": \"next page-numbers\"}) == None:\n",
    "                boolean = False\n",
    "                break\n",
    "    df = pd.DataFrame(articles_long).drop_duplicates()\n",
    "    df.to_pickle(\"data/links/24/24_{page_type}.pkl\".format(page_type=page_type))"
   ]
  },
  {
   "cell_type": "code",
   "execution_count": 122,
   "metadata": {},
   "outputs": [],
   "source": [
    "link_list = os.listdir(data_dir + \"links/24\")"
   ]
  },
  {
   "cell_type": "code",
   "execution_count": 123,
   "metadata": {},
   "outputs": [],
   "source": [
    "df = pd.DataFrame()\n",
    "for cat in link_list:\n",
    "    df = pd.concat([df, pd.read_pickle(data_dir + \"links/24/\" + cat)])"
   ]
  },
  {
   "cell_type": "code",
   "execution_count": 124,
   "metadata": {},
   "outputs": [],
   "source": [
    "df = df.rename(columns={0: \"link\"}).loc[\n",
    "    lambda x: x[\"link\"]\n",
    "    != \"/?utm_source=24.hu&utm_medium=banner&utm_campaign=24.hu_right_side\"\n",
    "].drop_duplicates(subset=[\"link\"]).reset_index(drop=True)\n",
    "df[\"rovat\"] = df[\"link\"].str.split(\"/\").apply(lambda x: x[3])"
   ]
  },
  {
   "cell_type": "code",
   "execution_count": 125,
   "metadata": {},
   "outputs": [],
   "source": [
    "df = df.loc[\n",
    "    df[\"rovat\"] != \"?utm_source=24.hu&utm_medium=banner&utm_campaign=24.hu_right_side\"\n",
    "].reset_index(drop=True)"
   ]
  },
  {
   "cell_type": "code",
   "execution_count": 126,
   "metadata": {},
   "outputs": [],
   "source": [
    "df[\"date\"] = df[\"link\"].str.split(\"-\").apply(lambda x: x[0]).str.split(\"/\").apply(\n",
    "    lambda x: \"-\".join(x[-4:-1])\n",
    ")  # .apply(lambda x: dt.strptime(\"/\".join(x[-4:-1]), \"%Y/%m/%d\")8"
   ]
  },
  {
   "cell_type": "code",
   "execution_count": 127,
   "metadata": {},
   "outputs": [],
   "source": [
    "df.loc[df[\"rovat\"] == \"fn\", \"date\"] = (\n",
    "    df.loc[df[\"rovat\"] == \"fn\", \"link\"].str.split(\"/\").apply(lambda x: \"-\".join(x[5:8]))\n",
    ")"
   ]
  },
  {
   "cell_type": "code",
   "execution_count": 128,
   "metadata": {},
   "outputs": [],
   "source": [
    "df.loc[df[\"date\"] == \"https:--24.hu\", \"date\"] = (\n",
    "    df.loc[df[\"date\"] == \"https:--24.hu\", \"link\"]\n",
    "    .str.split(\"/\")\n",
    "    .apply(lambda x: \"-\".join(x[4:7]))\n",
    ")"
   ]
  },
  {
   "cell_type": "code",
   "execution_count": 129,
   "metadata": {},
   "outputs": [],
   "source": [
    "df[\"year\"] = df[\"date\"].apply(lambda x: x[0:4])"
   ]
  },
  {
   "cell_type": "code",
   "execution_count": 130,
   "metadata": {},
   "outputs": [],
   "source": [
    "df.loc[~df[\"year\"].apply(str.isdigit), \"date\"] = (\n",
    "    df.loc[~df[\"year\"].apply(str.isdigit), \"link\"]\n",
    "    .str.split(\"/\")\n",
    "    .apply(lambda x: \"-\".join(x[4:7]))\n",
    ")"
   ]
  },
  {
   "cell_type": "code",
   "execution_count": 131,
   "metadata": {},
   "outputs": [],
   "source": [
    "df[\"year\"] = df[\"date\"].apply(lambda x: x[0:4])\n",
    "\n",
    "df[\"month\"]= df[\"date\"].apply(lambda x: x[5:7])"
   ]
  },
  {
   "cell_type": "code",
   "execution_count": 135,
   "metadata": {},
   "outputs": [],
   "source": [
    "df.to_csv(data_dir + \"links/24_links_all.csv\")"
   ]
  },
  {
   "cell_type": "code",
   "execution_count": 119,
   "metadata": {},
   "outputs": [
    {
     "data": {
      "text/html": [
       "<div>\n",
       "<style scoped>\n",
       "    .dataframe tbody tr th:only-of-type {\n",
       "        vertical-align: middle;\n",
       "    }\n",
       "\n",
       "    .dataframe tbody tr th {\n",
       "        vertical-align: top;\n",
       "    }\n",
       "\n",
       "    .dataframe thead th {\n",
       "        text-align: right;\n",
       "    }\n",
       "</style>\n",
       "<table border=\"1\" class=\"dataframe\">\n",
       "  <thead>\n",
       "    <tr style=\"text-align: right;\">\n",
       "      <th></th>\n",
       "      <th>link</th>\n",
       "      <th>rovat</th>\n",
       "      <th>date</th>\n",
       "      <th>year</th>\n",
       "      <th>month</th>\n",
       "    </tr>\n",
       "  </thead>\n",
       "  <tbody>\n",
       "    <tr>\n",
       "      <th>0</th>\n",
       "      <td>https://24.hu/kozelet/2021/01/13/nem-volt-hete...</td>\n",
       "      <td>kozelet</td>\n",
       "      <td>2021-01-13</td>\n",
       "      <td>2021</td>\n",
       "      <td>1</td>\n",
       "    </tr>\n",
       "    <tr>\n",
       "      <th>1</th>\n",
       "      <td>https://24.hu/kozelet/2021/01/12/jobbik-szabo-...</td>\n",
       "      <td>kozelet</td>\n",
       "      <td>2021-01-12</td>\n",
       "      <td>2021</td>\n",
       "      <td>1</td>\n",
       "    </tr>\n",
       "    <tr>\n",
       "      <th>2</th>\n",
       "      <td>https://24.hu/kozelet/2021/01/12/palkovics-las...</td>\n",
       "      <td>kozelet</td>\n",
       "      <td>2021-01-12</td>\n",
       "      <td>2021</td>\n",
       "      <td>1</td>\n",
       "    </tr>\n",
       "    <tr>\n",
       "      <th>3</th>\n",
       "      <td>https://24.hu/kozelet/2021/01/10/gyarmati-andr...</td>\n",
       "      <td>kozelet</td>\n",
       "      <td>2021-01-10</td>\n",
       "      <td>2021</td>\n",
       "      <td>1</td>\n",
       "    </tr>\n",
       "    <tr>\n",
       "      <th>4</th>\n",
       "      <td>https://24.hu/kozelet/2021/01/10/szegyen-szegy...</td>\n",
       "      <td>kozelet</td>\n",
       "      <td>2021-01-10</td>\n",
       "      <td>2021</td>\n",
       "      <td>1</td>\n",
       "    </tr>\n",
       "    <tr>\n",
       "      <th>...</th>\n",
       "      <td>...</td>\n",
       "      <td>...</td>\n",
       "      <td>...</td>\n",
       "      <td>...</td>\n",
       "      <td>...</td>\n",
       "    </tr>\n",
       "    <tr>\n",
       "      <th>248085</th>\n",
       "      <td>https://24.hu/otthon/2017/05/04/sajat-kezuleg-...</td>\n",
       "      <td>otthon</td>\n",
       "      <td>2017-05-04</td>\n",
       "      <td>2017</td>\n",
       "      <td>5</td>\n",
       "    </tr>\n",
       "    <tr>\n",
       "      <th>248086</th>\n",
       "      <td>https://24.hu/otthon/2017/05/04/elso-latasra-s...</td>\n",
       "      <td>otthon</td>\n",
       "      <td>2017-05-04</td>\n",
       "      <td>2017</td>\n",
       "      <td>5</td>\n",
       "    </tr>\n",
       "    <tr>\n",
       "      <th>248087</th>\n",
       "      <td>https://24.hu/otthon/2017/05/03/oreg-garazsbol...</td>\n",
       "      <td>otthon</td>\n",
       "      <td>2017-05-03</td>\n",
       "      <td>2017</td>\n",
       "      <td>5</td>\n",
       "    </tr>\n",
       "    <tr>\n",
       "      <th>248088</th>\n",
       "      <td>https://24.hu/otthon/2017/05/02/hoditanak-az-o...</td>\n",
       "      <td>otthon</td>\n",
       "      <td>2017-05-02</td>\n",
       "      <td>2017</td>\n",
       "      <td>5</td>\n",
       "    </tr>\n",
       "    <tr>\n",
       "      <th>248089</th>\n",
       "      <td>https://24.hu/otthon/2017/05/01/hordozhato-ker...</td>\n",
       "      <td>otthon</td>\n",
       "      <td>2017-05-01</td>\n",
       "      <td>2017</td>\n",
       "      <td>5</td>\n",
       "    </tr>\n",
       "  </tbody>\n",
       "</table>\n",
       "<p>248090 rows × 5 columns</p>\n",
       "</div>"
      ],
      "text/plain": [
       "                                                     link    rovat  \\\n",
       "0       https://24.hu/kozelet/2021/01/13/nem-volt-hete...  kozelet   \n",
       "1       https://24.hu/kozelet/2021/01/12/jobbik-szabo-...  kozelet   \n",
       "2       https://24.hu/kozelet/2021/01/12/palkovics-las...  kozelet   \n",
       "3       https://24.hu/kozelet/2021/01/10/gyarmati-andr...  kozelet   \n",
       "4       https://24.hu/kozelet/2021/01/10/szegyen-szegy...  kozelet   \n",
       "...                                                   ...      ...   \n",
       "248085  https://24.hu/otthon/2017/05/04/sajat-kezuleg-...   otthon   \n",
       "248086  https://24.hu/otthon/2017/05/04/elso-latasra-s...   otthon   \n",
       "248087  https://24.hu/otthon/2017/05/03/oreg-garazsbol...   otthon   \n",
       "248088  https://24.hu/otthon/2017/05/02/hoditanak-az-o...   otthon   \n",
       "248089  https://24.hu/otthon/2017/05/01/hordozhato-ker...   otthon   \n",
       "\n",
       "              date  year  month  \n",
       "0       2021-01-13  2021      1  \n",
       "1       2021-01-12  2021      1  \n",
       "2       2021-01-12  2021      1  \n",
       "3       2021-01-10  2021      1  \n",
       "4       2021-01-10  2021      1  \n",
       "...            ...   ...    ...  \n",
       "248085  2017-05-04  2017      5  \n",
       "248086  2017-05-04  2017      5  \n",
       "248087  2017-05-03  2017      5  \n",
       "248088  2017-05-02  2017      5  \n",
       "248089  2017-05-01  2017      5  \n",
       "\n",
       "[248090 rows x 5 columns]"
      ]
     },
     "execution_count": 119,
     "metadata": {},
     "output_type": "execute_result"
    }
   ],
   "source": [
    "df"
   ]
  },
  {
   "cell_type": "markdown",
   "metadata": {},
   "source": [
    "## 444"
   ]
  },
  {
   "cell_type": "code",
   "execution_count": 137,
   "metadata": {},
   "outputs": [],
   "source": [
    "df = pd.read_pickle(data_dir +\"links/444_all_links.pkl\")"
   ]
  },
  {
   "cell_type": "code",
   "execution_count": 139,
   "metadata": {},
   "outputs": [],
   "source": [
    "df.to_csv(data_dir +\"links/444_all_links.csv\")"
   ]
  },
  {
   "cell_type": "code",
   "execution_count": null,
   "metadata": {},
   "outputs": [],
   "source": [
    "articles = []\n",
    "for i in tqdm(range(6, 330)):\n",
    "    page = f\"https://444.hu/archivum?page={i}\"\n",
    "    soup = BeautifulSoup(requests.get(page).text, \"html.parser\")\n",
    "    articles = articles + [article.get(\"href\") for article in soup.select(\"h3 a\")]"
   ]
  },
  {
   "cell_type": "code",
   "execution_count": null,
   "metadata": {},
   "outputs": [],
   "source": [
    "df = df.assign(year = df[0].str[15:19]).rename(columns={0:\"link\"})\n",
    "df[\"year\"] = df[\"year\"].apply(int)\n",
    "df = df.loc[df[\"year\"] == 2020].reset_index(drop=True)"
   ]
  },
  {
   "cell_type": "code",
   "execution_count": null,
   "metadata": {},
   "outputs": [],
   "source": [
    "df[\"date\"] = df[\"link\"].str[15:25].apply(lambda x: dt.strptime(x, \"%Y/%m/%d\"))\n",
    "df[\"month\"] = df[\"link\"].str[20:22].apply(int)"
   ]
  },
  {
   "cell_type": "code",
   "execution_count": null,
   "metadata": {},
   "outputs": [],
   "source": [
    "df.to_pickle(\"data/444_all_links_2020.pkl\")"
   ]
  },
  {
   "cell_type": "markdown",
   "metadata": {},
   "source": [
    "___"
   ]
  },
  {
   "cell_type": "markdown",
   "metadata": {},
   "source": [
    "## MNO"
   ]
  },
  {
   "cell_type": "code",
   "execution_count": 154,
   "metadata": {},
   "outputs": [
    {
     "data": {
      "application/vnd.jupyter.widget-view+json": {
       "model_id": "cfcbcda26fbe464d8dcfe4ac5373e5cb",
       "version_major": 2,
       "version_minor": 0
      },
      "text/plain": [
       "HBox(children=(FloatProgress(value=0.0, max=286.0), HTML(value='')))"
      ]
     },
     "metadata": {},
     "output_type": "display_data"
    },
    {
     "name": "stdout",
     "output_type": "stream",
     "text": [
      "\n"
     ]
    }
   ],
   "source": [
    "articles = []\n",
    "for i in tqdm(range(1993, 2279)):\n",
    "    page = f\"https://magyarnemzet.hu/page/{i}/?after=2020-01-01&author&before=2020-12-31&category=0&s\"\n",
    "    soup = BeautifulSoup(requests.get(page).text, \"html.parser\")\n",
    "    articles = articles + [article.get(\"href\") for article in soup.select(\"h2 a\")]"
   ]
  },
  {
   "cell_type": "code",
   "execution_count": 150,
   "metadata": {},
   "outputs": [
    {
     "data": {
      "text/plain": [
       "1993"
      ]
     },
     "execution_count": 150,
     "metadata": {},
     "output_type": "execute_result"
    }
   ],
   "source": [
    "i"
   ]
  },
  {
   "cell_type": "code",
   "execution_count": 155,
   "metadata": {},
   "outputs": [],
   "source": [
    "df_3 = pd.DataFrame(articles, columns=[\"link\"])"
   ]
  },
  {
   "cell_type": "code",
   "execution_count": 149,
   "metadata": {},
   "outputs": [],
   "source": [
    "df_1 = df.drop_duplicates(\"link\")"
   ]
  },
  {
   "cell_type": "code",
   "execution_count": 153,
   "metadata": {},
   "outputs": [
    {
     "data": {
      "text/html": [
       "<div>\n",
       "<style scoped>\n",
       "    .dataframe tbody tr th:only-of-type {\n",
       "        vertical-align: middle;\n",
       "    }\n",
       "\n",
       "    .dataframe tbody tr th {\n",
       "        vertical-align: top;\n",
       "    }\n",
       "\n",
       "    .dataframe thead th {\n",
       "        text-align: right;\n",
       "    }\n",
       "</style>\n",
       "<table border=\"1\" class=\"dataframe\">\n",
       "  <thead>\n",
       "    <tr style=\"text-align: right;\">\n",
       "      <th></th>\n",
       "      <th>link</th>\n",
       "    </tr>\n",
       "  </thead>\n",
       "  <tbody>\n",
       "    <tr>\n",
       "      <th>0</th>\n",
       "      <td>https://magyarnemzet.hu/belfold/ader-janos-hat...</td>\n",
       "    </tr>\n",
       "    <tr>\n",
       "      <th>1</th>\n",
       "      <td>https://magyarnemzet.hu/belfold/egy-polgarmest...</td>\n",
       "    </tr>\n",
       "    <tr>\n",
       "      <th>2</th>\n",
       "      <td>https://magyarnemzet.hu/mindmegette/szilveszte...</td>\n",
       "    </tr>\n",
       "    <tr>\n",
       "      <th>3</th>\n",
       "      <td>https://magyarnemzet.hu/belfold/kariko-katalin...</td>\n",
       "    </tr>\n",
       "    <tr>\n",
       "      <th>4</th>\n",
       "      <td>https://magyarnemzet.hu/belfold/meghalt-mondok...</td>\n",
       "    </tr>\n",
       "    <tr>\n",
       "      <th>...</th>\n",
       "      <td>...</td>\n",
       "    </tr>\n",
       "    <tr>\n",
       "      <th>24080</th>\n",
       "      <td>https://magyarnemzet.hu/belfold/szijjarto-nem-...</td>\n",
       "    </tr>\n",
       "    <tr>\n",
       "      <th>24081</th>\n",
       "      <td>https://magyarnemzet.hu/kulfold/orban-viktor-l...</td>\n",
       "    </tr>\n",
       "    <tr>\n",
       "      <th>24082</th>\n",
       "      <td>https://magyarnemzet.hu/mozaik/hamarosan-nyit-...</td>\n",
       "    </tr>\n",
       "    <tr>\n",
       "      <th>24083</th>\n",
       "      <td>https://magyarnemzet.hu/belfold/a-lakossag-sze...</td>\n",
       "    </tr>\n",
       "    <tr>\n",
       "      <th>24084</th>\n",
       "      <td>https://magyarnemzet.hu/velemeny/a-szinhazcsin...</td>\n",
       "    </tr>\n",
       "  </tbody>\n",
       "</table>\n",
       "<p>24085 rows × 1 columns</p>\n",
       "</div>"
      ],
      "text/plain": [
       "                                                    link\n",
       "0      https://magyarnemzet.hu/belfold/ader-janos-hat...\n",
       "1      https://magyarnemzet.hu/belfold/egy-polgarmest...\n",
       "2      https://magyarnemzet.hu/mindmegette/szilveszte...\n",
       "3      https://magyarnemzet.hu/belfold/kariko-katalin...\n",
       "4      https://magyarnemzet.hu/belfold/meghalt-mondok...\n",
       "...                                                  ...\n",
       "24080  https://magyarnemzet.hu/belfold/szijjarto-nem-...\n",
       "24081  https://magyarnemzet.hu/kulfold/orban-viktor-l...\n",
       "24082  https://magyarnemzet.hu/mozaik/hamarosan-nyit-...\n",
       "24083  https://magyarnemzet.hu/belfold/a-lakossag-sze...\n",
       "24084  https://magyarnemzet.hu/velemeny/a-szinhazcsin...\n",
       "\n",
       "[24085 rows x 1 columns]"
      ]
     },
     "execution_count": 153,
     "metadata": {},
     "output_type": "execute_result"
    }
   ],
   "source": [
    "df_1"
   ]
  },
  {
   "cell_type": "code",
   "execution_count": 158,
   "metadata": {},
   "outputs": [],
   "source": [
    "df_all = pd.concat([df_1,df_2,df_3]).reset_index(drop=True)"
   ]
  },
  {
   "cell_type": "code",
   "execution_count": 161,
   "metadata": {},
   "outputs": [
    {
     "data": {
      "text/plain": [
       "'/Users/vigadam/Documents/github/media_network/data/'"
      ]
     },
     "execution_count": 161,
     "metadata": {},
     "output_type": "execute_result"
    }
   ],
   "source": [
    "data_dir"
   ]
  },
  {
   "cell_type": "code",
   "execution_count": 162,
   "metadata": {},
   "outputs": [],
   "source": [
    "df_all.to_pickle(data_dir+\"links/mno_2020_links.pkl\")"
   ]
  },
  {
   "cell_type": "code",
   "execution_count": 164,
   "metadata": {},
   "outputs": [],
   "source": [
    "df = df_all.copy()"
   ]
  },
  {
   "cell_type": "code",
   "execution_count": 165,
   "metadata": {},
   "outputs": [],
   "source": [
    "df[\"rovat\"] = df[\"link\"].str.split(\"/\").apply(lambda x: x[3])"
   ]
  },
  {
   "cell_type": "code",
   "execution_count": 166,
   "metadata": {},
   "outputs": [
    {
     "data": {
      "text/html": [
       "<div>\n",
       "<style scoped>\n",
       "    .dataframe tbody tr th:only-of-type {\n",
       "        vertical-align: middle;\n",
       "    }\n",
       "\n",
       "    .dataframe tbody tr th {\n",
       "        vertical-align: top;\n",
       "    }\n",
       "\n",
       "    .dataframe thead th {\n",
       "        text-align: right;\n",
       "    }\n",
       "</style>\n",
       "<table border=\"1\" class=\"dataframe\">\n",
       "  <thead>\n",
       "    <tr style=\"text-align: right;\">\n",
       "      <th></th>\n",
       "      <th>link</th>\n",
       "      <th>rovat</th>\n",
       "    </tr>\n",
       "  </thead>\n",
       "  <tbody>\n",
       "    <tr>\n",
       "      <th>0</th>\n",
       "      <td>https://magyarnemzet.hu/belfold/ader-janos-hat...</td>\n",
       "      <td>belfold</td>\n",
       "    </tr>\n",
       "    <tr>\n",
       "      <th>1</th>\n",
       "      <td>https://magyarnemzet.hu/belfold/egy-polgarmest...</td>\n",
       "      <td>belfold</td>\n",
       "    </tr>\n",
       "    <tr>\n",
       "      <th>2</th>\n",
       "      <td>https://magyarnemzet.hu/mindmegette/szilveszte...</td>\n",
       "      <td>mindmegette</td>\n",
       "    </tr>\n",
       "    <tr>\n",
       "      <th>3</th>\n",
       "      <td>https://magyarnemzet.hu/belfold/kariko-katalin...</td>\n",
       "      <td>belfold</td>\n",
       "    </tr>\n",
       "    <tr>\n",
       "      <th>4</th>\n",
       "      <td>https://magyarnemzet.hu/belfold/meghalt-mondok...</td>\n",
       "      <td>belfold</td>\n",
       "    </tr>\n",
       "    <tr>\n",
       "      <th>...</th>\n",
       "      <td>...</td>\n",
       "      <td>...</td>\n",
       "    </tr>\n",
       "    <tr>\n",
       "      <th>45500</th>\n",
       "      <td>https://magyarnemzet.hu/sport/koman-golpasszai...</td>\n",
       "      <td>sport</td>\n",
       "    </tr>\n",
       "    <tr>\n",
       "      <th>45501</th>\n",
       "      <td>https://magyarnemzet.hu/belfold/kislany-az-els...</td>\n",
       "      <td>belfold</td>\n",
       "    </tr>\n",
       "    <tr>\n",
       "      <th>45502</th>\n",
       "      <td>https://magyarnemzet.hu/gazdasag/folytatodik-a...</td>\n",
       "      <td>gazdasag</td>\n",
       "    </tr>\n",
       "    <tr>\n",
       "      <th>45503</th>\n",
       "      <td>https://magyarnemzet.hu/belfold/gyalogosokat-g...</td>\n",
       "      <td>belfold</td>\n",
       "    </tr>\n",
       "    <tr>\n",
       "      <th>45504</th>\n",
       "      <td>https://magyarnemzet.hu/kultura/osszegzes-a-fo...</td>\n",
       "      <td>kultura</td>\n",
       "    </tr>\n",
       "  </tbody>\n",
       "</table>\n",
       "<p>45505 rows × 2 columns</p>\n",
       "</div>"
      ],
      "text/plain": [
       "                                                    link        rovat\n",
       "0      https://magyarnemzet.hu/belfold/ader-janos-hat...      belfold\n",
       "1      https://magyarnemzet.hu/belfold/egy-polgarmest...      belfold\n",
       "2      https://magyarnemzet.hu/mindmegette/szilveszte...  mindmegette\n",
       "3      https://magyarnemzet.hu/belfold/kariko-katalin...      belfold\n",
       "4      https://magyarnemzet.hu/belfold/meghalt-mondok...      belfold\n",
       "...                                                  ...          ...\n",
       "45500  https://magyarnemzet.hu/sport/koman-golpasszai...        sport\n",
       "45501  https://magyarnemzet.hu/belfold/kislany-az-els...      belfold\n",
       "45502  https://magyarnemzet.hu/gazdasag/folytatodik-a...     gazdasag\n",
       "45503  https://magyarnemzet.hu/belfold/gyalogosokat-g...      belfold\n",
       "45504  https://magyarnemzet.hu/kultura/osszegzes-a-fo...      kultura\n",
       "\n",
       "[45505 rows x 2 columns]"
      ]
     },
     "execution_count": 166,
     "metadata": {},
     "output_type": "execute_result"
    }
   ],
   "source": [
    "df"
   ]
  },
  {
   "cell_type": "code",
   "execution_count": 167,
   "metadata": {},
   "outputs": [],
   "source": [
    "df[\"felosztas\"] = [round(np.random.uniform(1, 45)) for i in range(df.shape[0])]"
   ]
  },
  {
   "cell_type": "code",
   "execution_count": 170,
   "metadata": {},
   "outputs": [],
   "source": [
    "df.to_csv(data_dir + \"links/mno_all_links.csv\")"
   ]
  },
  {
   "cell_type": "code",
   "execution_count": 172,
   "metadata": {},
   "outputs": [
    {
     "data": {
      "text/html": [
       "<div>\n",
       "<style scoped>\n",
       "    .dataframe tbody tr th:only-of-type {\n",
       "        vertical-align: middle;\n",
       "    }\n",
       "\n",
       "    .dataframe tbody tr th {\n",
       "        vertical-align: top;\n",
       "    }\n",
       "\n",
       "    .dataframe thead th {\n",
       "        text-align: right;\n",
       "    }\n",
       "</style>\n",
       "<table border=\"1\" class=\"dataframe\">\n",
       "  <thead>\n",
       "    <tr style=\"text-align: right;\">\n",
       "      <th></th>\n",
       "      <th>link</th>\n",
       "      <th>rovat</th>\n",
       "      <th>felosztas</th>\n",
       "    </tr>\n",
       "  </thead>\n",
       "  <tbody>\n",
       "    <tr>\n",
       "      <th>0</th>\n",
       "      <td>https://magyarnemzet.hu/belfold/ader-janos-hat...</td>\n",
       "      <td>belfold</td>\n",
       "      <td>39</td>\n",
       "    </tr>\n",
       "    <tr>\n",
       "      <th>1</th>\n",
       "      <td>https://magyarnemzet.hu/belfold/egy-polgarmest...</td>\n",
       "      <td>belfold</td>\n",
       "      <td>27</td>\n",
       "    </tr>\n",
       "    <tr>\n",
       "      <th>2</th>\n",
       "      <td>https://magyarnemzet.hu/mindmegette/szilveszte...</td>\n",
       "      <td>mindmegette</td>\n",
       "      <td>21</td>\n",
       "    </tr>\n",
       "    <tr>\n",
       "      <th>3</th>\n",
       "      <td>https://magyarnemzet.hu/belfold/kariko-katalin...</td>\n",
       "      <td>belfold</td>\n",
       "      <td>10</td>\n",
       "    </tr>\n",
       "    <tr>\n",
       "      <th>4</th>\n",
       "      <td>https://magyarnemzet.hu/belfold/meghalt-mondok...</td>\n",
       "      <td>belfold</td>\n",
       "      <td>16</td>\n",
       "    </tr>\n",
       "    <tr>\n",
       "      <th>...</th>\n",
       "      <td>...</td>\n",
       "      <td>...</td>\n",
       "      <td>...</td>\n",
       "    </tr>\n",
       "    <tr>\n",
       "      <th>45500</th>\n",
       "      <td>https://magyarnemzet.hu/sport/koman-golpasszai...</td>\n",
       "      <td>sport</td>\n",
       "      <td>25</td>\n",
       "    </tr>\n",
       "    <tr>\n",
       "      <th>45501</th>\n",
       "      <td>https://magyarnemzet.hu/belfold/kislany-az-els...</td>\n",
       "      <td>belfold</td>\n",
       "      <td>40</td>\n",
       "    </tr>\n",
       "    <tr>\n",
       "      <th>45502</th>\n",
       "      <td>https://magyarnemzet.hu/gazdasag/folytatodik-a...</td>\n",
       "      <td>gazdasag</td>\n",
       "      <td>8</td>\n",
       "    </tr>\n",
       "    <tr>\n",
       "      <th>45503</th>\n",
       "      <td>https://magyarnemzet.hu/belfold/gyalogosokat-g...</td>\n",
       "      <td>belfold</td>\n",
       "      <td>42</td>\n",
       "    </tr>\n",
       "    <tr>\n",
       "      <th>45504</th>\n",
       "      <td>https://magyarnemzet.hu/kultura/osszegzes-a-fo...</td>\n",
       "      <td>kultura</td>\n",
       "      <td>35</td>\n",
       "    </tr>\n",
       "  </tbody>\n",
       "</table>\n",
       "<p>45505 rows × 3 columns</p>\n",
       "</div>"
      ],
      "text/plain": [
       "                                                    link        rovat  \\\n",
       "0      https://magyarnemzet.hu/belfold/ader-janos-hat...      belfold   \n",
       "1      https://magyarnemzet.hu/belfold/egy-polgarmest...      belfold   \n",
       "2      https://magyarnemzet.hu/mindmegette/szilveszte...  mindmegette   \n",
       "3      https://magyarnemzet.hu/belfold/kariko-katalin...      belfold   \n",
       "4      https://magyarnemzet.hu/belfold/meghalt-mondok...      belfold   \n",
       "...                                                  ...          ...   \n",
       "45500  https://magyarnemzet.hu/sport/koman-golpasszai...        sport   \n",
       "45501  https://magyarnemzet.hu/belfold/kislany-az-els...      belfold   \n",
       "45502  https://magyarnemzet.hu/gazdasag/folytatodik-a...     gazdasag   \n",
       "45503  https://magyarnemzet.hu/belfold/gyalogosokat-g...      belfold   \n",
       "45504  https://magyarnemzet.hu/kultura/osszegzes-a-fo...      kultura   \n",
       "\n",
       "       felosztas  \n",
       "0             39  \n",
       "1             27  \n",
       "2             21  \n",
       "3             10  \n",
       "4             16  \n",
       "...          ...  \n",
       "45500         25  \n",
       "45501         40  \n",
       "45502          8  \n",
       "45503         42  \n",
       "45504         35  \n",
       "\n",
       "[45505 rows x 3 columns]"
      ]
     },
     "execution_count": 172,
     "metadata": {},
     "output_type": "execute_result"
    }
   ],
   "source": [
    "df"
   ]
  },
  {
   "cell_type": "markdown",
   "metadata": {},
   "source": [
    "___"
   ]
  },
  {
   "cell_type": "markdown",
   "metadata": {},
   "source": [
    "## 888"
   ]
  },
  {
   "cell_type": "code",
   "execution_count": 237,
   "metadata": {},
   "outputs": [],
   "source": [
    "page_types = [\n",
    "    #\"https://888.hu/piszkostizenketto/\",\n",
    "    \"https://888.hu/ketharmad/\",\n",
    "    \"https://888.hu/amerika-london-parizs/\",\n",
    "    \"https://888.hu/big-pikcsor/\",\n",
    "    \"https://888.hu/csak-neked-csak-most/\",\n",
    "    \"https://888.hu/hajra-magyarok/\",\n",
    "    \"https://888.hu/feher-ferfi/\",\n",
    "    \"https://888.hu/pszicho/\",\n",
    "    \"https://888.hu/kinyilott-a-pitypang/\",\n",
    "    # \"https://888.hu/egy-soros-egy-forditott/\", only one page\n",
    "    \"https://888.hu/censored/\",\n",
    "    \"https://888.hu/sivalkodjatok/\",\n",
    "    \"https://888.hu/759/\",\n",
    "    \"https://888.hu/889/\",\n",
    "    \"https://888.hu/888/\",\n",
    "    \"https://888.hu/century-on/\",\n",
    "    \"https://888.hu/szabad-vasarnap/\",\n",
    "    \"https://888.hu/bulvar/\",\n",
    "    \"https://888.hu/okojobb/\",\n",
    "    \"https://888.hu/maccabi/\",\n",
    "]"
   ]
  },
  {
   "cell_type": "code",
   "execution_count": 244,
   "metadata": {
    "collapsed": true
   },
   "outputs": [
    {
     "name": "stdout",
     "output_type": "stream",
     "text": [
      "https://888.hu/ketharmad/\n"
     ]
    },
    {
     "data": {
      "application/vnd.jupyter.widget-view+json": {
       "model_id": "9e675932dce047e782e26a0453d2e8b0",
       "version_major": 2,
       "version_minor": 0
      },
      "text/plain": [
       "HBox(children=(FloatProgress(value=0.0, max=1715.0), HTML(value='')))"
      ]
     },
     "metadata": {},
     "output_type": "display_data"
    },
    {
     "name": "stdout",
     "output_type": "stream",
     "text": [
      "\n",
      "https://888.hu/amerika-london-parizs/\n"
     ]
    },
    {
     "data": {
      "application/vnd.jupyter.widget-view+json": {
       "model_id": "1ac5b518cf014e0e8881c7d0a9e6ad1a",
       "version_major": 2,
       "version_minor": 0
      },
      "text/plain": [
       "HBox(children=(FloatProgress(value=0.0, max=2893.0), HTML(value='')))"
      ]
     },
     "metadata": {},
     "output_type": "display_data"
    },
    {
     "name": "stdout",
     "output_type": "stream",
     "text": [
      "('Connection aborted.', OSError(50, 'Network is down'))\n",
      "https://888.hu/amerika-london-parizs/page/783/\n",
      "\n",
      "https://888.hu/big-pikcsor/\n"
     ]
    },
    {
     "data": {
      "application/vnd.jupyter.widget-view+json": {
       "model_id": "eb5da95c49a04a6fb073d90a585f7edb",
       "version_major": 2,
       "version_minor": 0
      },
      "text/plain": [
       "HBox(children=(FloatProgress(value=0.0, max=6.0), HTML(value='')))"
      ]
     },
     "metadata": {},
     "output_type": "display_data"
    },
    {
     "name": "stdout",
     "output_type": "stream",
     "text": [
      "\n",
      "https://888.hu/csak-neked-csak-most/\n"
     ]
    },
    {
     "data": {
      "application/vnd.jupyter.widget-view+json": {
       "model_id": "7c89225d1300489cad409f4b65ea66f8",
       "version_major": 2,
       "version_minor": 0
      },
      "text/plain": [
       "HBox(children=(FloatProgress(value=0.0, max=26.0), HTML(value='')))"
      ]
     },
     "metadata": {},
     "output_type": "display_data"
    },
    {
     "name": "stdout",
     "output_type": "stream",
     "text": [
      "\n",
      "https://888.hu/hajra-magyarok/\n"
     ]
    },
    {
     "data": {
      "application/vnd.jupyter.widget-view+json": {
       "model_id": "bf19d2ee8d994d86951b1dda70092a8a",
       "version_major": 2,
       "version_minor": 0
      },
      "text/plain": [
       "HBox(children=(FloatProgress(value=0.0, max=346.0), HTML(value='')))"
      ]
     },
     "metadata": {},
     "output_type": "display_data"
    },
    {
     "name": "stdout",
     "output_type": "stream",
     "text": [
      "\n",
      "https://888.hu/feher-ferfi/\n"
     ]
    },
    {
     "data": {
      "application/vnd.jupyter.widget-view+json": {
       "model_id": "ca840b8b6595477d9a4d5810950b11e5",
       "version_major": 2,
       "version_minor": 0
      },
      "text/plain": [
       "HBox(children=(FloatProgress(value=0.0, max=25.0), HTML(value='')))"
      ]
     },
     "metadata": {},
     "output_type": "display_data"
    },
    {
     "name": "stdout",
     "output_type": "stream",
     "text": [
      "\n",
      "https://888.hu/pszicho/\n"
     ]
    },
    {
     "data": {
      "application/vnd.jupyter.widget-view+json": {
       "model_id": "4703d8fd6c014c5d900ca6fb7c5b33d4",
       "version_major": 2,
       "version_minor": 0
      },
      "text/plain": [
       "HBox(children=(FloatProgress(value=0.0, max=10.0), HTML(value='')))"
      ]
     },
     "metadata": {},
     "output_type": "display_data"
    },
    {
     "name": "stdout",
     "output_type": "stream",
     "text": [
      "\n",
      "https://888.hu/kinyilott-a-pitypang/\n"
     ]
    },
    {
     "data": {
      "application/vnd.jupyter.widget-view+json": {
       "model_id": "46f6e6c452e24393b9329bd8733c5cd7",
       "version_major": 2,
       "version_minor": 0
      },
      "text/plain": [
       "HBox(children=(FloatProgress(value=0.0, max=424.0), HTML(value='')))"
      ]
     },
     "metadata": {},
     "output_type": "display_data"
    },
    {
     "name": "stdout",
     "output_type": "stream",
     "text": [
      "('Connection aborted.', ConnectionResetError(54, 'Connection reset by peer'))\n",
      "https://888.hu/kinyilott-a-pitypang/page/151/\n",
      "\n",
      "https://888.hu/censored/\n"
     ]
    },
    {
     "data": {
      "application/vnd.jupyter.widget-view+json": {
       "model_id": "d16e613ac6a8456888857f574889de59",
       "version_major": 2,
       "version_minor": 0
      },
      "text/plain": [
       "HBox(children=(FloatProgress(value=0.0, max=7.0), HTML(value='')))"
      ]
     },
     "metadata": {},
     "output_type": "display_data"
    },
    {
     "name": "stdout",
     "output_type": "stream",
     "text": [
      "\n",
      "https://888.hu/sivalkodjatok/\n"
     ]
    },
    {
     "data": {
      "application/vnd.jupyter.widget-view+json": {
       "model_id": "77ade85f224745d2a3c9ec16b88afb8a",
       "version_major": 2,
       "version_minor": 0
      },
      "text/plain": [
       "HBox(children=(FloatProgress(value=0.0, max=28.0), HTML(value='')))"
      ]
     },
     "metadata": {},
     "output_type": "display_data"
    },
    {
     "name": "stdout",
     "output_type": "stream",
     "text": [
      "\n",
      "https://888.hu/759/\n"
     ]
    },
    {
     "data": {
      "application/vnd.jupyter.widget-view+json": {
       "model_id": "38dd1549d6cc46658eeced5c3d5b45c2",
       "version_major": 2,
       "version_minor": 0
      },
      "text/plain": [
       "HBox(children=(FloatProgress(value=0.0, max=239.0), HTML(value='')))"
      ]
     },
     "metadata": {},
     "output_type": "display_data"
    },
    {
     "name": "stdout",
     "output_type": "stream",
     "text": [
      "\n",
      "https://888.hu/889/\n"
     ]
    },
    {
     "data": {
      "application/vnd.jupyter.widget-view+json": {
       "model_id": "aac20c0e013646c48cf41094d01ac5a9",
       "version_major": 2,
       "version_minor": 0
      },
      "text/plain": [
       "HBox(children=(FloatProgress(value=0.0, max=22.0), HTML(value='')))"
      ]
     },
     "metadata": {},
     "output_type": "display_data"
    },
    {
     "name": "stdout",
     "output_type": "stream",
     "text": [
      "\n",
      "https://888.hu/888/\n"
     ]
    },
    {
     "data": {
      "application/vnd.jupyter.widget-view+json": {
       "model_id": "b8ada27ce0fe40029d74949300fbbbb5",
       "version_major": 2,
       "version_minor": 0
      },
      "text/plain": [
       "HBox(children=(FloatProgress(value=0.0, max=87.0), HTML(value='')))"
      ]
     },
     "metadata": {},
     "output_type": "display_data"
    },
    {
     "name": "stdout",
     "output_type": "stream",
     "text": [
      "\n",
      "https://888.hu/century-on/\n"
     ]
    },
    {
     "data": {
      "application/vnd.jupyter.widget-view+json": {
       "model_id": "a4656459419640f2a6958cea01fbb7db",
       "version_major": 2,
       "version_minor": 0
      },
      "text/plain": [
       "HBox(children=(FloatProgress(value=0.0, max=66.0), HTML(value='')))"
      ]
     },
     "metadata": {},
     "output_type": "display_data"
    },
    {
     "name": "stdout",
     "output_type": "stream",
     "text": [
      "\n",
      "https://888.hu/szabad-vasarnap/\n"
     ]
    },
    {
     "data": {
      "application/vnd.jupyter.widget-view+json": {
       "model_id": "a46ccd30197c4f17814c8dc42d10c773",
       "version_major": 2,
       "version_minor": 0
      },
      "text/plain": [
       "HBox(children=(FloatProgress(value=0.0, max=249.0), HTML(value='')))"
      ]
     },
     "metadata": {},
     "output_type": "display_data"
    },
    {
     "name": "stdout",
     "output_type": "stream",
     "text": [
      "\n",
      "https://888.hu/bulvar/\n"
     ]
    },
    {
     "data": {
      "application/vnd.jupyter.widget-view+json": {
       "model_id": "639b255f2caa47f6ba5863e8bafb4a1f",
       "version_major": 2,
       "version_minor": 0
      },
      "text/plain": [
       "HBox(children=(FloatProgress(value=0.0, max=154.0), HTML(value='')))"
      ]
     },
     "metadata": {},
     "output_type": "display_data"
    },
    {
     "name": "stdout",
     "output_type": "stream",
     "text": [
      "\n",
      "https://888.hu/okojobb/\n"
     ]
    },
    {
     "data": {
      "application/vnd.jupyter.widget-view+json": {
       "model_id": "2edafe206db94ccbb36d876a6c36b606",
       "version_major": 2,
       "version_minor": 0
      },
      "text/plain": [
       "HBox(children=(FloatProgress(value=0.0, max=34.0), HTML(value='')))"
      ]
     },
     "metadata": {},
     "output_type": "display_data"
    },
    {
     "name": "stdout",
     "output_type": "stream",
     "text": [
      "\n",
      "https://888.hu/maccabi/\n"
     ]
    },
    {
     "data": {
      "application/vnd.jupyter.widget-view+json": {
       "model_id": "a95c9154f2604c7d804099ff03a781e1",
       "version_major": 2,
       "version_minor": 0
      },
      "text/plain": [
       "HBox(children=(FloatProgress(value=0.0, max=2.0), HTML(value='')))"
      ]
     },
     "metadata": {},
     "output_type": "display_data"
    },
    {
     "name": "stdout",
     "output_type": "stream",
     "text": [
      "\n"
     ]
    }
   ],
   "source": [
    "articles = []\n",
    "for page in page_types:\n",
    "    # get list len\n",
    "    resp = requests.get(page + \"page/2/\")\n",
    "\n",
    "    soup = BeautifulSoup(resp.text, \"html.parser\")\n",
    "\n",
    "    page_max = int(soup.select(\"title\")[0].text.split(\"|\")[-2].strip().split(\" \")[-1])\n",
    "    print(page)\n",
    "\n",
    "    for i in tqdm(range(1, page_max)):\n",
    "        try:\n",
    "            resp = requests.get(page + \"page/{i}/\".format(i=i))\n",
    "            soup = BeautifulSoup(resp.text, \"html.parser\")\n",
    "            articles = articles + [\n",
    "                i.get(\"href\")\n",
    "                for i in soup.find(\"div\", class_=\"main-content\").select(\"a\")\n",
    "            ]\n",
    "        except Exception as e:\n",
    "            print(e)\n",
    "            print(page + \"page/{i}/\".format(i=i))"
   ]
  },
  {
   "cell_type": "code",
   "execution_count": 245,
   "metadata": {},
   "outputs": [
    {
     "data": {
      "text/plain": [
       "'https://888.hu/amerika-london-parizs/page/783/'"
      ]
     },
     "execution_count": 245,
     "metadata": {},
     "output_type": "execute_result"
    }
   ],
   "source": [
    "\"https://888.hu/amerika-london-parizs/page/783/\"\n",
    "\"https://888.hu/kinyilott-a-pitypang/page/151/\""
   ]
  },
  {
   "cell_type": "code",
   "execution_count": 250,
   "metadata": {},
   "outputs": [],
   "source": [
    "resp = requests.get(\"https://888.hu/amerika-london-parizs/page/783/\")\n",
    "soup = BeautifulSoup(resp.text, \"html.parser\")\n",
    "articles = articles + [\n",
    "    i.get(\"href\") for i in soup.find(\"div\", class_=\"main-content\").select(\"a\")\n",
    "]"
   ]
  },
  {
   "cell_type": "code",
   "execution_count": 232,
   "metadata": {},
   "outputs": [
    {
     "data": {
      "text/plain": [
       "'https://888.hu/ketharmad/page/371/'"
      ]
     },
     "execution_count": 232,
     "metadata": {},
     "output_type": "execute_result"
    }
   ],
   "source": [
    "page + \"page/{i}/\".format(i=i)"
   ]
  },
  {
   "cell_type": "code",
   "execution_count": 252,
   "metadata": {},
   "outputs": [],
   "source": [
    "nyolc = pd.DataFrame(articles, columns=[\"link\"])\n",
    "\n",
    "nyolc[\"isdigit\"] = (\n",
    "    nyolc[\"link\"]\n",
    "    .str.split(\"/\")\n",
    "    .apply(lambda x: x[-2])\n",
    "    .str.split(\"-\")\n",
    "    .apply(lambda x: x[-1])\n",
    "    .apply(str.isdigit)\n",
    ")\n",
    "\n",
    "nyolc = nyolc.loc[nyolc[\"isdigit\"]]\n",
    "\n",
    "nyolc[\"link\"].str.split(\"/\").apply(lambda x: x[-3]) != \"page\"\n",
    "\n",
    "nyolc[\"page\"] = nyolc[\"link\"].str.split(\"/\").apply(lambda x: x[-3]) != \"page\"\n",
    "\n",
    "nyolc = nyolc.loc[nyolc[\"page\"], \"link\"].to_frame().reset_index(drop=True)\n",
    "\n",
    "nyolc[\"rovat\"] = nyolc[\"link\"].str.split(\"/\").apply(lambda x: x[3])"
   ]
  },
  {
   "cell_type": "code",
   "execution_count": 255,
   "metadata": {},
   "outputs": [
    {
     "data": {
      "text/plain": [
       "amerika-london-parizs    32171\n",
       "ketharmad                19899\n",
       "kinyilott-a-pitypang      4813\n",
       "hajra-magyarok            3834\n",
       "759                       2767\n",
       "szabad-vasarnap           2764\n",
       "bulvar                    1617\n",
       "888                        911\n",
       "century-on                 789\n",
       "okojobb                    513\n",
       "feher-ferfi                432\n",
       "sivalkodjatok              367\n",
       "csak-neked-csak-most       357\n",
       "889                        234\n",
       "pszicho                    147\n",
       "censored                   119\n",
       "big-pikcsor                 68\n",
       "maccabi                     28\n",
       "gazemberek                   4\n",
       "Name: rovat, dtype: int64"
      ]
     },
     "execution_count": 255,
     "metadata": {},
     "output_type": "execute_result"
    }
   ],
   "source": [
    "nyolc[\"rovat\"].value_counts()"
   ]
  },
  {
   "cell_type": "code",
   "execution_count": 254,
   "metadata": {},
   "outputs": [],
   "source": [
    "df.to_csv(\"data/888_all_links.csv\")"
   ]
  },
  {
   "cell_type": "code",
   "execution_count": 111,
   "metadata": {},
   "outputs": [],
   "source": [
    "with open(\"file.html\", \"w\") as file:\n",
    "    file.write(df_5.loc[1363,\"soup\"])"
   ]
  },
  {
   "cell_type": "code",
   "execution_count": 3,
   "metadata": {},
   "outputs": [],
   "source": [
    "df = pd.read_csv(\"data/links/888_all_links.csv\")"
   ]
  },
  {
   "cell_type": "code",
   "execution_count": 23,
   "metadata": {},
   "outputs": [],
   "source": [
    "df[\"felosztas\"] = [round(np.random.uniform(1, 30)) for i in range(df.shape[0])]"
   ]
  },
  {
   "cell_type": "code",
   "execution_count": 25,
   "metadata": {
    "collapsed": true
   },
   "outputs": [
    {
     "data": {
      "text/plain": [
       "19    2572\n",
       "14    2550\n",
       "28    2544\n",
       "3     2534\n",
       "9     2520\n",
       "23    2520\n",
       "29    2512\n",
       "8     2511\n",
       "6     2507\n",
       "16    2501\n",
       "4     2500\n",
       "18    2486\n",
       "26    2486\n",
       "2     2485\n",
       "25    2485\n",
       "12    2482\n",
       "27    2469\n",
       "7     2449\n",
       "17    2444\n",
       "24    2440\n",
       "22    2438\n",
       "11    2436\n",
       "5     2434\n",
       "20    2432\n",
       "13    2432\n",
       "15    2417\n",
       "21    2415\n",
       "10    2413\n",
       "30    1226\n",
       "1     1194\n",
       "Name: felosztas, dtype: int64"
      ]
     },
     "execution_count": 25,
     "metadata": {},
     "output_type": "execute_result"
    }
   ],
   "source": [
    "df[\"felosztas\"].value_counts()"
   ]
  },
  {
   "cell_type": "code",
   "execution_count": 27,
   "metadata": {},
   "outputs": [],
   "source": [
    "df.to_csv(\"data/888_all_links.csv\")"
   ]
  },
  {
   "cell_type": "code",
   "execution_count": null,
   "metadata": {},
   "outputs": [],
   "source": []
  }
 ],
 "metadata": {
  "kernelspec": {
   "display_name": "Python 3",
   "language": "python",
   "name": "python3"
  },
  "language_info": {
   "codemirror_mode": {
    "name": "ipython",
    "version": 3
   },
   "file_extension": ".py",
   "mimetype": "text/x-python",
   "name": "python",
   "nbconvert_exporter": "python",
   "pygments_lexer": "ipython3",
   "version": "3.8.6"
  }
 },
 "nbformat": 4,
 "nbformat_minor": 4
}
