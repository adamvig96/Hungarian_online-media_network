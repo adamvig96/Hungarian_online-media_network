{
 "cells": [
  {
   "cell_type": "code",
   "execution_count": 1,
   "metadata": {},
   "outputs": [],
   "source": [
    "import pickle\n",
    "import json\n",
    "import sys\n",
    "import os\n",
    "import string\n",
    "import requests\n",
    "import ast  # for string to list: ast.literal_eval()\n",
    "from bs4 import BeautifulSoup\n",
    "import bs4\n",
    "import time\n",
    "from datetime import datetime\n",
    "from datetime import date\n",
    "import pandas as pd\n",
    "import numpy as np\n",
    "import re\n",
    "from tqdm import tqdm\n",
    "import warnings"
   ]
  },
  {
   "cell_type": "code",
   "execution_count": 2,
   "metadata": {},
   "outputs": [],
   "source": [
    "data_dir = \"/Users/vigadam/Dropbox/My Mac (MacBook-Air.local)/Documents/github/media_network/media_data/clean_text/2020/\"\n",
    "files = os.listdir(data_dir)\n",
    "files.sort()\n",
    "files.remove(\"covid_monthly_444origo.csv\")\n",
    "data_files = [data_dir + file for file in files]"
   ]
  },
  {
   "source": [
    "df = pd.read_csv(\"/Users/vigadam/Dropbox/My Mac (MacBook-Air.local)/Documents/github/media_network/media_data/clean_text/2020/all_site_2020.csv\")"
   ],
   "cell_type": "code",
   "metadata": {},
   "execution_count": null,
   "outputs": []
  },
  {
   "cell_type": "code",
   "execution_count": 28,
   "metadata": {},
   "outputs": [],
   "source": [
    "df[\"month\"]=df[\"date\"].str.split(\"-\").apply(lambda x: x[1])\n",
    "df[\"day\"]=df[\"date\"].str.split(\"-\").apply(lambda x: x[2])"
   ]
  },
  {
   "cell_type": "code",
   "execution_count": 29,
   "metadata": {},
   "outputs": [
    {
     "output_type": "stream",
     "name": "stderr",
     "text": [
      "100%|██████████| 224293/224293 [21:37<00:00, 172.81it/s]\n"
     ]
    }
   ],
   "source": [
    "for i in tqdm(range(df.shape[0])):\n",
    "    if len(df.loc[i,\"month\"]) == 1:\n",
    "        df.loc[i,\"month\"] = \"0\" + df.loc[i,\"month\"]\n",
    "    if len(df.loc[i,\"day\"]) == 1:\n",
    "        df.loc[i,\"day\"] = \"0\" + df.loc[i,\"day\"]"
   ]
  },
  {
   "cell_type": "code",
   "execution_count": 30,
   "metadata": {},
   "outputs": [],
   "source": [
    "df[\"year\"]=df[\"year\"].apply(str)"
   ]
  },
  {
   "cell_type": "code",
   "execution_count": 31,
   "metadata": {},
   "outputs": [],
   "source": [
    "df[\"date\"] = df.agg('{0[year]}-{0[month]}-{0[day]}'.format, axis=1)"
   ]
  },
  {
   "cell_type": "code",
   "execution_count": 32,
   "metadata": {},
   "outputs": [
    {
     "output_type": "execute_result",
     "data": {
      "text/plain": [
       "10    224293\n",
       "Name: date, dtype: int64"
      ]
     },
     "metadata": {},
     "execution_count": 32
    }
   ],
   "source": [
    "df[\"date\"].apply(len).value_counts()"
   ]
  },
  {
   "cell_type": "code",
   "execution_count": 33,
   "metadata": {},
   "outputs": [],
   "source": [
    "df.to_csv(\"/Users/vigadam/Dropbox/My Mac (MacBook-Air.local)/Documents/github/media_network/media_data/clean_text/2020/all_site_2020.csv\")"
   ]
  },
  {
   "cell_type": "code",
   "execution_count": 44,
   "metadata": {},
   "outputs": [
    {
     "output_type": "stream",
     "name": "stdout",
     "text": [
      "Index(['link', 'rovat', 'date', 'year', 'month', 'page', 'Title', 'Text',\n",
      "       'Author', 'Tags'],\n",
      "      dtype='object')\n",
      "Index(['link', 'year', 'date', 'month', 'page', 'Title', 'Text', 'links',\n",
      "       'Author', 'Category', 'Tags'],\n",
      "      dtype='object')\n",
      "Index(['link', 'rovat', 'Title', 'Text', 'Author', 'date', 'Tags'], dtype='object')\n",
      "Index(['datum', '_mod_ts', '__properties', 'rovat', 'rovat_url', 'rovat_slug',\n",
      "       'kiadvany', 'kiadvany_url', 'tags', 'actual_fb_like', 'ts', 'kep',\n",
      "       'cim', 'ajanlo', 'alcim', 'url', 'korhatar_stamp', 'alnevek', 'lead',\n",
      "       'month', 'page', 'Text', 'Author', 'Tags'],\n",
      "      dtype='object')\n",
      "Index(['link', 'rovat', 'felosztas', 'Title', 'links', 'Author', 'Text',\n",
      "       'year', 'month', 'day', 'Tags', 'Source'],\n",
      "      dtype='object')\n",
      "Index(['link', 'date', 'month', 'rovat', 'page', 'Title', 'Text', 'links',\n",
      "       'Author', 'Tags'],\n",
      "      dtype='object')\n"
     ]
    }
   ],
   "source": [
    "for file in data_files:\n",
    "    df = pd.read_csv(file,index_col=0)\n",
    "    print(df.columns)"
   ]
  },
  {
   "cell_type": "code",
   "execution_count": 64,
   "metadata": {},
   "outputs": [],
   "source": [
    "_24hu = pd.read_csv(data_files[0],index_col=0)[[\"link\",\"rovat\",\"date\",\"page\",\"Title\",\"Text\",\"Author\",\"Tags\"]].rename(columns={\"rovat\":\"category\"})\n",
    "_24hu.columns = [item.lower() for item in _24hu.columns]"
   ]
  },
  {
   "cell_type": "code",
   "execution_count": 164,
   "metadata": {},
   "outputs": [],
   "source": [
    "_444 = pd.read_csv(data_files[1],index_col=0)[[\"link\",\"Category\",\"date\",\"page\",\"Title\",\"Text\",\"Author\",\"Tags\"]]\n",
    "_444.columns = [item.lower() for item in _444.columns]"
   ]
  },
  {
   "cell_type": "code",
   "execution_count": 77,
   "metadata": {},
   "outputs": [],
   "source": [
    "_888 = pd.read_csv(data_files[2],index_col=0)[[\"link\",\"rovat\",\"date\",\"Title\",\"Text\",\"Author\",\"Tags\"]].rename(columns={\"rovat\":\"category\"})\n",
    "\n",
    "\n",
    "_888[\"page\"] = \"888\"\n",
    "_888.columns = [item.lower() for item in _888.columns]"
   ]
  },
  {
   "cell_type": "code",
   "execution_count": 152,
   "metadata": {},
   "outputs": [],
   "source": [
    "index = pd.read_csv(data_files[3],index_col=0).drop(columns=[\"tags\"]).rename(columns={\"rovat\":\"category\",\"url\":\"link\",\"_mod_ts\":\"date\",\"cim\":\"title\"}).reset_index(drop=True)\n",
    "index.columns = [item.lower() for item in index.columns]\n",
    "\n",
    "index = index[[\"link\",\"date\",\"category\",\"title\",\"author\",\"text\",\"tags\",\"page\"]]\n",
    "\n",
    "index[\"date\"] = index[\"date\"].str.split(\" \").apply(lambda x: x[0])"
   ]
  },
  {
   "cell_type": "code",
   "execution_count": 192,
   "metadata": {},
   "outputs": [
    {
     "output_type": "stream",
     "name": "stderr",
     "text": [
      "100%|██████████| 45157/45157 [03:53<00:00, 193.55it/s]\n"
     ]
    }
   ],
   "source": [
    "mno = pd.read_csv(data_files[4],index_col = 0)\n",
    "mno.columns = [item.lower() for item in mno.columns]\n",
    "mno = mno.rename(columns={\"rovat\":\"category\"}).dropna(subset=[\"text\",\"year\"]).reset_index(drop=True)\n",
    "\n",
    "mno[\"year\"] = mno[\"year\"].apply(int).apply(str)\n",
    "mno[\"month\"] = mno[\"month\"].apply(int).apply(str)\n",
    "mno[\"day\"] = mno[\"day\"].apply(int).apply(str)\n",
    "\n",
    "for i in tqdm(range(mno.shape[0])):\n",
    "    mno.loc[i,\"date\"] = \"-\".join([mno.loc[i,\"year\"],mno.loc[i,\"month\"],mno.loc[i,\"day\"]]) "
   ]
  },
  {
   "cell_type": "code",
   "execution_count": 193,
   "metadata": {},
   "outputs": [],
   "source": [
    "mno = mno[[\"link\",\"date\",\"category\",\"title\",\"author\",\"text\",\"tags\"]]\n",
    "mno[\"page\"] = \"mno\""
   ]
  },
  {
   "cell_type": "code",
   "execution_count": 194,
   "metadata": {},
   "outputs": [],
   "source": [
    "origo = pd.read_csv(data_files[5],index_col = 0).rename(columns={\"rovat\":\"category\"})\n",
    "origo.columns = [item.lower() for item in origo.columns]\n",
    "origo = origo[[\"link\",\"date\",\"category\",\"title\",\"author\",\"text\",\"tags\",\"page\"]]\n",
    "origo[\"date\"] = origo[\"date\"].apply(lambda x: str(x)[0:4] + \"-\" + str(x)[4:6] +\"-\"+ str(x)[6:])"
   ]
  },
  {
   "cell_type": "code",
   "execution_count": 195,
   "metadata": {},
   "outputs": [],
   "source": [
    "all_sites = pd.concat([_24hu,index,origo,_444,_888,mno])\n",
    "all_sites[\"page\"]=all_sites[\"page\"].apply(str)"
   ]
  },
  {
   "cell_type": "code",
   "execution_count": 196,
   "metadata": {},
   "outputs": [
    {
     "output_type": "execute_result",
     "data": {
      "text/plain": [
       "link            0\n",
       "category        0\n",
       "date            0\n",
       "page            0\n",
       "title       15339\n",
       "text        26094\n",
       "author      33743\n",
       "tags        29091\n",
       "dtype: int64"
      ]
     },
     "metadata": {},
     "execution_count": 196
    }
   ],
   "source": [
    "all_sites.isnull().sum()"
   ]
  },
  {
   "cell_type": "code",
   "execution_count": 199,
   "metadata": {},
   "outputs": [],
   "source": [
    "all_sites[\"year\"] = all_sites[\"date\"].str.split(\"-\").apply(lambda x: x[0])"
   ]
  },
  {
   "cell_type": "code",
   "execution_count": 205,
   "metadata": {},
   "outputs": [],
   "source": [
    "all_sites = all_sites.loc[all_sites[\"year\"] == \"2020\"].reset_index(drop=True)"
   ]
  },
  {
   "cell_type": "code",
   "execution_count": 209,
   "metadata": {},
   "outputs": [],
   "source": [
    "all_sites.to_csv(data_dir + \"all_site_2020.csv\")"
   ]
  }
 ],
 "metadata": {
  "kernelspec": {
   "display_name": "Python 3",
   "language": "python",
   "name": "python3"
  },
  "language_info": {
   "codemirror_mode": {
    "name": "ipython",
    "version": 3
   },
   "file_extension": ".py",
   "mimetype": "text/x-python",
   "name": "python",
   "nbconvert_exporter": "python",
   "pygments_lexer": "ipython3",
   "version": "3.8.6-final"
  }
 },
 "nbformat": 4,
 "nbformat_minor": 4
}