{
 "cells": [
  {
   "cell_type": "code",
   "execution_count": 1,
   "metadata": {},
   "outputs": [],
   "source": [
    "import pickle\n",
    "import json\n",
    "import sys\n",
    "import os\n",
    "import string\n",
    "import requests\n",
    "import ast  # for string to list: ast.literal_eval()\n",
    "from bs4 import BeautifulSoup\n",
    "import bs4\n",
    "import time\n",
    "import matplotlib.pyplot as plt\n",
    "from datetime import datetime\n",
    "from datetime import date\n",
    "import pandas as pd\n",
    "import numpy as np\n",
    "import re\n",
    "from tqdm.notebook import tqdm\n",
    "import warnings\n",
    "data_dir = \"/Users/vigadam/Documents/github/media_network/media_data/html_pages/24_hu\""
   ]
  },
  {
   "cell_type": "code",
   "execution_count": 87,
   "metadata": {},
   "outputs": [],
   "source": [
    "class _24hu:\n",
    "    import json\n",
    "\n",
    "    from bs4 import BeautifulSoup\n",
    "    import bs4\n",
    "\n",
    "    import pandas as pd\n",
    "    import numpy as np\n",
    "\n",
    "    import re\n",
    "\n",
    "    import warnings\n",
    "\n",
    "    warnings.filterwarnings(\"ignore\")\n",
    "\n",
    "    def __init__(self, df):\n",
    "        self.data = df\n",
    "        self.soups = self.data[\"soup\"].dropna()\n",
    "\n",
    "    def clean(self):\n",
    "        for i, Soup in tqdm(enumerate(self.soups)):\n",
    "\n",
    "            soup = BeautifulSoup(Soup)\n",
    "\n",
    "            # Title\n",
    "            try:\n",
    "                df.loc[self.soups.index[i], \"Title\"] = (\n",
    "                    soup.find(attrs={\"itemprop\": \"headline\"}).get_text().strip()\n",
    "                )\n",
    "            except:\n",
    "                df.loc[self.soups.index[i], \"Title\"] = None\n",
    "\n",
    "            # Text\n",
    "            try:\n",
    "                textlist = [\n",
    "                    soup.find(attrs={\"data-ce-measure-widget\": \"Cikk lead\"})\n",
    "                ] + soup.find(\n",
    "                    attrs={\"class\": \"o-post__body o-postCnt post-body\"}\n",
    "                ).find_all(\n",
    "                    \"p\"\n",
    "                )\n",
    "                df.loc[self.soups.index[i], \"Text\"] = (\n",
    "                    \" \".join(\n",
    "                        [item.get_text().strip() for item in textlist if item != None]\n",
    "                    )\n",
    "                    .replace(\"\\xa0\", \"\")\n",
    "                    .strip()\n",
    "                )\n",
    "            except:\n",
    "                df.loc[self.soups.index[i], \"Text\"] = None\n",
    "\n",
    "            # Author\n",
    "            try:\n",
    "                df.loc[self.soups.index[i], \"Author\"] = soup.find(\n",
    "                    attrs={\"class\": \"m-author__name\"}\n",
    "                ).get_text()\n",
    "            except:\n",
    "                df.loc[self.soups.index[i], \"Author\"] = None\n",
    "\n",
    "            # tags\n",
    "            try:\n",
    "                taglist = soup.find_all(\n",
    "                    attrs={\n",
    "                        \"class\": \"m-tag__links a-tag -articlePageMainTags swiper-slide\"\n",
    "                    }\n",
    "                )\n",
    "\n",
    "                df.loc[self.soups.index[i], \"Tags\"] = str(\n",
    "                    [item.get_text().strip().lower() for item in taglist]\n",
    "                )\n",
    "            except:\n",
    "                df.loc[self.soups.index[i], \"Tags\"] = None"
   ]
  },
  {
   "cell_type": "code",
   "execution_count": 102,
   "metadata": {},
   "outputs": [],
   "source": [
    "data_files = os.listdir(data_dir + \"/2020\")\n",
    "\n",
    "data_files = sorted([data_dir + \"/2020/\" + item for item in data_files])"
   ]
  },
  {
   "cell_type": "code",
   "execution_count": 104,
   "metadata": {},
   "outputs": [
    {
     "data": {
      "text/plain": [
       "['/Users/vigadam/Documents/github/media_network/media_data/html_pages/24_hu/2020/2020_01_soups.pkl',\n",
       " '/Users/vigadam/Documents/github/media_network/media_data/html_pages/24_hu/2020/2020_02_soups.pkl',\n",
       " '/Users/vigadam/Documents/github/media_network/media_data/html_pages/24_hu/2020/2020_03_soups.pkl',\n",
       " '/Users/vigadam/Documents/github/media_network/media_data/html_pages/24_hu/2020/2020_04_soups.pkl',\n",
       " '/Users/vigadam/Documents/github/media_network/media_data/html_pages/24_hu/2020/2020_05_soups.pkl',\n",
       " '/Users/vigadam/Documents/github/media_network/media_data/html_pages/24_hu/2020/2020_06_soups.pkl',\n",
       " '/Users/vigadam/Documents/github/media_network/media_data/html_pages/24_hu/2020/2020_07_soups.pkl',\n",
       " '/Users/vigadam/Documents/github/media_network/media_data/html_pages/24_hu/2020/2020_08_soups.pkl',\n",
       " '/Users/vigadam/Documents/github/media_network/media_data/html_pages/24_hu/2020/2020_09_soups.pkl',\n",
       " '/Users/vigadam/Documents/github/media_network/media_data/html_pages/24_hu/2020/2020_10_soups.pkl',\n",
       " '/Users/vigadam/Documents/github/media_network/media_data/html_pages/24_hu/2020/2020_11_soups.pkl',\n",
       " '/Users/vigadam/Documents/github/media_network/media_data/html_pages/24_hu/2020/2020_12_soups.pkl',\n",
       " '/Users/vigadam/Documents/github/media_network/media_data/html_pages/24_hu/2020/2020_13_soups.pkl',\n",
       " '/Users/vigadam/Documents/github/media_network/media_data/html_pages/24_hu/2020/2020_14_soups.pkl',\n",
       " '/Users/vigadam/Documents/github/media_network/media_data/html_pages/24_hu/2020/2020_15_soups.pkl',\n",
       " '/Users/vigadam/Documents/github/media_network/media_data/html_pages/24_hu/2020/2020_16_soups.pkl',\n",
       " '/Users/vigadam/Documents/github/media_network/media_data/html_pages/24_hu/2020/2020_17_soups.pkl',\n",
       " '/Users/vigadam/Documents/github/media_network/media_data/html_pages/24_hu/2020/2020_18_soups.pkl',\n",
       " '/Users/vigadam/Documents/github/media_network/media_data/html_pages/24_hu/2020/2020_19_soups.pkl',\n",
       " '/Users/vigadam/Documents/github/media_network/media_data/html_pages/24_hu/2020/2020_20_soups.pkl',\n",
       " '/Users/vigadam/Documents/github/media_network/media_data/html_pages/24_hu/2020/2020_21_soups.pkl',\n",
       " '/Users/vigadam/Documents/github/media_network/media_data/html_pages/24_hu/2020/2020_22_soups.pkl',\n",
       " '/Users/vigadam/Documents/github/media_network/media_data/html_pages/24_hu/2020/2020_23_soups.pkl',\n",
       " '/Users/vigadam/Documents/github/media_network/media_data/html_pages/24_hu/2020/2020_24_soups.pkl',\n",
       " '/Users/vigadam/Documents/github/media_network/media_data/html_pages/24_hu/2020/2020_25_soups.pkl',\n",
       " '/Users/vigadam/Documents/github/media_network/media_data/html_pages/24_hu/2020/2020_26_soups.pkl',\n",
       " '/Users/vigadam/Documents/github/media_network/media_data/html_pages/24_hu/2020/2020_27_soups.pkl',\n",
       " '/Users/vigadam/Documents/github/media_network/media_data/html_pages/24_hu/2020/2020_28_soups.pkl',\n",
       " '/Users/vigadam/Documents/github/media_network/media_data/html_pages/24_hu/2020/2020_29_soups.pkl',\n",
       " '/Users/vigadam/Documents/github/media_network/media_data/html_pages/24_hu/2020/2020_30_soups.pkl',\n",
       " '/Users/vigadam/Documents/github/media_network/media_data/html_pages/24_hu/2020/2020_31_soups.pkl',\n",
       " '/Users/vigadam/Documents/github/media_network/media_data/html_pages/24_hu/2020/2020_32_soups.pkl',\n",
       " '/Users/vigadam/Documents/github/media_network/media_data/html_pages/24_hu/2020/2020_33_soups.pkl',\n",
       " '/Users/vigadam/Documents/github/media_network/media_data/html_pages/24_hu/2020/2020_34_soups.pkl',\n",
       " '/Users/vigadam/Documents/github/media_network/media_data/html_pages/24_hu/2020/2020_35_soups.pkl',\n",
       " '/Users/vigadam/Documents/github/media_network/media_data/html_pages/24_hu/2020/2020_36_soups.pkl']"
      ]
     },
     "execution_count": 104,
     "metadata": {},
     "output_type": "execute_result"
    }
   ],
   "source": [
    "df_clean = pd.DataFrame()\n",
    "for data_month in tqdm(data_files):\n",
    "\n",
    "    df = pd.read_pickle(data_month)\n",
    "    df[\"page\"] = \"24.hu\"\n",
    "\n",
    "    _24hu(df).clean()\n",
    "\n",
    "    df_clean = pd.concat([df_clean, df.drop(columns=[\"Unnamed: 0\", \"soup\",\"felosztas\"])])"
   ]
  },
  {
   "cell_type": "code",
   "execution_count": 106,
   "metadata": {},
   "outputs": [],
   "source": [
    "df_clean.to_csv(\n",
    "    \"/Users/vigadam/Dropbox/My Mac (MacBook-Air.local)/Documents/github/media_network/media_data/clean_text/2020/24hu_clean.csv\"\n",
    ")"
   ]
  },
  {
   "cell_type": "code",
   "execution_count": 109,
   "metadata": {},
   "outputs": [],
   "source": [
    "df = pd.read_csv(\"/Users/vigadam/Dropbox/My Mac (MacBook-Air.local)/Documents/github/media_network/media_data/clean_text/2020/24hu_clean.csv\")"
   ]
  },
  {
   "cell_type": "code",
   "execution_count": 117,
   "metadata": {},
   "outputs": [
    {
     "data": {
      "text/plain": [
       "0.011188251001335114"
      ]
     },
     "execution_count": 117,
     "metadata": {},
     "output_type": "execute_result"
    }
   ],
   "source": [
    "df[\"Text\"].isnull().sum() / df.shape[0]"
   ]
  },
  {
   "cell_type": "code",
   "execution_count": 120,
   "metadata": {},
   "outputs": [],
   "source": [
    "df[\"covid\"] = df[\"Tags\"].apply(lambda x: \"koronavírus\" in x)"
   ]
  },
  {
   "cell_type": "code",
   "execution_count": 122,
   "metadata": {},
   "outputs": [
    {
     "data": {
      "text/plain": [
       "False    28083\n",
       "True      9367\n",
       "Name: covid, dtype: int64"
      ]
     },
     "execution_count": 122,
     "metadata": {},
     "output_type": "execute_result"
    }
   ],
   "source": [
    "df[\"covid\"].value_counts()"
   ]
  },
  {
   "cell_type": "code",
   "execution_count": 111,
   "metadata": {},
   "outputs": [],
   "source": [
    "mno = pd.read_csv(\"/Users/vigadam/Dropbox/My Mac (MacBook-Air.local)/Documents/github/media_network/media_data/clean_text/2020/mno_clean.csv\")"
   ]
  },
  {
   "cell_type": "code",
   "execution_count": 118,
   "metadata": {},
   "outputs": [
    {
     "data": {
      "text/plain": [
       "0.007647511262498626"
      ]
     },
     "execution_count": 118,
     "metadata": {},
     "output_type": "execute_result"
    }
   ],
   "source": [
    "mno[\"Text\"].isnull().sum() / mno.shape[0]"
   ]
  },
  {
   "cell_type": "code",
   "execution_count": null,
   "metadata": {},
   "outputs": [],
   "source": []
  }
 ],
 "metadata": {
  "kernelspec": {
   "display_name": "Python 3",
   "language": "python",
   "name": "python3"
  },
  "language_info": {
   "codemirror_mode": {
    "name": "ipython",
    "version": 3
   },
   "file_extension": ".py",
   "mimetype": "text/x-python",
   "name": "python",
   "nbconvert_exporter": "python",
   "pygments_lexer": "ipython3",
   "version": "3.8.6"
  }
 },
 "nbformat": 4,
 "nbformat_minor": 4
}
