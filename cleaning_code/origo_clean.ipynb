{
 "cells": [
  {
   "cell_type": "code",
   "execution_count": 142,
   "metadata": {},
   "outputs": [],
   "source": [
    "import pickle\n",
    "import json\n",
    "import sys\n",
    "import os\n",
    "import string\n",
    "import requests\n",
    "import ast  # for string to list: ast.literal_eval()\n",
    "from bs4 import BeautifulSoup\n",
    "import bs4\n",
    "import time\n",
    "from datetime import datetime\n",
    "from datetime import date\n",
    "import pandas as pd\n",
    "import numpy as np\n",
    "import re\n",
    "from tqdm.notebook import tqdm\n",
    "import warnings\n",
    "data_dir = \"/Users/vigadam/Documents/github/media_network/data/origo/\""
   ]
  },
  {
   "cell_type": "code",
   "execution_count": 143,
   "metadata": {},
   "outputs": [],
   "source": [
    "class Helper:\n",
    "    import json\n",
    "\n",
    "    from bs4 import BeautifulSoup\n",
    "    import bs4\n",
    "\n",
    "    import pandas as pd\n",
    "    import numpy as np\n",
    "\n",
    "    import re\n",
    "\n",
    "    import warnings\n",
    "\n",
    "    warnings.filterwarnings(\"ignore\")\n",
    "\n",
    "    def __init__(self, df):\n",
    "        None\n",
    "\n",
    "    def title_main(self, element, id_):\n",
    "        for i, soup in tqdm(enumerate(self.soups)):\n",
    "            try:\n",
    "                df.loc[self.soups.index[i], \"Title\"] = (\n",
    "                    BeautifulSoup(soup).find(attrs={element: id_}).get_text()\n",
    "                )\n",
    "            except AttributeError:\n",
    "                df.loc[self.soups.index[i], \"Title\"] = None\n",
    "\n",
    "    def link(self):\n",
    "        for i, soup in tqdm(enumerate(self.soups)):\n",
    "            soup_for_links = BeautifulSoup(soup).find_all(\"a\")\n",
    "            link_list = []\n",
    "            for item in soup_for_links:\n",
    "                if type(item.get(\"href\")) == str:\n",
    "                    link_list.append(item.get(\"href\"))\n",
    "            df.loc[self.soups.index[i], \"links\"] = str(list(set(link_list)))\n",
    "\n",
    "    def text_main(self, element, class_id):\n",
    "        for i, soup in tqdm(enumerate(self.soups)):\n",
    "            try:\n",
    "                soup_for_text = (\n",
    "                    BeautifulSoup(soup)\n",
    "                    .find(element, class_=re.compile(class_id))\n",
    "                    .find_all(\"p\")\n",
    "                )\n",
    "                text_list = []\n",
    "                for item in soup_for_text:\n",
    "                    if soup_for_text != \"\":\n",
    "                        text_list.append(item.text)\n",
    "                df.loc[self.soups.index[i], \"Text\"] = \" \".join(text_list)\n",
    "            except AttributeError:\n",
    "                df.loc[self.soups.index[i], \"Text\"] = None\n",
    "\n",
    "    def author_main(self, element, class_id):\n",
    "        for i, soup in tqdm(enumerate(self.soups)):\n",
    "            try:\n",
    "                df.loc[self.soups.index[i], \"Author\"] = (\n",
    "                    BeautifulSoup(soup)\n",
    "                    .find(attrs={element:class_id})\n",
    "                    .get_text()\n",
    "                    .strip()\n",
    "                )\n",
    "            except:\n",
    "                df.loc[self.soups.index[i], \"Author\"] = None\n",
    "\n",
    "    def category_main(self, element, id_):\n",
    "        for i, soup in tqdm(enumerate(self.soups)):\n",
    "            try:\n",
    "                df.loc[self.soups.index[i], \"Category\"] = (\n",
    "                    BeautifulSoup(soup).find(attrs={element: id_}).text.strip()\n",
    "                )\n",
    "\n",
    "            except:\n",
    "                df.loc[self.soups.index[i], \"Category\"] = None\n",
    "\n",
    "    def tags_main(self, element, id_):\n",
    "        for i, soup in tqdm(enumerate(self.soups)):\n",
    "            try:\n",
    "                df.loc[self.soups.index[i], \"Tags\"] = (\n",
    "                    BeautifulSoup(soup)\n",
    "                    .find(attrs={element: id_}).text.strip()\n",
    "                )\n",
    "\n",
    "            except:\n",
    "                df.loc[self.soups.index[i], \"Tags\"] = None\n",
    "        df[\"Tags\"] = df[\"Tags\"].str.split(\"\\n\\n\\n\")\n",
    "\n",
    "    def clean(self):\n",
    "        self.title()\n",
    "        self.text()\n",
    "        self.link()\n",
    "        self.author()\n",
    "        self.tags()"
   ]
  },
  {
   "cell_type": "code",
   "execution_count": 144,
   "metadata": {},
   "outputs": [],
   "source": [
    "class Origo(Helper):\n",
    "    def __init__(self, df):\n",
    "        page = \"origo\"\n",
    "        self.data = df.loc[df[\"page\"] == page]\n",
    "        self.soups = self.data[\"soup\"].dropna()\n",
    "\n",
    "    def title(self):\n",
    "        Helper.title_main(self, \"class\", \"article-title\")\n",
    "\n",
    "    def text(self):\n",
    "        for i, soup in tqdm(enumerate(self.soups)):\n",
    "            try:\n",
    "                textlist = BeautifulSoup(soup).find(\n",
    "                    attrs={\"class\": \"article-lead\"}\n",
    "                ).find_all(\"p\") + BeautifulSoup(soup).find(\n",
    "                    attrs={\"class\": \"article-content\"}\n",
    "                ).find_all(\n",
    "                    \"p\"\n",
    "                )\n",
    "\n",
    "                df.loc[self.soups.index[i], \"Text\"] = (\n",
    "                    \" \".join([item.get_text().strip() for item in textlist])\n",
    "                    .replace(\"\\xa0\", \"\")\n",
    "                    .strip()\n",
    "                )\n",
    "            except AttributeError:\n",
    "                df.loc[self.soups.index[i], \"Text\"] = None\n",
    "\n",
    "    def author(self):\n",
    "        Helper.author_main(self, \"class\", \"article-author\")\n",
    "\n",
    "    def tags(self):\n",
    "        for i, soup in tqdm(enumerate(self.soups)):\n",
    "            try:\n",
    "                df.loc[self.soups.index[i], \"Tags\"] = str([\n",
    "                    item.get(\"title\")\n",
    "                    for item in BeautifulSoup(soup)\n",
    "                    .find_all(attrs={\"class\": \"article-meta\"})[0]\n",
    "                    .find_all(\"a\")[1:]\n",
    "                ])\n",
    "\n",
    "            except:\n",
    "                df.loc[self.soups.index[i], \"Tags\"] = None"
   ]
  },
  {
   "cell_type": "code",
   "execution_count": 101,
   "metadata": {},
   "outputs": [],
   "source": [
    "df = pd.read_pickle(data_dir + \"month_01_soups.pkl\").drop(columns=[\"Unnamed: 0\"])\n",
    "df[\"page\"] = \"origo\""
   ]
  },
  {
   "cell_type": "code",
   "execution_count": 122,
   "metadata": {},
   "outputs": [],
   "source": [
    "soup = df.loc[15, \"soup\"]"
   ]
  },
  {
   "cell_type": "code",
   "execution_count": 123,
   "metadata": {},
   "outputs": [
    {
     "data": {
      "text/plain": [
       "['jég', 'Bajkál-tó', 'autós olvasnivaló', 'Lexus', 'Oroszország']"
      ]
     },
     "execution_count": 123,
     "metadata": {},
     "output_type": "execute_result"
    }
   ],
   "source": [
    "[\n",
    "    item.get(\"title\")\n",
    "    for item in BeautifulSoup(soup)\n",
    "    .find_all(attrs={\"class\": \"article-meta\"})[0]\n",
    "    .find_all(\"a\")[1:]\n",
    "]"
   ]
  },
  {
   "cell_type": "code",
   "execution_count": 121,
   "metadata": {},
   "outputs": [],
   "source": [
    "with open(data_dir + \"file.html\", \"w\") as file:\n",
    "    file.write(df.loc[15, \"soup\"])"
   ]
  },
  {
   "cell_type": "code",
   "execution_count": 102,
   "metadata": {},
   "outputs": [],
   "source": [
    "origo = Origo(df)\n",
    "#origo = Origo(df.loc[0:40,:])"
   ]
  },
  {
   "cell_type": "code",
   "execution_count": 83,
   "metadata": {},
   "outputs": [],
   "source": [
    "data_list = sorted([\n",
    "    \"month_04_soups.pkl\",\n",
    "    \"month_12_soups.pkl\",\n",
    "    \"month_03_soups.pkl\",\n",
    "    \"month_06_soups.pkl\",\n",
    "    \"month_07_soups.pkl\",\n",
    "    \"month_02_soups.pkl\",\n",
    "    \"month_10_soups.pkl\",\n",
    "    \"month_08_soups.pkl\",\n",
    "    \"month_05_soups.pkl\",\n",
    "    \"month_11_soups.pkl\",\n",
    "    \"month_01_soups.pkl\",\n",
    "    \"month_09_soups.pkl\",\n",
    "])\n",
    "\n",
    "data_files = [data_dir + item for item in data_list]"
   ]
  },
  {
   "cell_type": "code",
   "execution_count": 141,
   "metadata": {
    "collapsed": true
   },
   "outputs": [
    {
     "data": {
      "application/vnd.jupyter.widget-view+json": {
       "model_id": "e19d20757f024a9db57ec5ddc69f9452",
       "version_major": 2,
       "version_minor": 0
      },
      "text/plain": [
       "HBox(children=(FloatProgress(value=0.0, max=12.0), HTML(value='')))"
      ]
     },
     "metadata": {},
     "output_type": "display_data"
    },
    {
     "data": {
      "application/vnd.jupyter.widget-view+json": {
       "model_id": "93c912d4d41e4f328b9e71bcaf2dc5ae",
       "version_major": 2,
       "version_minor": 0
      },
      "text/plain": [
       "HBox(children=(FloatProgress(value=1.0, bar_style='info', layout=Layout(width='20px'), max=1.0), HTML(value=''…"
      ]
     },
     "metadata": {},
     "output_type": "display_data"
    },
    {
     "name": "stdout",
     "output_type": "stream",
     "text": [
      "\n"
     ]
    },
    {
     "name": "stderr",
     "output_type": "stream",
     "text": [
      "Exception ignored in: <generator object tqdm.__iter__ at 0x113fc77b0>\n",
      "Traceback (most recent call last):\n",
      "  File \"/usr/local/lib/python3.8/site-packages/tqdm/std.py\", line 1186, in __iter__\n",
      "    self.close()\n",
      "  File \"/usr/local/lib/python3.8/site-packages/tqdm/notebook.py\", line 251, in close\n",
      "    super(tqdm_notebook, self).close(*args, **kwargs)\n",
      "  File \"/usr/local/lib/python3.8/site-packages/tqdm/std.py\", line 1280, in close\n",
      "    self._decr_instances(self)\n",
      "  File \"/usr/local/lib/python3.8/site-packages/tqdm/std.py\", line 574, in _decr_instances\n",
      "    cls.monitor.exit()\n",
      "  File \"/usr/local/lib/python3.8/site-packages/tqdm/_monitor.py\", line 53, in exit\n",
      "    self.join()\n",
      "  File \"/usr/local/Cellar/python@3.8/3.8.6/Frameworks/Python.framework/Versions/3.8/lib/python3.8/threading.py\", line 1011, in join\n",
      "    self._wait_for_tstate_lock()\n",
      "  File \"/usr/local/Cellar/python@3.8/3.8.6/Frameworks/Python.framework/Versions/3.8/lib/python3.8/threading.py\", line 1027, in _wait_for_tstate_lock\n",
      "    elif lock.acquire(block, timeout):\n",
      "KeyboardInterrupt: \n",
      "ERROR:root:Internal Python error in the inspect module.\n",
      "Below is the traceback from this internal error.\n",
      "\n"
     ]
    },
    {
     "name": "stdout",
     "output_type": "stream",
     "text": [
      "Traceback (most recent call last):\n",
      "  File \"/usr/local/lib/python3.8/site-packages/IPython/core/interactiveshell.py\", line 3417, in run_code\n",
      "    exec(code_obj, self.user_global_ns, self.user_ns)\n",
      "  File \"<ipython-input-141-cdccbc8b8780>\", line 7, in <module>\n",
      "    Origo(df).clean()\n",
      "  File \"<ipython-input-91-3d241ad20825>\", line 88, in clean\n",
      "    self.title()\n",
      "  File \"<ipython-input-130-4a169155f68c>\", line 8, in title\n",
      "    Helper.title_main(self, \"class\", \"article-title\")\n",
      "  File \"<ipython-input-91-3d241ad20825>\", line 23, in title_main\n",
      "    BeautifulSoup(soup).find(attrs={element: id_}).get_text()\n",
      "  File \"/usr/local/lib/python3.8/site-packages/bs4/__init__.py\", line 345, in __init__\n",
      "    self._feed()\n",
      "  File \"/usr/local/lib/python3.8/site-packages/bs4/__init__.py\", line 431, in _feed\n",
      "    self.builder.feed(self.markup)\n",
      "  File \"/usr/local/lib/python3.8/site-packages/bs4/builder/_lxml.py\", line 324, in feed\n",
      "    self.parser.feed(markup)\n",
      "  File \"src/lxml/parser.pxi\", line 1256, in lxml.etree._FeedParser.feed\n",
      "  File \"src/lxml/parser.pxi\", line 1384, in lxml.etree._FeedParser.feed\n",
      "  File \"src/lxml/parsertarget.pxi\", line 168, in lxml.etree._TargetParserContext._handleParseResult\n",
      "  File \"src/lxml/parsertarget.pxi\", line 156, in lxml.etree._TargetParserContext._handleParseResult\n",
      "  File \"src/lxml/etree.pyx\", line 318, in lxml.etree._ExceptionContext._raise_if_stored\n",
      "  File \"src/lxml/saxparser.pxi\", line 434, in lxml.etree._handleSaxTargetStartNoNs\n",
      "  File \"src/lxml/saxparser.pxi\", line 449, in lxml.etree._callTargetSaxStart\n",
      "  File \"src/lxml/parsertarget.pxi\", line 94, in lxml.etree._PythonSaxParserTarget._handleSaxStart\n",
      "  File \"/usr/local/lib/python3.8/site-packages/bs4/builder/_lxml.py\", line 257, in start\n",
      "    self.soup.handle_starttag(name, namespace, nsprefix, attrs)\n",
      "  File \"/usr/local/lib/python3.8/site-packages/bs4/__init__.py\", line 699, in handle_starttag\n",
      "    self.pushTag(tag)\n",
      "  File \"/usr/local/lib/python3.8/site-packages/bs4/__init__.py\", line 530, in pushTag\n",
      "    if tag.name in self.builder.string_containers:\n",
      "KeyboardInterrupt\n",
      "\n",
      "During handling of the above exception, another exception occurred:\n",
      "\n",
      "Traceback (most recent call last):\n",
      "  File \"/usr/local/lib/python3.8/site-packages/IPython/core/interactiveshell.py\", line 2044, in showtraceback\n",
      "    stb = value._render_traceback_()\n",
      "AttributeError: 'KeyboardInterrupt' object has no attribute '_render_traceback_'\n",
      "\n",
      "During handling of the above exception, another exception occurred:\n",
      "\n",
      "Traceback (most recent call last):\n",
      "  File \"/usr/local/lib/python3.8/site-packages/IPython/core/ultratb.py\", line 1169, in get_records\n",
      "    return _fixed_getinnerframes(etb, number_of_lines_of_context, tb_offset)\n",
      "  File \"/usr/local/lib/python3.8/site-packages/IPython/core/ultratb.py\", line 316, in wrapped\n",
      "    return f(*args, **kwargs)\n",
      "  File \"/usr/local/lib/python3.8/site-packages/IPython/core/ultratb.py\", line 350, in _fixed_getinnerframes\n",
      "    records = fix_frame_records_filenames(inspect.getinnerframes(etb, context))\n",
      "  File \"/usr/local/Cellar/python@3.8/3.8.6/Frameworks/Python.framework/Versions/3.8/lib/python3.8/inspect.py\", line 1503, in getinnerframes\n",
      "    frameinfo = (tb.tb_frame,) + getframeinfo(tb, context)\n",
      "  File \"/usr/local/Cellar/python@3.8/3.8.6/Frameworks/Python.framework/Versions/3.8/lib/python3.8/inspect.py\", line 1465, in getframeinfo\n",
      "    lines, lnum = findsource(frame)\n",
      "  File \"/usr/local/lib/python3.8/site-packages/IPython/core/ultratb.py\", line 170, in findsource\n",
      "    file = getsourcefile(object) or getfile(object)\n",
      "  File \"/usr/local/Cellar/python@3.8/3.8.6/Frameworks/Python.framework/Versions/3.8/lib/python3.8/inspect.py\", line 708, in getsourcefile\n",
      "    if getattr(getmodule(object, filename), '__loader__', None) is not None:\n",
      "  File \"/usr/local/Cellar/python@3.8/3.8.6/Frameworks/Python.framework/Versions/3.8/lib/python3.8/inspect.py\", line 746, in getmodule\n",
      "    f = module.__file__\n",
      "KeyboardInterrupt\n"
     ]
    },
    {
     "ename": "TypeError",
     "evalue": "object of type 'NoneType' has no len()",
     "output_type": "error",
     "traceback": [
      "\u001b[0;31m---------------------------------------------------------------------------\u001b[0m",
      "\u001b[0;31mKeyboardInterrupt\u001b[0m                         Traceback (most recent call last)",
      "    \u001b[0;31m[... skipping hidden 1 frame]\u001b[0m\n",
      "\u001b[0;32m<ipython-input-141-cdccbc8b8780>\u001b[0m in \u001b[0;36m<module>\u001b[0;34m\u001b[0m\n\u001b[1;32m      6\u001b[0m \u001b[0;34m\u001b[0m\u001b[0m\n\u001b[0;32m----> 7\u001b[0;31m     \u001b[0mOrigo\u001b[0m\u001b[0;34m(\u001b[0m\u001b[0mdf\u001b[0m\u001b[0;34m)\u001b[0m\u001b[0;34m.\u001b[0m\u001b[0mclean\u001b[0m\u001b[0;34m(\u001b[0m\u001b[0;34m)\u001b[0m\u001b[0;34m\u001b[0m\u001b[0;34m\u001b[0m\u001b[0m\n\u001b[0m\u001b[1;32m      8\u001b[0m \u001b[0;34m\u001b[0m\u001b[0m\n",
      "\u001b[0;32m<ipython-input-91-3d241ad20825>\u001b[0m in \u001b[0;36mclean\u001b[0;34m(self)\u001b[0m\n\u001b[1;32m     87\u001b[0m     \u001b[0;32mdef\u001b[0m \u001b[0mclean\u001b[0m\u001b[0;34m(\u001b[0m\u001b[0mself\u001b[0m\u001b[0;34m)\u001b[0m\u001b[0;34m:\u001b[0m\u001b[0;34m\u001b[0m\u001b[0;34m\u001b[0m\u001b[0m\n\u001b[0;32m---> 88\u001b[0;31m         \u001b[0mself\u001b[0m\u001b[0;34m.\u001b[0m\u001b[0mtitle\u001b[0m\u001b[0;34m(\u001b[0m\u001b[0;34m)\u001b[0m\u001b[0;34m\u001b[0m\u001b[0;34m\u001b[0m\u001b[0m\n\u001b[0m\u001b[1;32m     89\u001b[0m         \u001b[0mself\u001b[0m\u001b[0;34m.\u001b[0m\u001b[0mtext\u001b[0m\u001b[0;34m(\u001b[0m\u001b[0;34m)\u001b[0m\u001b[0;34m\u001b[0m\u001b[0;34m\u001b[0m\u001b[0m\n",
      "\u001b[0;32m<ipython-input-130-4a169155f68c>\u001b[0m in \u001b[0;36mtitle\u001b[0;34m(self)\u001b[0m\n\u001b[1;32m      7\u001b[0m     \u001b[0;32mdef\u001b[0m \u001b[0mtitle\u001b[0m\u001b[0;34m(\u001b[0m\u001b[0mself\u001b[0m\u001b[0;34m)\u001b[0m\u001b[0;34m:\u001b[0m\u001b[0;34m\u001b[0m\u001b[0;34m\u001b[0m\u001b[0m\n\u001b[0;32m----> 8\u001b[0;31m         \u001b[0mHelper\u001b[0m\u001b[0;34m.\u001b[0m\u001b[0mtitle_main\u001b[0m\u001b[0;34m(\u001b[0m\u001b[0mself\u001b[0m\u001b[0;34m,\u001b[0m \u001b[0;34m\"class\"\u001b[0m\u001b[0;34m,\u001b[0m \u001b[0;34m\"article-title\"\u001b[0m\u001b[0;34m)\u001b[0m\u001b[0;34m\u001b[0m\u001b[0;34m\u001b[0m\u001b[0m\n\u001b[0m\u001b[1;32m      9\u001b[0m \u001b[0;34m\u001b[0m\u001b[0m\n",
      "\u001b[0;32m<ipython-input-91-3d241ad20825>\u001b[0m in \u001b[0;36mtitle_main\u001b[0;34m(self, element, id_)\u001b[0m\n\u001b[1;32m     22\u001b[0m                 df.loc[self.soups.index[i], \"Title\"] = (\n\u001b[0;32m---> 23\u001b[0;31m                     \u001b[0mBeautifulSoup\u001b[0m\u001b[0;34m(\u001b[0m\u001b[0msoup\u001b[0m\u001b[0;34m)\u001b[0m\u001b[0;34m.\u001b[0m\u001b[0mfind\u001b[0m\u001b[0;34m(\u001b[0m\u001b[0mattrs\u001b[0m\u001b[0;34m=\u001b[0m\u001b[0;34m{\u001b[0m\u001b[0melement\u001b[0m\u001b[0;34m:\u001b[0m \u001b[0mid_\u001b[0m\u001b[0;34m}\u001b[0m\u001b[0;34m)\u001b[0m\u001b[0;34m.\u001b[0m\u001b[0mget_text\u001b[0m\u001b[0;34m(\u001b[0m\u001b[0;34m)\u001b[0m\u001b[0;34m\u001b[0m\u001b[0;34m\u001b[0m\u001b[0m\n\u001b[0m\u001b[1;32m     24\u001b[0m                 )\n",
      "\u001b[0;32m/usr/local/lib/python3.8/site-packages/bs4/__init__.py\u001b[0m in \u001b[0;36m__init__\u001b[0;34m(self, markup, features, builder, parse_only, from_encoding, exclude_encodings, element_classes, **kwargs)\u001b[0m\n\u001b[1;32m    344\u001b[0m             \u001b[0;32mtry\u001b[0m\u001b[0;34m:\u001b[0m\u001b[0;34m\u001b[0m\u001b[0;34m\u001b[0m\u001b[0m\n\u001b[0;32m--> 345\u001b[0;31m                 \u001b[0mself\u001b[0m\u001b[0;34m.\u001b[0m\u001b[0m_feed\u001b[0m\u001b[0;34m(\u001b[0m\u001b[0;34m)\u001b[0m\u001b[0;34m\u001b[0m\u001b[0;34m\u001b[0m\u001b[0m\n\u001b[0m\u001b[1;32m    346\u001b[0m                 \u001b[0msuccess\u001b[0m \u001b[0;34m=\u001b[0m \u001b[0;32mTrue\u001b[0m\u001b[0;34m\u001b[0m\u001b[0;34m\u001b[0m\u001b[0m\n",
      "\u001b[0;32m/usr/local/lib/python3.8/site-packages/bs4/__init__.py\u001b[0m in \u001b[0;36m_feed\u001b[0;34m(self)\u001b[0m\n\u001b[1;32m    430\u001b[0m \u001b[0;34m\u001b[0m\u001b[0m\n\u001b[0;32m--> 431\u001b[0;31m         \u001b[0mself\u001b[0m\u001b[0;34m.\u001b[0m\u001b[0mbuilder\u001b[0m\u001b[0;34m.\u001b[0m\u001b[0mfeed\u001b[0m\u001b[0;34m(\u001b[0m\u001b[0mself\u001b[0m\u001b[0;34m.\u001b[0m\u001b[0mmarkup\u001b[0m\u001b[0;34m)\u001b[0m\u001b[0;34m\u001b[0m\u001b[0;34m\u001b[0m\u001b[0m\n\u001b[0m\u001b[1;32m    432\u001b[0m         \u001b[0;31m# Close out any unfinished strings and close all the open tags.\u001b[0m\u001b[0;34m\u001b[0m\u001b[0;34m\u001b[0m\u001b[0;34m\u001b[0m\u001b[0m\n",
      "\u001b[0;32m/usr/local/lib/python3.8/site-packages/bs4/builder/_lxml.py\u001b[0m in \u001b[0;36mfeed\u001b[0;34m(self, markup)\u001b[0m\n\u001b[1;32m    323\u001b[0m             \u001b[0mself\u001b[0m\u001b[0;34m.\u001b[0m\u001b[0mparser\u001b[0m \u001b[0;34m=\u001b[0m \u001b[0mself\u001b[0m\u001b[0;34m.\u001b[0m\u001b[0mparser_for\u001b[0m\u001b[0;34m(\u001b[0m\u001b[0mencoding\u001b[0m\u001b[0;34m)\u001b[0m\u001b[0;34m\u001b[0m\u001b[0;34m\u001b[0m\u001b[0m\n\u001b[0;32m--> 324\u001b[0;31m             \u001b[0mself\u001b[0m\u001b[0;34m.\u001b[0m\u001b[0mparser\u001b[0m\u001b[0;34m.\u001b[0m\u001b[0mfeed\u001b[0m\u001b[0;34m(\u001b[0m\u001b[0mmarkup\u001b[0m\u001b[0;34m)\u001b[0m\u001b[0;34m\u001b[0m\u001b[0;34m\u001b[0m\u001b[0m\n\u001b[0m\u001b[1;32m    325\u001b[0m             \u001b[0mself\u001b[0m\u001b[0;34m.\u001b[0m\u001b[0mparser\u001b[0m\u001b[0;34m.\u001b[0m\u001b[0mclose\u001b[0m\u001b[0;34m(\u001b[0m\u001b[0;34m)\u001b[0m\u001b[0;34m\u001b[0m\u001b[0;34m\u001b[0m\u001b[0m\n",
      "\u001b[0;32msrc/lxml/parser.pxi\u001b[0m in \u001b[0;36mlxml.etree._FeedParser.feed\u001b[0;34m()\u001b[0m\n",
      "\u001b[0;32msrc/lxml/parser.pxi\u001b[0m in \u001b[0;36mlxml.etree._FeedParser.feed\u001b[0;34m()\u001b[0m\n",
      "\u001b[0;32msrc/lxml/parsertarget.pxi\u001b[0m in \u001b[0;36mlxml.etree._TargetParserContext._handleParseResult\u001b[0;34m()\u001b[0m\n",
      "\u001b[0;32msrc/lxml/parsertarget.pxi\u001b[0m in \u001b[0;36mlxml.etree._TargetParserContext._handleParseResult\u001b[0;34m()\u001b[0m\n",
      "\u001b[0;32msrc/lxml/etree.pyx\u001b[0m in \u001b[0;36mlxml.etree._ExceptionContext._raise_if_stored\u001b[0;34m()\u001b[0m\n",
      "\u001b[0;32msrc/lxml/saxparser.pxi\u001b[0m in \u001b[0;36mlxml.etree._handleSaxTargetStartNoNs\u001b[0;34m()\u001b[0m\n",
      "\u001b[0;32msrc/lxml/saxparser.pxi\u001b[0m in \u001b[0;36mlxml.etree._callTargetSaxStart\u001b[0;34m()\u001b[0m\n",
      "\u001b[0;32msrc/lxml/parsertarget.pxi\u001b[0m in \u001b[0;36mlxml.etree._PythonSaxParserTarget._handleSaxStart\u001b[0;34m()\u001b[0m\n",
      "\u001b[0;32m/usr/local/lib/python3.8/site-packages/bs4/builder/_lxml.py\u001b[0m in \u001b[0;36mstart\u001b[0;34m(self, name, attrs, nsmap)\u001b[0m\n\u001b[1;32m    256\u001b[0m         \u001b[0mnsprefix\u001b[0m \u001b[0;34m=\u001b[0m \u001b[0mself\u001b[0m\u001b[0;34m.\u001b[0m\u001b[0m_prefix_for_namespace\u001b[0m\u001b[0;34m(\u001b[0m\u001b[0mnamespace\u001b[0m\u001b[0;34m)\u001b[0m\u001b[0;34m\u001b[0m\u001b[0;34m\u001b[0m\u001b[0m\n\u001b[0;32m--> 257\u001b[0;31m         \u001b[0mself\u001b[0m\u001b[0;34m.\u001b[0m\u001b[0msoup\u001b[0m\u001b[0;34m.\u001b[0m\u001b[0mhandle_starttag\u001b[0m\u001b[0;34m(\u001b[0m\u001b[0mname\u001b[0m\u001b[0;34m,\u001b[0m \u001b[0mnamespace\u001b[0m\u001b[0;34m,\u001b[0m \u001b[0mnsprefix\u001b[0m\u001b[0;34m,\u001b[0m \u001b[0mattrs\u001b[0m\u001b[0;34m)\u001b[0m\u001b[0;34m\u001b[0m\u001b[0;34m\u001b[0m\u001b[0m\n\u001b[0m\u001b[1;32m    258\u001b[0m \u001b[0;34m\u001b[0m\u001b[0m\n",
      "\u001b[0;32m/usr/local/lib/python3.8/site-packages/bs4/__init__.py\u001b[0m in \u001b[0;36mhandle_starttag\u001b[0;34m(self, name, namespace, nsprefix, attrs, sourceline, sourcepos)\u001b[0m\n\u001b[1;32m    698\u001b[0m         \u001b[0mself\u001b[0m\u001b[0;34m.\u001b[0m\u001b[0m_most_recent_element\u001b[0m \u001b[0;34m=\u001b[0m \u001b[0mtag\u001b[0m\u001b[0;34m\u001b[0m\u001b[0;34m\u001b[0m\u001b[0m\n\u001b[0;32m--> 699\u001b[0;31m         \u001b[0mself\u001b[0m\u001b[0;34m.\u001b[0m\u001b[0mpushTag\u001b[0m\u001b[0;34m(\u001b[0m\u001b[0mtag\u001b[0m\u001b[0;34m)\u001b[0m\u001b[0;34m\u001b[0m\u001b[0;34m\u001b[0m\u001b[0m\n\u001b[0m\u001b[1;32m    700\u001b[0m         \u001b[0;32mreturn\u001b[0m \u001b[0mtag\u001b[0m\u001b[0;34m\u001b[0m\u001b[0;34m\u001b[0m\u001b[0m\n",
      "\u001b[0;32m/usr/local/lib/python3.8/site-packages/bs4/__init__.py\u001b[0m in \u001b[0;36mpushTag\u001b[0;34m(self, tag)\u001b[0m\n\u001b[1;32m    529\u001b[0m             \u001b[0mself\u001b[0m\u001b[0;34m.\u001b[0m\u001b[0mpreserve_whitespace_tag_stack\u001b[0m\u001b[0;34m.\u001b[0m\u001b[0mappend\u001b[0m\u001b[0;34m(\u001b[0m\u001b[0mtag\u001b[0m\u001b[0;34m)\u001b[0m\u001b[0;34m\u001b[0m\u001b[0;34m\u001b[0m\u001b[0m\n\u001b[0;32m--> 530\u001b[0;31m         \u001b[0;32mif\u001b[0m \u001b[0mtag\u001b[0m\u001b[0;34m.\u001b[0m\u001b[0mname\u001b[0m \u001b[0;32min\u001b[0m \u001b[0mself\u001b[0m\u001b[0;34m.\u001b[0m\u001b[0mbuilder\u001b[0m\u001b[0;34m.\u001b[0m\u001b[0mstring_containers\u001b[0m\u001b[0;34m:\u001b[0m\u001b[0;34m\u001b[0m\u001b[0;34m\u001b[0m\u001b[0m\n\u001b[0m\u001b[1;32m    531\u001b[0m             \u001b[0mself\u001b[0m\u001b[0;34m.\u001b[0m\u001b[0mstring_container_stack\u001b[0m\u001b[0;34m.\u001b[0m\u001b[0mappend\u001b[0m\u001b[0;34m(\u001b[0m\u001b[0mtag\u001b[0m\u001b[0;34m)\u001b[0m\u001b[0;34m\u001b[0m\u001b[0;34m\u001b[0m\u001b[0m\n",
      "\u001b[0;31mKeyboardInterrupt\u001b[0m: ",
      "\nDuring handling of the above exception, another exception occurred:\n",
      "\u001b[0;31mAttributeError\u001b[0m                            Traceback (most recent call last)",
      "\u001b[0;32m/usr/local/lib/python3.8/site-packages/IPython/core/interactiveshell.py\u001b[0m in \u001b[0;36mshowtraceback\u001b[0;34m(self, exc_tuple, filename, tb_offset, exception_only, running_compiled_code)\u001b[0m\n\u001b[1;32m   2043\u001b[0m                         \u001b[0;31m# in the engines. This should return a list of strings.\u001b[0m\u001b[0;34m\u001b[0m\u001b[0;34m\u001b[0m\u001b[0;34m\u001b[0m\u001b[0m\n\u001b[0;32m-> 2044\u001b[0;31m                         \u001b[0mstb\u001b[0m \u001b[0;34m=\u001b[0m \u001b[0mvalue\u001b[0m\u001b[0;34m.\u001b[0m\u001b[0m_render_traceback_\u001b[0m\u001b[0;34m(\u001b[0m\u001b[0;34m)\u001b[0m\u001b[0;34m\u001b[0m\u001b[0;34m\u001b[0m\u001b[0m\n\u001b[0m\u001b[1;32m   2045\u001b[0m                     \u001b[0;32mexcept\u001b[0m \u001b[0mException\u001b[0m\u001b[0;34m:\u001b[0m\u001b[0;34m\u001b[0m\u001b[0;34m\u001b[0m\u001b[0m\n",
      "\u001b[0;31mAttributeError\u001b[0m: 'KeyboardInterrupt' object has no attribute '_render_traceback_'",
      "\nDuring handling of the above exception, another exception occurred:\n",
      "\u001b[0;31mTypeError\u001b[0m                                 Traceback (most recent call last)",
      "    \u001b[0;31m[... skipping hidden 1 frame]\u001b[0m\n",
      "\u001b[0;32m/usr/local/lib/python3.8/site-packages/IPython/core/interactiveshell.py\u001b[0m in \u001b[0;36mshowtraceback\u001b[0;34m(self, exc_tuple, filename, tb_offset, exception_only, running_compiled_code)\u001b[0m\n\u001b[1;32m   2044\u001b[0m                         \u001b[0mstb\u001b[0m \u001b[0;34m=\u001b[0m \u001b[0mvalue\u001b[0m\u001b[0;34m.\u001b[0m\u001b[0m_render_traceback_\u001b[0m\u001b[0;34m(\u001b[0m\u001b[0;34m)\u001b[0m\u001b[0;34m\u001b[0m\u001b[0;34m\u001b[0m\u001b[0m\n\u001b[1;32m   2045\u001b[0m                     \u001b[0;32mexcept\u001b[0m \u001b[0mException\u001b[0m\u001b[0;34m:\u001b[0m\u001b[0;34m\u001b[0m\u001b[0;34m\u001b[0m\u001b[0m\n\u001b[0;32m-> 2046\u001b[0;31m                         stb = self.InteractiveTB.structured_traceback(etype,\n\u001b[0m\u001b[1;32m   2047\u001b[0m                                             value, tb, tb_offset=tb_offset)\n\u001b[1;32m   2048\u001b[0m \u001b[0;34m\u001b[0m\u001b[0m\n",
      "\u001b[0;32m/usr/local/lib/python3.8/site-packages/IPython/core/ultratb.py\u001b[0m in \u001b[0;36mstructured_traceback\u001b[0;34m(self, etype, value, tb, tb_offset, number_of_lines_of_context)\u001b[0m\n\u001b[1;32m   1433\u001b[0m         \u001b[0;32melse\u001b[0m\u001b[0;34m:\u001b[0m\u001b[0;34m\u001b[0m\u001b[0;34m\u001b[0m\u001b[0m\n\u001b[1;32m   1434\u001b[0m             \u001b[0mself\u001b[0m\u001b[0;34m.\u001b[0m\u001b[0mtb\u001b[0m \u001b[0;34m=\u001b[0m \u001b[0mtb\u001b[0m\u001b[0;34m\u001b[0m\u001b[0;34m\u001b[0m\u001b[0m\n\u001b[0;32m-> 1435\u001b[0;31m         return FormattedTB.structured_traceback(\n\u001b[0m\u001b[1;32m   1436\u001b[0m             self, etype, value, tb, tb_offset, number_of_lines_of_context)\n\u001b[1;32m   1437\u001b[0m \u001b[0;34m\u001b[0m\u001b[0m\n",
      "\u001b[0;32m/usr/local/lib/python3.8/site-packages/IPython/core/ultratb.py\u001b[0m in \u001b[0;36mstructured_traceback\u001b[0;34m(self, etype, value, tb, tb_offset, number_of_lines_of_context)\u001b[0m\n\u001b[1;32m   1333\u001b[0m         \u001b[0;32mif\u001b[0m \u001b[0mmode\u001b[0m \u001b[0;32min\u001b[0m \u001b[0mself\u001b[0m\u001b[0;34m.\u001b[0m\u001b[0mverbose_modes\u001b[0m\u001b[0;34m:\u001b[0m\u001b[0;34m\u001b[0m\u001b[0;34m\u001b[0m\u001b[0m\n\u001b[1;32m   1334\u001b[0m             \u001b[0;31m# Verbose modes need a full traceback\u001b[0m\u001b[0;34m\u001b[0m\u001b[0;34m\u001b[0m\u001b[0;34m\u001b[0m\u001b[0m\n\u001b[0;32m-> 1335\u001b[0;31m             return VerboseTB.structured_traceback(\n\u001b[0m\u001b[1;32m   1336\u001b[0m                 \u001b[0mself\u001b[0m\u001b[0;34m,\u001b[0m \u001b[0metype\u001b[0m\u001b[0;34m,\u001b[0m \u001b[0mvalue\u001b[0m\u001b[0;34m,\u001b[0m \u001b[0mtb\u001b[0m\u001b[0;34m,\u001b[0m \u001b[0mtb_offset\u001b[0m\u001b[0;34m,\u001b[0m \u001b[0mnumber_of_lines_of_context\u001b[0m\u001b[0;34m\u001b[0m\u001b[0;34m\u001b[0m\u001b[0m\n\u001b[1;32m   1337\u001b[0m             )\n",
      "\u001b[0;32m/usr/local/lib/python3.8/site-packages/IPython/core/ultratb.py\u001b[0m in \u001b[0;36mstructured_traceback\u001b[0;34m(self, etype, evalue, etb, tb_offset, number_of_lines_of_context)\u001b[0m\n\u001b[1;32m   1190\u001b[0m         \u001b[0;34m\"\"\"Return a nice text document describing the traceback.\"\"\"\u001b[0m\u001b[0;34m\u001b[0m\u001b[0;34m\u001b[0m\u001b[0m\n\u001b[1;32m   1191\u001b[0m \u001b[0;34m\u001b[0m\u001b[0m\n\u001b[0;32m-> 1192\u001b[0;31m         formatted_exception = self.format_exception_as_a_whole(etype, evalue, etb, number_of_lines_of_context,\n\u001b[0m\u001b[1;32m   1193\u001b[0m                                                                tb_offset)\n\u001b[1;32m   1194\u001b[0m \u001b[0;34m\u001b[0m\u001b[0m\n",
      "\u001b[0;32m/usr/local/lib/python3.8/site-packages/IPython/core/ultratb.py\u001b[0m in \u001b[0;36mformat_exception_as_a_whole\u001b[0;34m(self, etype, evalue, etb, number_of_lines_of_context, tb_offset)\u001b[0m\n\u001b[1;32m   1148\u001b[0m \u001b[0;34m\u001b[0m\u001b[0m\n\u001b[1;32m   1149\u001b[0m \u001b[0;34m\u001b[0m\u001b[0m\n\u001b[0;32m-> 1150\u001b[0;31m         \u001b[0mlast_unique\u001b[0m\u001b[0;34m,\u001b[0m \u001b[0mrecursion_repeat\u001b[0m \u001b[0;34m=\u001b[0m \u001b[0mfind_recursion\u001b[0m\u001b[0;34m(\u001b[0m\u001b[0morig_etype\u001b[0m\u001b[0;34m,\u001b[0m \u001b[0mevalue\u001b[0m\u001b[0;34m,\u001b[0m \u001b[0mrecords\u001b[0m\u001b[0;34m)\u001b[0m\u001b[0;34m\u001b[0m\u001b[0;34m\u001b[0m\u001b[0m\n\u001b[0m\u001b[1;32m   1151\u001b[0m \u001b[0;34m\u001b[0m\u001b[0m\n\u001b[1;32m   1152\u001b[0m         \u001b[0mframes\u001b[0m \u001b[0;34m=\u001b[0m \u001b[0mself\u001b[0m\u001b[0;34m.\u001b[0m\u001b[0mformat_records\u001b[0m\u001b[0;34m(\u001b[0m\u001b[0mrecords\u001b[0m\u001b[0;34m,\u001b[0m \u001b[0mlast_unique\u001b[0m\u001b[0;34m,\u001b[0m \u001b[0mrecursion_repeat\u001b[0m\u001b[0;34m)\u001b[0m\u001b[0;34m\u001b[0m\u001b[0;34m\u001b[0m\u001b[0m\n",
      "\u001b[0;32m/usr/local/lib/python3.8/site-packages/IPython/core/ultratb.py\u001b[0m in \u001b[0;36mfind_recursion\u001b[0;34m(etype, value, records)\u001b[0m\n\u001b[1;32m    449\u001b[0m     \u001b[0;31m# first frame (from in to out) that looks different.\u001b[0m\u001b[0;34m\u001b[0m\u001b[0;34m\u001b[0m\u001b[0;34m\u001b[0m\u001b[0m\n\u001b[1;32m    450\u001b[0m     \u001b[0;32mif\u001b[0m \u001b[0;32mnot\u001b[0m \u001b[0mis_recursion_error\u001b[0m\u001b[0;34m(\u001b[0m\u001b[0metype\u001b[0m\u001b[0;34m,\u001b[0m \u001b[0mvalue\u001b[0m\u001b[0;34m,\u001b[0m \u001b[0mrecords\u001b[0m\u001b[0;34m)\u001b[0m\u001b[0;34m:\u001b[0m\u001b[0;34m\u001b[0m\u001b[0;34m\u001b[0m\u001b[0m\n\u001b[0;32m--> 451\u001b[0;31m         \u001b[0;32mreturn\u001b[0m \u001b[0mlen\u001b[0m\u001b[0;34m(\u001b[0m\u001b[0mrecords\u001b[0m\u001b[0;34m)\u001b[0m\u001b[0;34m,\u001b[0m \u001b[0;36m0\u001b[0m\u001b[0;34m\u001b[0m\u001b[0;34m\u001b[0m\u001b[0m\n\u001b[0m\u001b[1;32m    452\u001b[0m \u001b[0;34m\u001b[0m\u001b[0m\n\u001b[1;32m    453\u001b[0m     \u001b[0;31m# Select filename, lineno, func_name to track frames with\u001b[0m\u001b[0;34m\u001b[0m\u001b[0;34m\u001b[0m\u001b[0;34m\u001b[0m\u001b[0m\n",
      "\u001b[0;31mTypeError\u001b[0m: object of type 'NoneType' has no len()"
     ]
    }
   ],
   "source": [
    "df_clean = pd.DataFrame()\n",
    "for data_month in tqdm(data_files):\n",
    "\n",
    "    df = pd.read_pickle(data_month)\n",
    "    df[\"page\"] = \"origo\"\n",
    "\n",
    "    Origo(df).clean()\n",
    "\n",
    "    df_clean = pd.concat([df_clean, df.drop(columns=[\"Unnamed: 0\", \"soup\"])])"
   ]
  },
  {
   "cell_type": "code",
   "execution_count": 109,
   "metadata": {},
   "outputs": [],
   "source": [
    "df_clean.to_pickle(data_dir + \"origo_clean.pkl\")"
   ]
  },
  {
   "cell_type": "code",
   "execution_count": 154,
   "metadata": {},
   "outputs": [],
   "source": [
    "df = pd.read_pickle(data_dir + \"origo_clean.pkl\").reset_index(drop=True)"
   ]
  },
  {
   "cell_type": "code",
   "execution_count": 149,
   "metadata": {},
   "outputs": [
    {
     "data": {
      "text/html": [
       "<div>\n",
       "<style scoped>\n",
       "    .dataframe tbody tr th:only-of-type {\n",
       "        vertical-align: middle;\n",
       "    }\n",
       "\n",
       "    .dataframe tbody tr th {\n",
       "        vertical-align: top;\n",
       "    }\n",
       "\n",
       "    .dataframe thead th {\n",
       "        text-align: right;\n",
       "    }\n",
       "</style>\n",
       "<table border=\"1\" class=\"dataframe\">\n",
       "  <thead>\n",
       "    <tr style=\"text-align: right;\">\n",
       "      <th></th>\n",
       "      <th>link</th>\n",
       "      <th>date</th>\n",
       "      <th>month</th>\n",
       "      <th>rovat</th>\n",
       "      <th>page</th>\n",
       "      <th>Title</th>\n",
       "      <th>Text</th>\n",
       "      <th>links</th>\n",
       "      <th>Author</th>\n",
       "      <th>Tags</th>\n",
       "    </tr>\n",
       "  </thead>\n",
       "  <tbody>\n",
       "    <tr>\n",
       "      <th>0</th>\n",
       "      <td>https://www.origo.hu/tudomany/20200107-cica-mo...</td>\n",
       "      <td>20200107</td>\n",
       "      <td>01</td>\n",
       "      <td>tudomany</td>\n",
       "      <td>origo</td>\n",
       "      <td>A dorombolás gyógyító ereje</td>\n",
       "      <td>Az általános hipotézis az, hogy a macska elége...</td>\n",
       "      <td>['https://www.origo.hu/cimkek/podcast/index.ht...</td>\n",
       "      <td>Szomor Anikó</td>\n",
       "      <td>['etológia', 'állatvédelem', 'állatorvoslás', ...</td>\n",
       "    </tr>\n",
       "    <tr>\n",
       "      <th>1</th>\n",
       "      <td>https://www.origo.hu/sport/egyeni/20200129-buc...</td>\n",
       "      <td>20200129</td>\n",
       "      <td>01</td>\n",
       "      <td>sport</td>\n",
       "      <td>origo</td>\n",
       "      <td>None</td>\n",
       "      <td>None</td>\n",
       "      <td>['/sport/loero/index.html', 'https://reblog.hu...</td>\n",
       "      <td>Zámbó István</td>\n",
       "      <td>None</td>\n",
       "    </tr>\n",
       "    <tr>\n",
       "      <th>2</th>\n",
       "      <td>https://www.origo.hu/itthon/20200127-az-i-keru...</td>\n",
       "      <td>20200127</td>\n",
       "      <td>01</td>\n",
       "      <td>itthon</td>\n",
       "      <td>origo</td>\n",
       "      <td>Egymás után próbálja megakadályozni a fejleszt...</td>\n",
       "      <td>Az I. kerületben az októberi választások után ...</td>\n",
       "      <td>['https://www.origo.hu/cimkek/varkapitanysag/i...</td>\n",
       "      <td>Szalma György</td>\n",
       "      <td>['Budai Vár', 'Budavár', 'V. Naszályi Márta', ...</td>\n",
       "    </tr>\n",
       "    <tr>\n",
       "      <th>3</th>\n",
       "      <td>https://www.origo.hu/sport/egyeni/20200120-par...</td>\n",
       "      <td>20200120</td>\n",
       "      <td>01</td>\n",
       "      <td>sport</td>\n",
       "      <td>origo</td>\n",
       "      <td>None</td>\n",
       "      <td>None</td>\n",
       "      <td>['https://www.instagram.com/p/B7PEJolp4Qh/?utm...</td>\n",
       "      <td>Hegyi Áron</td>\n",
       "      <td>None</td>\n",
       "    </tr>\n",
       "    <tr>\n",
       "      <th>4</th>\n",
       "      <td>https://www.origo.hu/itthon/20200127-a-zoldkon...</td>\n",
       "      <td>20200127</td>\n",
       "      <td>01</td>\n",
       "      <td>itthon</td>\n",
       "      <td>origo</td>\n",
       "      <td>A környezetvédő konzervatívokat támadják a tém...</td>\n",
       "      <td>A konzervatív jobboldali politikusok által kín...</td>\n",
       "      <td>['https://www.origo.hu/cimkek/podcast/index.ht...</td>\n",
       "      <td>Kurmai Kornél</td>\n",
       "      <td>['környezetvédelem', 'klímavédelem', 'ökofasis...</td>\n",
       "    </tr>\n",
       "  </tbody>\n",
       "</table>\n",
       "</div>"
      ],
      "text/plain": [
       "                                                link      date month  \\\n",
       "0  https://www.origo.hu/tudomany/20200107-cica-mo...  20200107    01   \n",
       "1  https://www.origo.hu/sport/egyeni/20200129-buc...  20200129    01   \n",
       "2  https://www.origo.hu/itthon/20200127-az-i-keru...  20200127    01   \n",
       "3  https://www.origo.hu/sport/egyeni/20200120-par...  20200120    01   \n",
       "4  https://www.origo.hu/itthon/20200127-a-zoldkon...  20200127    01   \n",
       "\n",
       "      rovat   page                                              Title  \\\n",
       "0  tudomany  origo                        A dorombolás gyógyító ereje   \n",
       "1     sport  origo                                               None   \n",
       "2    itthon  origo  Egymás után próbálja megakadályozni a fejleszt...   \n",
       "3     sport  origo                                               None   \n",
       "4    itthon  origo  A környezetvédő konzervatívokat támadják a tém...   \n",
       "\n",
       "                                                Text  \\\n",
       "0  Az általános hipotézis az, hogy a macska elége...   \n",
       "1                                               None   \n",
       "2  Az I. kerületben az októberi választások után ...   \n",
       "3                                               None   \n",
       "4  A konzervatív jobboldali politikusok által kín...   \n",
       "\n",
       "                                               links         Author  \\\n",
       "0  ['https://www.origo.hu/cimkek/podcast/index.ht...   Szomor Anikó   \n",
       "1  ['/sport/loero/index.html', 'https://reblog.hu...   Zámbó István   \n",
       "2  ['https://www.origo.hu/cimkek/varkapitanysag/i...  Szalma György   \n",
       "3  ['https://www.instagram.com/p/B7PEJolp4Qh/?utm...     Hegyi Áron   \n",
       "4  ['https://www.origo.hu/cimkek/podcast/index.ht...  Kurmai Kornél   \n",
       "\n",
       "                                                Tags  \n",
       "0  ['etológia', 'állatvédelem', 'állatorvoslás', ...  \n",
       "1                                               None  \n",
       "2  ['Budai Vár', 'Budavár', 'V. Naszályi Márta', ...  \n",
       "3                                               None  \n",
       "4  ['környezetvédelem', 'klímavédelem', 'ökofasis...  "
      ]
     },
     "execution_count": 149,
     "metadata": {},
     "output_type": "execute_result"
    }
   ],
   "source": [
    "df.head()"
   ]
  },
  {
   "cell_type": "code",
   "execution_count": 150,
   "metadata": {},
   "outputs": [
    {
     "data": {
      "text/plain": [
       "itthon        16822\n",
       "sport         14582\n",
       "nagyvilag      9142\n",
       "gazdasag       6040\n",
       "techbazis      3361\n",
       "tudomany       3352\n",
       "auto           1622\n",
       "filmklub       1540\n",
       "tafelspicc     1142\n",
       "idojaras          3\n",
       "Name: rovat, dtype: int64"
      ]
     },
     "execution_count": 150,
     "metadata": {},
     "output_type": "execute_result"
    }
   ],
   "source": [
    "df[\"rovat\"].value_counts().head(20)"
   ]
  },
  {
   "cell_type": "code",
   "execution_count": 158,
   "metadata": {},
   "outputs": [
    {
     "data": {
      "text/plain": [
       "'Összesen 17,5 millió dollárnyi büntetést kell fizetnie John Stumpfnak, a Wells Fargo bank korábbi vezérigazgatójának, mivel kiderült, a vállalat több millió hamis számlát kreált az ügyfelek felhatalmazása nélkül. Ritkán fordul elő a pénzügyi szektorban, hogy egy bankvezetőt személyesen büntetnek meg a hatóságok azért, mert az általa irányított pénzintézet törvénytelenül járt el. Most azonban az amerikai Wells Fargo befektetési bank volt vezetőjének, John Stumpfnak 17,5 millió dollárt kell fizetnie, amiért bankja hamis számlákat gyártott– írja a BBC. A vádakat azt követően fogalmazták meg, hogy kiderült, a Wells Fargonál több millió hamis ügyfélszámlát hoztak létre annak érdekében, hogy tartani tudják az értékesítési célokat. A vállalat közlése szerint mintegy 3,5 millió ilyen számlát kreáltak, az ügyfelek engedélye nélkül. A mostani döntés értelmében John Stumpf soha többé, semmilyen formában nem dolgozhat a pénzügyi szektorban. A szövetségi bankrendszert adminisztráló amerikai hatóság (Office of Comptroller of the Currency) emellett közölte, a mostani megállapodás során két másik korábbi Wells Fargo vezetővel is megegyeztek, illetve vádat emeltek öt korábbi vezető alkalmazott ellen. A Wells Fargo hamis számláival kapcsolatos botrány egyébként 2016-ban robbant ki, és annak idején komoly felháborodást keltett az Egyesült Államokban. Már csak azért is, mert Stumpf akkor a hírek szerint 130 millió dollárral hagyta el a vállalatot. A jelenlegi döntéssel kapcsolatban a bank mostani vezetője, Charlie Scharf úgy nyilatkozott, hogy amellett, hogy az ügy „megbocsáthatatlan\", a bank annak idején nem rendelkezett megfelelő emberekkel, struktúrával és kontrollmechanizmusokkal ahhoz, hogy megelőzze az ilyen jellegű visszaéléseket. A méreteket tekintve Kína adja a világ legnagyobb pénzintézeteit, azonban az amerikai bankok sokkal hatékonyabban működnek - derül ki a The Banker friss jelentéséből, amely a világ 1000 legnagyobb bankját összesítette. A kínai és az amerikai bankok uralják a pénzintézeti szektort a világban - így foglalható össze röviden a The Banker éves, Top 1000 World Banks című elemzésének 2019-es kiadása. Ez azonban nem az első eset, hogy a Wells Fargót megbüntetik az amerikai hatóságok. 2018-ban például két szabályozó hatóság rekord magas összegre, 1 milliárd dollárra büntette a bankot, amikor nyomozás folyt a pénzintézet ellen az autó- és jelzálogkölcsön szabályok megsértése miatt. Az akkori és a mostani eset is úgy zárult azonban, ahogy ez a nagybankoknál általában szokás. A vállalatok megegyeznek a hatóságokkal, kifizetik a bírságot, amivel a vizsgálat lényegében befejeződik – elkerülve így a további jogi kellemetlenségeket.'"
      ]
     },
     "execution_count": 158,
     "metadata": {},
     "output_type": "execute_result"
    }
   ],
   "source": [
    "df.loc[1310,\"Text\"]"
   ]
  },
  {
   "cell_type": "code",
   "execution_count": 152,
   "metadata": {},
   "outputs": [
    {
     "data": {
      "text/plain": [
       "0.2534722222222222"
      ]
     },
     "execution_count": 152,
     "metadata": {},
     "output_type": "execute_result"
    }
   ],
   "source": [
    "14600/57600"
   ]
  },
  {
   "cell_type": "code",
   "execution_count": null,
   "metadata": {},
   "outputs": [],
   "source": []
  }
 ],
 "metadata": {
  "kernelspec": {
   "display_name": "Python 3",
   "language": "python",
   "name": "python3"
  },
  "language_info": {
   "codemirror_mode": {
    "name": "ipython",
    "version": 3
   },
   "file_extension": ".py",
   "mimetype": "text/x-python",
   "name": "python",
   "nbconvert_exporter": "python",
   "pygments_lexer": "ipython3",
   "version": "3.8.6"
  }
 },
 "nbformat": 4,
 "nbformat_minor": 4
}
