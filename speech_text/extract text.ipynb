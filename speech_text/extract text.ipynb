{
 "cells": [
  {
   "cell_type": "code",
   "execution_count": 1,
   "metadata": {},
   "outputs": [],
   "source": [
    "import pandas as pd\n",
    "import numpy as np\n",
    "import os\n",
    "import re\n",
    "# importing required modules \n",
    "from tqdm.notebook import tqdm\n",
    "from pdfminer import high_level\n",
    "import requests\n",
    "import ast  # for string to list: ast.literal_eval()\n",
    "from bs4 import BeautifulSoup"
   ]
  },
  {
   "cell_type": "code",
   "execution_count": 10,
   "metadata": {},
   "outputs": [],
   "source": [
    "resp = requests.get(\"https://www.parlament.hu/orszaggyulesi-naplo\")"
   ]
  },
  {
   "cell_type": "code",
   "execution_count": 11,
   "metadata": {},
   "outputs": [],
   "source": [
    "soup = BeautifulSoup(resp.content,\"html.parser\")"
   ]
  },
  {
   "cell_type": "code",
   "execution_count": 12,
   "metadata": {},
   "outputs": [],
   "source": [
    "link_list = [\"https://www.parlament.hu/\" + file.get(\"href\") for file in soup.select(\"tbody a\")]"
   ]
  },
  {
   "cell_type": "code",
   "execution_count": 13,
   "metadata": {},
   "outputs": [
    {
     "output_type": "execute_result",
     "data": {
      "text/plain": [
       "'https://www.parlament.hu//documents/10181/1569934/ny180604/51230b5b-cc93-14b2-86aa-d59bf33283b6'"
      ]
     },
     "metadata": {},
     "execution_count": 13
    }
   ],
   "source": [
    "link_list[176]"
   ]
  },
  {
   "cell_type": "code",
   "execution_count": 14,
   "metadata": {},
   "outputs": [
    {
     "output_type": "execute_result",
     "data": {
      "text/plain": [
       "'ny180604.pdf'"
      ]
     },
     "metadata": {},
     "execution_count": 14
    }
   ],
   "source": [
    "link_list[176].split(\"/\")[7] + \".pdf\""
   ]
  },
  {
   "cell_type": "code",
   "execution_count": 15,
   "metadata": {},
   "outputs": [
    {
     "output_type": "display_data",
     "data": {
      "text/plain": "HBox(children=(FloatProgress(value=0.0, max=177.0), HTML(value='')))",
      "application/vnd.jupyter.widget-view+json": {
       "version_major": 2,
       "version_minor": 0,
       "model_id": "b021377948d14a8a943be772f7c1e4d5"
      }
     },
     "metadata": {}
    },
    {
     "output_type": "stream",
     "name": "stdout",
     "text": [
      "\n"
     ]
    },
    {
     "output_type": "error",
     "ename": "KeyboardInterrupt",
     "evalue": "",
     "traceback": [
      "\u001b[0;31m---------------------------------------------------------------------------\u001b[0m",
      "\u001b[0;31mKeyboardInterrupt\u001b[0m                         Traceback (most recent call last)",
      "\u001b[0;32m<ipython-input-15-eed6ffa26b5f>\u001b[0m in \u001b[0;36m<module>\u001b[0;34m\u001b[0m\n\u001b[1;32m      1\u001b[0m \u001b[0;32mfor\u001b[0m \u001b[0mlink\u001b[0m \u001b[0;32min\u001b[0m \u001b[0mtqdm\u001b[0m\u001b[0;34m(\u001b[0m\u001b[0mlink_list\u001b[0m\u001b[0;34m)\u001b[0m\u001b[0;34m:\u001b[0m\u001b[0;34m\u001b[0m\u001b[0;34m\u001b[0m\u001b[0m\n\u001b[0;32m----> 2\u001b[0;31m     \u001b[0mresponse\u001b[0m \u001b[0;34m=\u001b[0m \u001b[0mrequests\u001b[0m\u001b[0;34m.\u001b[0m\u001b[0mget\u001b[0m\u001b[0;34m(\u001b[0m\u001b[0mlink\u001b[0m\u001b[0;34m)\u001b[0m\u001b[0;34m\u001b[0m\u001b[0;34m\u001b[0m\u001b[0m\n\u001b[0m\u001b[1;32m      3\u001b[0m \u001b[0;34m\u001b[0m\u001b[0m\n\u001b[1;32m      4\u001b[0m     \u001b[0;32mwith\u001b[0m \u001b[0mopen\u001b[0m\u001b[0;34m(\u001b[0m\u001b[0;34m\"naplok/\"\u001b[0m \u001b[0;34m+\u001b[0m \u001b[0mlink\u001b[0m\u001b[0;34m.\u001b[0m\u001b[0msplit\u001b[0m\u001b[0;34m(\u001b[0m\u001b[0;34m\"/\"\u001b[0m\u001b[0;34m)\u001b[0m\u001b[0;34m[\u001b[0m\u001b[0;36m7\u001b[0m\u001b[0;34m]\u001b[0m\u001b[0;34m,\u001b[0m \u001b[0;34m\"wb\"\u001b[0m\u001b[0;34m)\u001b[0m \u001b[0;32mas\u001b[0m \u001b[0mf\u001b[0m\u001b[0;34m:\u001b[0m\u001b[0;34m\u001b[0m\u001b[0;34m\u001b[0m\u001b[0m\n\u001b[1;32m      5\u001b[0m         \u001b[0mf\u001b[0m\u001b[0;34m.\u001b[0m\u001b[0mwrite\u001b[0m\u001b[0;34m(\u001b[0m\u001b[0mresponse\u001b[0m\u001b[0;34m.\u001b[0m\u001b[0mcontent\u001b[0m\u001b[0;34m)\u001b[0m\u001b[0;34m\u001b[0m\u001b[0;34m\u001b[0m\u001b[0m\n",
      "\u001b[0;32m/usr/local/lib/python3.8/site-packages/requests/api.py\u001b[0m in \u001b[0;36mget\u001b[0;34m(url, params, **kwargs)\u001b[0m\n\u001b[1;32m     74\u001b[0m \u001b[0;34m\u001b[0m\u001b[0m\n\u001b[1;32m     75\u001b[0m     \u001b[0mkwargs\u001b[0m\u001b[0;34m.\u001b[0m\u001b[0msetdefault\u001b[0m\u001b[0;34m(\u001b[0m\u001b[0;34m'allow_redirects'\u001b[0m\u001b[0;34m,\u001b[0m \u001b[0;32mTrue\u001b[0m\u001b[0;34m)\u001b[0m\u001b[0;34m\u001b[0m\u001b[0;34m\u001b[0m\u001b[0m\n\u001b[0;32m---> 76\u001b[0;31m     \u001b[0;32mreturn\u001b[0m \u001b[0mrequest\u001b[0m\u001b[0;34m(\u001b[0m\u001b[0;34m'get'\u001b[0m\u001b[0;34m,\u001b[0m \u001b[0murl\u001b[0m\u001b[0;34m,\u001b[0m \u001b[0mparams\u001b[0m\u001b[0;34m=\u001b[0m\u001b[0mparams\u001b[0m\u001b[0;34m,\u001b[0m \u001b[0;34m**\u001b[0m\u001b[0mkwargs\u001b[0m\u001b[0;34m)\u001b[0m\u001b[0;34m\u001b[0m\u001b[0;34m\u001b[0m\u001b[0m\n\u001b[0m\u001b[1;32m     77\u001b[0m \u001b[0;34m\u001b[0m\u001b[0m\n\u001b[1;32m     78\u001b[0m \u001b[0;34m\u001b[0m\u001b[0m\n",
      "\u001b[0;32m/usr/local/lib/python3.8/site-packages/requests/api.py\u001b[0m in \u001b[0;36mrequest\u001b[0;34m(method, url, **kwargs)\u001b[0m\n\u001b[1;32m     59\u001b[0m     \u001b[0;31m# cases, and look like a memory leak in others.\u001b[0m\u001b[0;34m\u001b[0m\u001b[0;34m\u001b[0m\u001b[0;34m\u001b[0m\u001b[0m\n\u001b[1;32m     60\u001b[0m     \u001b[0;32mwith\u001b[0m \u001b[0msessions\u001b[0m\u001b[0;34m.\u001b[0m\u001b[0mSession\u001b[0m\u001b[0;34m(\u001b[0m\u001b[0;34m)\u001b[0m \u001b[0;32mas\u001b[0m \u001b[0msession\u001b[0m\u001b[0;34m:\u001b[0m\u001b[0;34m\u001b[0m\u001b[0;34m\u001b[0m\u001b[0m\n\u001b[0;32m---> 61\u001b[0;31m         \u001b[0;32mreturn\u001b[0m \u001b[0msession\u001b[0m\u001b[0;34m.\u001b[0m\u001b[0mrequest\u001b[0m\u001b[0;34m(\u001b[0m\u001b[0mmethod\u001b[0m\u001b[0;34m=\u001b[0m\u001b[0mmethod\u001b[0m\u001b[0;34m,\u001b[0m \u001b[0murl\u001b[0m\u001b[0;34m=\u001b[0m\u001b[0murl\u001b[0m\u001b[0;34m,\u001b[0m \u001b[0;34m**\u001b[0m\u001b[0mkwargs\u001b[0m\u001b[0;34m)\u001b[0m\u001b[0;34m\u001b[0m\u001b[0;34m\u001b[0m\u001b[0m\n\u001b[0m\u001b[1;32m     62\u001b[0m \u001b[0;34m\u001b[0m\u001b[0m\n\u001b[1;32m     63\u001b[0m \u001b[0;34m\u001b[0m\u001b[0m\n",
      "\u001b[0;32m/usr/local/lib/python3.8/site-packages/requests/sessions.py\u001b[0m in \u001b[0;36mrequest\u001b[0;34m(self, method, url, params, data, headers, cookies, files, auth, timeout, allow_redirects, proxies, hooks, stream, verify, cert, json)\u001b[0m\n\u001b[1;32m    528\u001b[0m         }\n\u001b[1;32m    529\u001b[0m         \u001b[0msend_kwargs\u001b[0m\u001b[0;34m.\u001b[0m\u001b[0mupdate\u001b[0m\u001b[0;34m(\u001b[0m\u001b[0msettings\u001b[0m\u001b[0;34m)\u001b[0m\u001b[0;34m\u001b[0m\u001b[0;34m\u001b[0m\u001b[0m\n\u001b[0;32m--> 530\u001b[0;31m         \u001b[0mresp\u001b[0m \u001b[0;34m=\u001b[0m \u001b[0mself\u001b[0m\u001b[0;34m.\u001b[0m\u001b[0msend\u001b[0m\u001b[0;34m(\u001b[0m\u001b[0mprep\u001b[0m\u001b[0;34m,\u001b[0m \u001b[0;34m**\u001b[0m\u001b[0msend_kwargs\u001b[0m\u001b[0;34m)\u001b[0m\u001b[0;34m\u001b[0m\u001b[0;34m\u001b[0m\u001b[0m\n\u001b[0m\u001b[1;32m    531\u001b[0m \u001b[0;34m\u001b[0m\u001b[0m\n\u001b[1;32m    532\u001b[0m         \u001b[0;32mreturn\u001b[0m \u001b[0mresp\u001b[0m\u001b[0;34m\u001b[0m\u001b[0;34m\u001b[0m\u001b[0m\n",
      "\u001b[0;32m/usr/local/lib/python3.8/site-packages/requests/sessions.py\u001b[0m in \u001b[0;36msend\u001b[0;34m(self, request, **kwargs)\u001b[0m\n\u001b[1;32m    683\u001b[0m \u001b[0;34m\u001b[0m\u001b[0m\n\u001b[1;32m    684\u001b[0m         \u001b[0;32mif\u001b[0m \u001b[0;32mnot\u001b[0m \u001b[0mstream\u001b[0m\u001b[0;34m:\u001b[0m\u001b[0;34m\u001b[0m\u001b[0;34m\u001b[0m\u001b[0m\n\u001b[0;32m--> 685\u001b[0;31m             \u001b[0mr\u001b[0m\u001b[0;34m.\u001b[0m\u001b[0mcontent\u001b[0m\u001b[0;34m\u001b[0m\u001b[0;34m\u001b[0m\u001b[0m\n\u001b[0m\u001b[1;32m    686\u001b[0m \u001b[0;34m\u001b[0m\u001b[0m\n\u001b[1;32m    687\u001b[0m         \u001b[0;32mreturn\u001b[0m \u001b[0mr\u001b[0m\u001b[0;34m\u001b[0m\u001b[0;34m\u001b[0m\u001b[0m\n",
      "\u001b[0;32m/usr/local/lib/python3.8/site-packages/requests/models.py\u001b[0m in \u001b[0;36mcontent\u001b[0;34m(self)\u001b[0m\n\u001b[1;32m    827\u001b[0m                 \u001b[0mself\u001b[0m\u001b[0;34m.\u001b[0m\u001b[0m_content\u001b[0m \u001b[0;34m=\u001b[0m \u001b[0;32mNone\u001b[0m\u001b[0;34m\u001b[0m\u001b[0;34m\u001b[0m\u001b[0m\n\u001b[1;32m    828\u001b[0m             \u001b[0;32melse\u001b[0m\u001b[0;34m:\u001b[0m\u001b[0;34m\u001b[0m\u001b[0;34m\u001b[0m\u001b[0m\n\u001b[0;32m--> 829\u001b[0;31m                 \u001b[0mself\u001b[0m\u001b[0;34m.\u001b[0m\u001b[0m_content\u001b[0m \u001b[0;34m=\u001b[0m \u001b[0;34mb''\u001b[0m\u001b[0;34m.\u001b[0m\u001b[0mjoin\u001b[0m\u001b[0;34m(\u001b[0m\u001b[0mself\u001b[0m\u001b[0;34m.\u001b[0m\u001b[0miter_content\u001b[0m\u001b[0;34m(\u001b[0m\u001b[0mCONTENT_CHUNK_SIZE\u001b[0m\u001b[0;34m)\u001b[0m\u001b[0;34m)\u001b[0m \u001b[0;32mor\u001b[0m \u001b[0;34mb''\u001b[0m\u001b[0;34m\u001b[0m\u001b[0;34m\u001b[0m\u001b[0m\n\u001b[0m\u001b[1;32m    830\u001b[0m \u001b[0;34m\u001b[0m\u001b[0m\n\u001b[1;32m    831\u001b[0m         \u001b[0mself\u001b[0m\u001b[0;34m.\u001b[0m\u001b[0m_content_consumed\u001b[0m \u001b[0;34m=\u001b[0m \u001b[0;32mTrue\u001b[0m\u001b[0;34m\u001b[0m\u001b[0;34m\u001b[0m\u001b[0m\n",
      "\u001b[0;32m/usr/local/lib/python3.8/site-packages/requests/models.py\u001b[0m in \u001b[0;36mgenerate\u001b[0;34m()\u001b[0m\n\u001b[1;32m    749\u001b[0m             \u001b[0;32mif\u001b[0m \u001b[0mhasattr\u001b[0m\u001b[0;34m(\u001b[0m\u001b[0mself\u001b[0m\u001b[0;34m.\u001b[0m\u001b[0mraw\u001b[0m\u001b[0;34m,\u001b[0m \u001b[0;34m'stream'\u001b[0m\u001b[0;34m)\u001b[0m\u001b[0;34m:\u001b[0m\u001b[0;34m\u001b[0m\u001b[0;34m\u001b[0m\u001b[0m\n\u001b[1;32m    750\u001b[0m                 \u001b[0;32mtry\u001b[0m\u001b[0;34m:\u001b[0m\u001b[0;34m\u001b[0m\u001b[0;34m\u001b[0m\u001b[0m\n\u001b[0;32m--> 751\u001b[0;31m                     \u001b[0;32mfor\u001b[0m \u001b[0mchunk\u001b[0m \u001b[0;32min\u001b[0m \u001b[0mself\u001b[0m\u001b[0;34m.\u001b[0m\u001b[0mraw\u001b[0m\u001b[0;34m.\u001b[0m\u001b[0mstream\u001b[0m\u001b[0;34m(\u001b[0m\u001b[0mchunk_size\u001b[0m\u001b[0;34m,\u001b[0m \u001b[0mdecode_content\u001b[0m\u001b[0;34m=\u001b[0m\u001b[0;32mTrue\u001b[0m\u001b[0;34m)\u001b[0m\u001b[0;34m:\u001b[0m\u001b[0;34m\u001b[0m\u001b[0;34m\u001b[0m\u001b[0m\n\u001b[0m\u001b[1;32m    752\u001b[0m                         \u001b[0;32myield\u001b[0m \u001b[0mchunk\u001b[0m\u001b[0;34m\u001b[0m\u001b[0;34m\u001b[0m\u001b[0m\n\u001b[1;32m    753\u001b[0m                 \u001b[0;32mexcept\u001b[0m \u001b[0mProtocolError\u001b[0m \u001b[0;32mas\u001b[0m \u001b[0me\u001b[0m\u001b[0;34m:\u001b[0m\u001b[0;34m\u001b[0m\u001b[0;34m\u001b[0m\u001b[0m\n",
      "\u001b[0;32m/usr/local/lib/python3.8/site-packages/urllib3/response.py\u001b[0m in \u001b[0;36mstream\u001b[0;34m(self, amt, decode_content)\u001b[0m\n\u001b[1;32m    573\u001b[0m         \u001b[0;32melse\u001b[0m\u001b[0;34m:\u001b[0m\u001b[0;34m\u001b[0m\u001b[0;34m\u001b[0m\u001b[0m\n\u001b[1;32m    574\u001b[0m             \u001b[0;32mwhile\u001b[0m \u001b[0;32mnot\u001b[0m \u001b[0mis_fp_closed\u001b[0m\u001b[0;34m(\u001b[0m\u001b[0mself\u001b[0m\u001b[0;34m.\u001b[0m\u001b[0m_fp\u001b[0m\u001b[0;34m)\u001b[0m\u001b[0;34m:\u001b[0m\u001b[0;34m\u001b[0m\u001b[0;34m\u001b[0m\u001b[0m\n\u001b[0;32m--> 575\u001b[0;31m                 \u001b[0mdata\u001b[0m \u001b[0;34m=\u001b[0m \u001b[0mself\u001b[0m\u001b[0;34m.\u001b[0m\u001b[0mread\u001b[0m\u001b[0;34m(\u001b[0m\u001b[0mamt\u001b[0m\u001b[0;34m=\u001b[0m\u001b[0mamt\u001b[0m\u001b[0;34m,\u001b[0m \u001b[0mdecode_content\u001b[0m\u001b[0;34m=\u001b[0m\u001b[0mdecode_content\u001b[0m\u001b[0;34m)\u001b[0m\u001b[0;34m\u001b[0m\u001b[0;34m\u001b[0m\u001b[0m\n\u001b[0m\u001b[1;32m    576\u001b[0m \u001b[0;34m\u001b[0m\u001b[0m\n\u001b[1;32m    577\u001b[0m                 \u001b[0;32mif\u001b[0m \u001b[0mdata\u001b[0m\u001b[0;34m:\u001b[0m\u001b[0;34m\u001b[0m\u001b[0;34m\u001b[0m\u001b[0m\n",
      "\u001b[0;32m/usr/local/lib/python3.8/site-packages/urllib3/response.py\u001b[0m in \u001b[0;36mread\u001b[0;34m(self, amt, decode_content, cache_content)\u001b[0m\n\u001b[1;32m    516\u001b[0m             \u001b[0;32melse\u001b[0m\u001b[0;34m:\u001b[0m\u001b[0;34m\u001b[0m\u001b[0;34m\u001b[0m\u001b[0m\n\u001b[1;32m    517\u001b[0m                 \u001b[0mcache_content\u001b[0m \u001b[0;34m=\u001b[0m \u001b[0;32mFalse\u001b[0m\u001b[0;34m\u001b[0m\u001b[0;34m\u001b[0m\u001b[0m\n\u001b[0;32m--> 518\u001b[0;31m                 \u001b[0mdata\u001b[0m \u001b[0;34m=\u001b[0m \u001b[0mself\u001b[0m\u001b[0;34m.\u001b[0m\u001b[0m_fp\u001b[0m\u001b[0;34m.\u001b[0m\u001b[0mread\u001b[0m\u001b[0;34m(\u001b[0m\u001b[0mamt\u001b[0m\u001b[0;34m)\u001b[0m \u001b[0;32mif\u001b[0m \u001b[0;32mnot\u001b[0m \u001b[0mfp_closed\u001b[0m \u001b[0;32melse\u001b[0m \u001b[0;34mb\"\"\u001b[0m\u001b[0;34m\u001b[0m\u001b[0;34m\u001b[0m\u001b[0m\n\u001b[0m\u001b[1;32m    519\u001b[0m                 if (\n\u001b[1;32m    520\u001b[0m                     \u001b[0mamt\u001b[0m \u001b[0;34m!=\u001b[0m \u001b[0;36m0\u001b[0m \u001b[0;32mand\u001b[0m \u001b[0;32mnot\u001b[0m \u001b[0mdata\u001b[0m\u001b[0;34m\u001b[0m\u001b[0;34m\u001b[0m\u001b[0m\n",
      "\u001b[0;32m/usr/local/Cellar/python@3.8/3.8.6/Frameworks/Python.framework/Versions/3.8/lib/python3.8/http/client.py\u001b[0m in \u001b[0;36mread\u001b[0;34m(self, amt)\u001b[0m\n\u001b[1;32m    456\u001b[0m             \u001b[0;31m# Amount is given, implement using readinto\u001b[0m\u001b[0;34m\u001b[0m\u001b[0;34m\u001b[0m\u001b[0;34m\u001b[0m\u001b[0m\n\u001b[1;32m    457\u001b[0m             \u001b[0mb\u001b[0m \u001b[0;34m=\u001b[0m \u001b[0mbytearray\u001b[0m\u001b[0;34m(\u001b[0m\u001b[0mamt\u001b[0m\u001b[0;34m)\u001b[0m\u001b[0;34m\u001b[0m\u001b[0;34m\u001b[0m\u001b[0m\n\u001b[0;32m--> 458\u001b[0;31m             \u001b[0mn\u001b[0m \u001b[0;34m=\u001b[0m \u001b[0mself\u001b[0m\u001b[0;34m.\u001b[0m\u001b[0mreadinto\u001b[0m\u001b[0;34m(\u001b[0m\u001b[0mb\u001b[0m\u001b[0;34m)\u001b[0m\u001b[0;34m\u001b[0m\u001b[0;34m\u001b[0m\u001b[0m\n\u001b[0m\u001b[1;32m    459\u001b[0m             \u001b[0;32mreturn\u001b[0m \u001b[0mmemoryview\u001b[0m\u001b[0;34m(\u001b[0m\u001b[0mb\u001b[0m\u001b[0;34m)\u001b[0m\u001b[0;34m[\u001b[0m\u001b[0;34m:\u001b[0m\u001b[0mn\u001b[0m\u001b[0;34m]\u001b[0m\u001b[0;34m.\u001b[0m\u001b[0mtobytes\u001b[0m\u001b[0;34m(\u001b[0m\u001b[0;34m)\u001b[0m\u001b[0;34m\u001b[0m\u001b[0;34m\u001b[0m\u001b[0m\n\u001b[1;32m    460\u001b[0m         \u001b[0;32melse\u001b[0m\u001b[0;34m:\u001b[0m\u001b[0;34m\u001b[0m\u001b[0;34m\u001b[0m\u001b[0m\n",
      "\u001b[0;32m/usr/local/Cellar/python@3.8/3.8.6/Frameworks/Python.framework/Versions/3.8/lib/python3.8/http/client.py\u001b[0m in \u001b[0;36mreadinto\u001b[0;34m(self, b)\u001b[0m\n\u001b[1;32m    500\u001b[0m         \u001b[0;31m# connection, and the user is reading more bytes than will be provided\u001b[0m\u001b[0;34m\u001b[0m\u001b[0;34m\u001b[0m\u001b[0;34m\u001b[0m\u001b[0m\n\u001b[1;32m    501\u001b[0m         \u001b[0;31m# (for example, reading in 1k chunks)\u001b[0m\u001b[0;34m\u001b[0m\u001b[0;34m\u001b[0m\u001b[0;34m\u001b[0m\u001b[0m\n\u001b[0;32m--> 502\u001b[0;31m         \u001b[0mn\u001b[0m \u001b[0;34m=\u001b[0m \u001b[0mself\u001b[0m\u001b[0;34m.\u001b[0m\u001b[0mfp\u001b[0m\u001b[0;34m.\u001b[0m\u001b[0mreadinto\u001b[0m\u001b[0;34m(\u001b[0m\u001b[0mb\u001b[0m\u001b[0;34m)\u001b[0m\u001b[0;34m\u001b[0m\u001b[0;34m\u001b[0m\u001b[0m\n\u001b[0m\u001b[1;32m    503\u001b[0m         \u001b[0;32mif\u001b[0m \u001b[0;32mnot\u001b[0m \u001b[0mn\u001b[0m \u001b[0;32mand\u001b[0m \u001b[0mb\u001b[0m\u001b[0;34m:\u001b[0m\u001b[0;34m\u001b[0m\u001b[0;34m\u001b[0m\u001b[0m\n\u001b[1;32m    504\u001b[0m             \u001b[0;31m# Ideally, we would raise IncompleteRead if the content-length\u001b[0m\u001b[0;34m\u001b[0m\u001b[0;34m\u001b[0m\u001b[0;34m\u001b[0m\u001b[0m\n",
      "\u001b[0;32m/usr/local/Cellar/python@3.8/3.8.6/Frameworks/Python.framework/Versions/3.8/lib/python3.8/socket.py\u001b[0m in \u001b[0;36mreadinto\u001b[0;34m(self, b)\u001b[0m\n\u001b[1;32m    667\u001b[0m         \u001b[0;32mwhile\u001b[0m \u001b[0;32mTrue\u001b[0m\u001b[0;34m:\u001b[0m\u001b[0;34m\u001b[0m\u001b[0;34m\u001b[0m\u001b[0m\n\u001b[1;32m    668\u001b[0m             \u001b[0;32mtry\u001b[0m\u001b[0;34m:\u001b[0m\u001b[0;34m\u001b[0m\u001b[0;34m\u001b[0m\u001b[0m\n\u001b[0;32m--> 669\u001b[0;31m                 \u001b[0;32mreturn\u001b[0m \u001b[0mself\u001b[0m\u001b[0;34m.\u001b[0m\u001b[0m_sock\u001b[0m\u001b[0;34m.\u001b[0m\u001b[0mrecv_into\u001b[0m\u001b[0;34m(\u001b[0m\u001b[0mb\u001b[0m\u001b[0;34m)\u001b[0m\u001b[0;34m\u001b[0m\u001b[0;34m\u001b[0m\u001b[0m\n\u001b[0m\u001b[1;32m    670\u001b[0m             \u001b[0;32mexcept\u001b[0m \u001b[0mtimeout\u001b[0m\u001b[0;34m:\u001b[0m\u001b[0;34m\u001b[0m\u001b[0;34m\u001b[0m\u001b[0m\n\u001b[1;32m    671\u001b[0m                 \u001b[0mself\u001b[0m\u001b[0;34m.\u001b[0m\u001b[0m_timeout_occurred\u001b[0m \u001b[0;34m=\u001b[0m \u001b[0;32mTrue\u001b[0m\u001b[0;34m\u001b[0m\u001b[0;34m\u001b[0m\u001b[0m\n",
      "\u001b[0;32m/usr/local/Cellar/python@3.8/3.8.6/Frameworks/Python.framework/Versions/3.8/lib/python3.8/ssl.py\u001b[0m in \u001b[0;36mrecv_into\u001b[0;34m(self, buffer, nbytes, flags)\u001b[0m\n\u001b[1;32m   1239\u001b[0m                   \u001b[0;34m\"non-zero flags not allowed in calls to recv_into() on %s\"\u001b[0m \u001b[0;34m%\u001b[0m\u001b[0;34m\u001b[0m\u001b[0;34m\u001b[0m\u001b[0m\n\u001b[1;32m   1240\u001b[0m                   self.__class__)\n\u001b[0;32m-> 1241\u001b[0;31m             \u001b[0;32mreturn\u001b[0m \u001b[0mself\u001b[0m\u001b[0;34m.\u001b[0m\u001b[0mread\u001b[0m\u001b[0;34m(\u001b[0m\u001b[0mnbytes\u001b[0m\u001b[0;34m,\u001b[0m \u001b[0mbuffer\u001b[0m\u001b[0;34m)\u001b[0m\u001b[0;34m\u001b[0m\u001b[0;34m\u001b[0m\u001b[0m\n\u001b[0m\u001b[1;32m   1242\u001b[0m         \u001b[0;32melse\u001b[0m\u001b[0;34m:\u001b[0m\u001b[0;34m\u001b[0m\u001b[0;34m\u001b[0m\u001b[0m\n\u001b[1;32m   1243\u001b[0m             \u001b[0;32mreturn\u001b[0m \u001b[0msuper\u001b[0m\u001b[0;34m(\u001b[0m\u001b[0;34m)\u001b[0m\u001b[0;34m.\u001b[0m\u001b[0mrecv_into\u001b[0m\u001b[0;34m(\u001b[0m\u001b[0mbuffer\u001b[0m\u001b[0;34m,\u001b[0m \u001b[0mnbytes\u001b[0m\u001b[0;34m,\u001b[0m \u001b[0mflags\u001b[0m\u001b[0;34m)\u001b[0m\u001b[0;34m\u001b[0m\u001b[0;34m\u001b[0m\u001b[0m\n",
      "\u001b[0;32m/usr/local/Cellar/python@3.8/3.8.6/Frameworks/Python.framework/Versions/3.8/lib/python3.8/ssl.py\u001b[0m in \u001b[0;36mread\u001b[0;34m(self, len, buffer)\u001b[0m\n\u001b[1;32m   1097\u001b[0m         \u001b[0;32mtry\u001b[0m\u001b[0;34m:\u001b[0m\u001b[0;34m\u001b[0m\u001b[0;34m\u001b[0m\u001b[0m\n\u001b[1;32m   1098\u001b[0m             \u001b[0;32mif\u001b[0m \u001b[0mbuffer\u001b[0m \u001b[0;32mis\u001b[0m \u001b[0;32mnot\u001b[0m \u001b[0;32mNone\u001b[0m\u001b[0;34m:\u001b[0m\u001b[0;34m\u001b[0m\u001b[0;34m\u001b[0m\u001b[0m\n\u001b[0;32m-> 1099\u001b[0;31m                 \u001b[0;32mreturn\u001b[0m \u001b[0mself\u001b[0m\u001b[0;34m.\u001b[0m\u001b[0m_sslobj\u001b[0m\u001b[0;34m.\u001b[0m\u001b[0mread\u001b[0m\u001b[0;34m(\u001b[0m\u001b[0mlen\u001b[0m\u001b[0;34m,\u001b[0m \u001b[0mbuffer\u001b[0m\u001b[0;34m)\u001b[0m\u001b[0;34m\u001b[0m\u001b[0;34m\u001b[0m\u001b[0m\n\u001b[0m\u001b[1;32m   1100\u001b[0m             \u001b[0;32melse\u001b[0m\u001b[0;34m:\u001b[0m\u001b[0;34m\u001b[0m\u001b[0;34m\u001b[0m\u001b[0m\n\u001b[1;32m   1101\u001b[0m                 \u001b[0;32mreturn\u001b[0m \u001b[0mself\u001b[0m\u001b[0;34m.\u001b[0m\u001b[0m_sslobj\u001b[0m\u001b[0;34m.\u001b[0m\u001b[0mread\u001b[0m\u001b[0;34m(\u001b[0m\u001b[0mlen\u001b[0m\u001b[0;34m)\u001b[0m\u001b[0;34m\u001b[0m\u001b[0;34m\u001b[0m\u001b[0m\n",
      "\u001b[0;31mKeyboardInterrupt\u001b[0m: "
     ]
    }
   ],
   "source": [
    "for link in tqdm(link_list):\n",
    "    response = requests.get(link)\n",
    "    \n",
    "    with open(\"naplok/\" + link.split(\"/\")[7], \"wb\") as f:\n",
    "        f.write(response.content)"
   ]
  },
  {
   "cell_type": "code",
   "execution_count": 3,
   "metadata": {},
   "outputs": [],
   "source": [
    "string = high_level.extract_text(\"naplok/ny201103-ossze.pdf\")\n",
    "df = pd.DataFrame(string.split(\"ELNÖK: \"))"
   ]
  },
  {
   "cell_type": "code",
   "execution_count": 25,
   "metadata": {},
   "outputs": [],
   "source": [
    "def clean_text(df):\n",
    "    try:\n",
    "        stopwords = [\n",
    "            df.loc[0, 0].split(\"Az ülésen jelen voltak:\")[1].split(\"\\n\\n\")[-4].strip(),\n",
    "            \"-\\n\",\n",
    "            \"\\n\",\n",
    "            \"\\x0c\",\n",
    "        ]\n",
    "    except IndexError:\n",
    "        stopwords = [\n",
    "            df.loc[0, 0].split(\"Az ülésen jelen volt:\")[1].split(\"\\n\\n\")[-4].strip(),\n",
    "            \"-\\n\",\n",
    "            \"\\n\",\n",
    "            \"\\x0c\",\n",
    "        ]\n",
    "\n",
    "    regex = re.compile(\".*?\\((.*?)\\)\")\n",
    "\n",
    "    hun_letters = {\n",
    "        \"Á\": \"A\",\n",
    "        \"É\": \"E\",\n",
    "        \"Ő\": \"O\",\n",
    "        \"Ö\": \"O\",\n",
    "        \"Ó\": \"O\",\n",
    "        \"Ü\": \"U\",\n",
    "        \"Ú\": \"U\",\n",
    "        \"Ű\": \"U\",\n",
    "    }\n",
    "\n",
    "    df[\"name_list\"] = None\n",
    "    df[\"date\"] = stopwords[0]\n",
    "\n",
    "    for i in tqdm(range(df.shape[0])):\n",
    "\n",
    "        # basic cleaner\n",
    "        for stopword in stopwords:\n",
    "            df.loc[i, 0] = df.loc[i, 0].replace(stopword, \"\").strip()\n",
    "\n",
    "        # delete comments\n",
    "        result = re.findall(regex, df.loc[i, 0])\n",
    "        result.append(\"()\")\n",
    "\n",
    "        for res in result:\n",
    "            df.loc[i, 0] = df.loc[i, 0].replace(res, \"\").strip()\n",
    "\n",
    "        # hungarian ÁÉÖŐÓÜÚŰ to AEOU\n",
    "        for letter in hun_letters.keys():\n",
    "            df.loc[i, 0] = df.loc[i, 0].replace(letter, hun_letters[letter])\n",
    "\n",
    "        # extract name list\n",
    "        df.loc[i, \"name_list\"] = [\n",
    "            item.strip()\n",
    "            for item in re.findall(\"[A-Z\\s]+\", df.loc[i, 0])\n",
    "            if len(item.strip()) > 6\n",
    "        ]\n",
    "\n",
    "    df = df.loc[df[\"name_list\"].apply(len) != 0].iloc[1:-1, :].reset_index(drop=True)\n",
    "\n",
    "    df[\"name\"] = df[\"name_list\"].apply(lambda x: x[0])\n",
    "\n",
    "    df[\"text\"] = df.apply(lambda x: x[0].split(x[\"name\"])[-1].strip(), axis=1)\n",
    "\n",
    "    for i in range(df.shape[0]):\n",
    "        if df.loc[i, \"text\"][0] == \":\":\n",
    "            df.loc[i, \"text\"] = df.loc[i, \"text\"][1:].strip()\n",
    "        else:\n",
    "            df.loc[i, \"text\"] = \" \".join(df.loc[i, \"text\"].split(\":\")[1:])\n",
    "\n",
    "    df[\"len\"] = df[\"text\"].apply(len)\n",
    "    df = df.rename(columns={0: \"raw\"})\n",
    "\n",
    "    return df"
   ]
  },
  {
   "cell_type": "code",
   "execution_count": 16,
   "metadata": {},
   "outputs": [],
   "source": [
    "file_list = [\"naplok/\" + string for string in os.listdir(\"naplok/\")]"
   ]
  },
  {
   "cell_type": "code",
   "execution_count": 5,
   "metadata": {},
   "outputs": [
    {
     "output_type": "execute_result",
     "data": {
      "text/plain": [
       "'naplok/ny200502-unnepiules.pdf'"
      ]
     },
     "metadata": {},
     "execution_count": 5
    }
   ],
   "source": [
    "file_list[39]"
   ]
  },
  {
   "cell_type": "code",
   "execution_count": 17,
   "metadata": {},
   "outputs": [],
   "source": [
    "if \"naplok/.DS_Store\" in file_list:\n",
    "    file_list.remove(\"naplok/.DS_Store\")\n",
    "\n",
    "\n",
    "file_list.remove(\"naplok/ny200502-unnepiules.pdf\")"
   ]
  },
  {
   "cell_type": "code",
   "execution_count": 23,
   "metadata": {},
   "outputs": [
    {
     "output_type": "execute_result",
     "data": {
      "text/plain": [
       "'naplok/ny190311.pdf'"
      ]
     },
     "metadata": {},
     "execution_count": 23
    }
   ],
   "source": [
    "file_list[46]"
   ]
  },
  {
   "cell_type": "code",
   "execution_count": 29,
   "metadata": {},
   "outputs": [],
   "source": [
    "string = high_level.extract_text(file_list[47])\n",
    "df = pd.DataFrame(string.split(\"ELNÖK: \"))"
   ]
  },
  {
   "cell_type": "code",
   "execution_count": 30,
   "metadata": {},
   "outputs": [
    {
     "output_type": "display_data",
     "data": {
      "text/plain": "HBox(children=(FloatProgress(value=0.0, max=95.0), HTML(value='')))",
      "application/vnd.jupyter.widget-view+json": {
       "version_major": 2,
       "version_minor": 0,
       "model_id": "e57082d2f0084ee88825d169f0be983d"
      }
     },
     "metadata": {}
    },
    {
     "output_type": "stream",
     "name": "stdout",
     "text": [
      "\n"
     ]
    },
    {
     "output_type": "execute_result",
     "data": {
      "text/plain": [
       "                                                  raw  \\\n",
       "0   Az  Országgyűlés  őszi  ülésszakának  7. ülésn...   \n",
       "1   Köszönöm,  képviselő  asszony.  Válaszadásra m...   \n",
       "2   Köszönöm szépen, államtitkár úr. Szintén  napi...   \n",
       "3   Köszönöm, képviselő úr. Az elhangzottakra  a  ...   \n",
       "4   Köszönöm,  államtitkár  úr.  Szintén  napirend...   \n",
       "..                                                ...   \n",
       "88  Köszönöm  szépen,  képviselő  asszony. Tisztel...   \n",
       "89  Köszönöm szépen, képviselő úr. Tisztelt Ország...   \n",
       "90  Köszönöm szépen, képviselő úr. Tisztelt Ország...   \n",
       "91  Köszönöm szépen, képviselő úr. Tisztelt Ország...   \n",
       "92  Köszönöm szépen, képviselő úr. Tisztelt Ország...   \n",
       "\n",
       "                     name_list  \\\n",
       "0   [BANGONE  BORBELY  ILDIKO]   \n",
       "1             [RETVARI  BENCE]   \n",
       "2              [GRECZY  ZSOLT]   \n",
       "3                 [VOLNER PAL]   \n",
       "4               [SZABO  TIMEA]   \n",
       "..                         ...   \n",
       "88               [UNGAR PETER]   \n",
       "89              [FONAGY JANOS]   \n",
       "90             [HAJDU  LASZLO]   \n",
       "91             [KARPAT DANIEL]   \n",
       "92              [ANDER BALAZS]   \n",
       "\n",
       "                                                 date  \\\n",
       "0   Az Országgyűlés őszi ülésszakának 7. ülésnapja...   \n",
       "1   Az Országgyűlés őszi ülésszakának 7. ülésnapja...   \n",
       "2   Az Országgyűlés őszi ülésszakának 7. ülésnapja...   \n",
       "3   Az Országgyűlés őszi ülésszakának 7. ülésnapja...   \n",
       "4   Az Országgyűlés őszi ülésszakának 7. ülésnapja...   \n",
       "..                                                ...   \n",
       "88  Az Országgyűlés őszi ülésszakának 7. ülésnapja...   \n",
       "89  Az Országgyűlés őszi ülésszakának 7. ülésnapja...   \n",
       "90  Az Országgyűlés őszi ülésszakának 7. ülésnapja...   \n",
       "91  Az Országgyűlés őszi ülésszakának 7. ülésnapja...   \n",
       "92  Az Országgyűlés őszi ülésszakának 7. ülésnapja...   \n",
       "\n",
       "                        name  \\\n",
       "0   BANGONE  BORBELY  ILDIKO   \n",
       "1             RETVARI  BENCE   \n",
       "2              GRECZY  ZSOLT   \n",
       "3                 VOLNER PAL   \n",
       "4               SZABO  TIMEA   \n",
       "..                       ...   \n",
       "88               UNGAR PETER   \n",
       "89              FONAGY JANOS   \n",
       "90             HAJDU  LASZLO   \n",
       "91             KARPAT DANIEL   \n",
       "92              ANDER BALAZS   \n",
       "\n",
       "                                                 text   len  \n",
       "0   Köszönöm szépen, elnök úr. Tisztelt Allamtitká...  4314  \n",
       "1     Köszönöm  szépen  a  3389  3390 szót. Tiszte...  5162  \n",
       "2   Köszönöm  a  szót,  elnök úr. Tisztelt Ház! Mé...  5247  \n",
       "3     Köszönöm  a  szót,  elnök  úr.  Tisztelt  Há...  4836  \n",
       "4   Köszönöm  a  szót, elnök úr. Tisztelt Képvisel...  4609  \n",
       "..                                                ...   ...  \n",
       "88  Köszönöm szépen a szót. A  lelki  egészség  na...  5177  \n",
       "89  Köszönöm, elnök úr. Tisztelt Ház! Tisztelt Kép...  3777  \n",
       "90  Tisztelt  Elnök  Ur!  Tisztelt Ház! Szeptember...  4351  \n",
       "91  Tisztelt Elnök Ur! Tisztelt  Ház!  A  rendszer...  5315  \n",
       "92  Köszönöm a szót, elnök úr. Tisztelt Képviselőt...  4745  \n",
       "\n",
       "[93 rows x 6 columns]"
      ],
      "text/html": "<div>\n<style scoped>\n    .dataframe tbody tr th:only-of-type {\n        vertical-align: middle;\n    }\n\n    .dataframe tbody tr th {\n        vertical-align: top;\n    }\n\n    .dataframe thead th {\n        text-align: right;\n    }\n</style>\n<table border=\"1\" class=\"dataframe\">\n  <thead>\n    <tr style=\"text-align: right;\">\n      <th></th>\n      <th>raw</th>\n      <th>name_list</th>\n      <th>date</th>\n      <th>name</th>\n      <th>text</th>\n      <th>len</th>\n    </tr>\n  </thead>\n  <tbody>\n    <tr>\n      <th>0</th>\n      <td>Az  Országgyűlés  őszi  ülésszakának  7. ülésn...</td>\n      <td>[BANGONE  BORBELY  ILDIKO]</td>\n      <td>Az Országgyűlés őszi ülésszakának 7. ülésnapja...</td>\n      <td>BANGONE  BORBELY  ILDIKO</td>\n      <td>Köszönöm szépen, elnök úr. Tisztelt Allamtitká...</td>\n      <td>4314</td>\n    </tr>\n    <tr>\n      <th>1</th>\n      <td>Köszönöm,  képviselő  asszony.  Válaszadásra m...</td>\n      <td>[RETVARI  BENCE]</td>\n      <td>Az Országgyűlés őszi ülésszakának 7. ülésnapja...</td>\n      <td>RETVARI  BENCE</td>\n      <td>Köszönöm  szépen  a  3389  3390 szót. Tiszte...</td>\n      <td>5162</td>\n    </tr>\n    <tr>\n      <th>2</th>\n      <td>Köszönöm szépen, államtitkár úr. Szintén  napi...</td>\n      <td>[GRECZY  ZSOLT]</td>\n      <td>Az Országgyűlés őszi ülésszakának 7. ülésnapja...</td>\n      <td>GRECZY  ZSOLT</td>\n      <td>Köszönöm  a  szót,  elnök úr. Tisztelt Ház! Mé...</td>\n      <td>5247</td>\n    </tr>\n    <tr>\n      <th>3</th>\n      <td>Köszönöm, képviselő úr. Az elhangzottakra  a  ...</td>\n      <td>[VOLNER PAL]</td>\n      <td>Az Országgyűlés őszi ülésszakának 7. ülésnapja...</td>\n      <td>VOLNER PAL</td>\n      <td>Köszönöm  a  szót,  elnök  úr.  Tisztelt  Há...</td>\n      <td>4836</td>\n    </tr>\n    <tr>\n      <th>4</th>\n      <td>Köszönöm,  államtitkár  úr.  Szintén  napirend...</td>\n      <td>[SZABO  TIMEA]</td>\n      <td>Az Országgyűlés őszi ülésszakának 7. ülésnapja...</td>\n      <td>SZABO  TIMEA</td>\n      <td>Köszönöm  a  szót, elnök úr. Tisztelt Képvisel...</td>\n      <td>4609</td>\n    </tr>\n    <tr>\n      <th>...</th>\n      <td>...</td>\n      <td>...</td>\n      <td>...</td>\n      <td>...</td>\n      <td>...</td>\n      <td>...</td>\n    </tr>\n    <tr>\n      <th>88</th>\n      <td>Köszönöm  szépen,  képviselő  asszony. Tisztel...</td>\n      <td>[UNGAR PETER]</td>\n      <td>Az Országgyűlés őszi ülésszakának 7. ülésnapja...</td>\n      <td>UNGAR PETER</td>\n      <td>Köszönöm szépen a szót. A  lelki  egészség  na...</td>\n      <td>5177</td>\n    </tr>\n    <tr>\n      <th>89</th>\n      <td>Köszönöm szépen, képviselő úr. Tisztelt Ország...</td>\n      <td>[FONAGY JANOS]</td>\n      <td>Az Országgyűlés őszi ülésszakának 7. ülésnapja...</td>\n      <td>FONAGY JANOS</td>\n      <td>Köszönöm, elnök úr. Tisztelt Ház! Tisztelt Kép...</td>\n      <td>3777</td>\n    </tr>\n    <tr>\n      <th>90</th>\n      <td>Köszönöm szépen, képviselő úr. Tisztelt Ország...</td>\n      <td>[HAJDU  LASZLO]</td>\n      <td>Az Országgyűlés őszi ülésszakának 7. ülésnapja...</td>\n      <td>HAJDU  LASZLO</td>\n      <td>Tisztelt  Elnök  Ur!  Tisztelt Ház! Szeptember...</td>\n      <td>4351</td>\n    </tr>\n    <tr>\n      <th>91</th>\n      <td>Köszönöm szépen, képviselő úr. Tisztelt Ország...</td>\n      <td>[KARPAT DANIEL]</td>\n      <td>Az Országgyűlés őszi ülésszakának 7. ülésnapja...</td>\n      <td>KARPAT DANIEL</td>\n      <td>Tisztelt Elnök Ur! Tisztelt  Ház!  A  rendszer...</td>\n      <td>5315</td>\n    </tr>\n    <tr>\n      <th>92</th>\n      <td>Köszönöm szépen, képviselő úr. Tisztelt Ország...</td>\n      <td>[ANDER BALAZS]</td>\n      <td>Az Országgyűlés őszi ülésszakának 7. ülésnapja...</td>\n      <td>ANDER BALAZS</td>\n      <td>Köszönöm a szót, elnök úr. Tisztelt Képviselőt...</td>\n      <td>4745</td>\n    </tr>\n  </tbody>\n</table>\n<p>93 rows × 6 columns</p>\n</div>"
     },
     "metadata": {},
     "execution_count": 30
    }
   ],
   "source": [
    "clean_text(df)"
   ]
  },
  {
   "cell_type": "code",
   "execution_count": 9,
   "metadata": {},
   "outputs": [
    {
     "output_type": "display_data",
     "data": {
      "text/plain": "HBox(children=(FloatProgress(value=0.0, max=178.0), HTML(value='')))",
      "application/vnd.jupyter.widget-view+json": {
       "version_major": 2,
       "version_minor": 0,
       "model_id": "60a78b12b72b43489ffa0b572eab737c"
      }
     },
     "metadata": {}
    },
    {
     "output_type": "display_data",
     "data": {
      "text/plain": "HBox(children=(FloatProgress(value=0.0, max=219.0), HTML(value='')))",
      "application/vnd.jupyter.widget-view+json": {
       "version_major": 2,
       "version_minor": 0,
       "model_id": "9e474c1b279347d1a193311952273c39"
      }
     },
     "metadata": {}
    },
    {
     "output_type": "stream",
     "name": "stdout",
     "text": [
      "\n"
     ]
    },
    {
     "output_type": "display_data",
     "data": {
      "text/plain": "HBox(children=(FloatProgress(value=0.0, max=78.0), HTML(value='')))",
      "application/vnd.jupyter.widget-view+json": {
       "version_major": 2,
       "version_minor": 0,
       "model_id": "e2e55c6424754123901e9e24afcbf5fb"
      }
     },
     "metadata": {}
    },
    {
     "output_type": "stream",
     "name": "stdout",
     "text": [
      "\n"
     ]
    },
    {
     "output_type": "display_data",
     "data": {
      "text/plain": "HBox(children=(FloatProgress(value=0.0, max=104.0), HTML(value='')))",
      "application/vnd.jupyter.widget-view+json": {
       "version_major": 2,
       "version_minor": 0,
       "model_id": "44134057d57c4d0e83c6c840ffc62fc1"
      }
     },
     "metadata": {}
    },
    {
     "output_type": "stream",
     "name": "stdout",
     "text": [
      "\n"
     ]
    },
    {
     "output_type": "display_data",
     "data": {
      "text/plain": "HBox(children=(FloatProgress(value=0.0, max=138.0), HTML(value='')))",
      "application/vnd.jupyter.widget-view+json": {
       "version_major": 2,
       "version_minor": 0,
       "model_id": "38a20a8704bf4d43872e1f242c272d77"
      }
     },
     "metadata": {}
    },
    {
     "output_type": "stream",
     "name": "stdout",
     "text": [
      "\n"
     ]
    },
    {
     "output_type": "display_data",
     "data": {
      "text/plain": "HBox(children=(FloatProgress(value=0.0, max=107.0), HTML(value='')))",
      "application/vnd.jupyter.widget-view+json": {
       "version_major": 2,
       "version_minor": 0,
       "model_id": "297bb6b70efb4f16955becafb3be2faa"
      }
     },
     "metadata": {}
    },
    {
     "output_type": "stream",
     "name": "stdout",
     "text": [
      "\n"
     ]
    },
    {
     "output_type": "display_data",
     "data": {
      "text/plain": "HBox(children=(FloatProgress(value=0.0, max=101.0), HTML(value='')))",
      "application/vnd.jupyter.widget-view+json": {
       "version_major": 2,
       "version_minor": 0,
       "model_id": "3ca4fa2189fe451483240268c9fd347f"
      }
     },
     "metadata": {}
    },
    {
     "output_type": "stream",
     "name": "stdout",
     "text": [
      "\n",
      "\n"
     ]
    },
    {
     "output_type": "error",
     "ename": "KeyboardInterrupt",
     "evalue": "",
     "traceback": [
      "\u001b[0;31m---------------------------------------------------------------------------\u001b[0m",
      "\u001b[0;31mKeyboardInterrupt\u001b[0m                         Traceback (most recent call last)",
      "\u001b[0;32m<ipython-input-9-e8692ab3e247>\u001b[0m in \u001b[0;36m<module>\u001b[0;34m\u001b[0m\n\u001b[1;32m      1\u001b[0m \u001b[0mdf_concated\u001b[0m \u001b[0;34m=\u001b[0m \u001b[0mpd\u001b[0m\u001b[0;34m.\u001b[0m\u001b[0mDataFrame\u001b[0m\u001b[0;34m(\u001b[0m\u001b[0;34m)\u001b[0m\u001b[0;34m\u001b[0m\u001b[0;34m\u001b[0m\u001b[0m\n\u001b[1;32m      2\u001b[0m \u001b[0;32mfor\u001b[0m \u001b[0mfile\u001b[0m \u001b[0;32min\u001b[0m \u001b[0mtqdm\u001b[0m\u001b[0;34m(\u001b[0m\u001b[0mfile_list\u001b[0m\u001b[0;34m)\u001b[0m\u001b[0;34m:\u001b[0m\u001b[0;34m\u001b[0m\u001b[0;34m\u001b[0m\u001b[0m\n\u001b[0;32m----> 3\u001b[0;31m     \u001b[0mstring\u001b[0m \u001b[0;34m=\u001b[0m \u001b[0mhigh_level\u001b[0m\u001b[0;34m.\u001b[0m\u001b[0mextract_text\u001b[0m\u001b[0;34m(\u001b[0m\u001b[0mfile\u001b[0m\u001b[0;34m)\u001b[0m\u001b[0;34m\u001b[0m\u001b[0;34m\u001b[0m\u001b[0m\n\u001b[0m\u001b[1;32m      4\u001b[0m     \u001b[0mdf\u001b[0m \u001b[0;34m=\u001b[0m \u001b[0mpd\u001b[0m\u001b[0;34m.\u001b[0m\u001b[0mDataFrame\u001b[0m\u001b[0;34m(\u001b[0m\u001b[0mstring\u001b[0m\u001b[0;34m.\u001b[0m\u001b[0msplit\u001b[0m\u001b[0;34m(\u001b[0m\u001b[0;34m\"ELNÖK: \"\u001b[0m\u001b[0;34m)\u001b[0m\u001b[0;34m)\u001b[0m\u001b[0;34m\u001b[0m\u001b[0;34m\u001b[0m\u001b[0m\n\u001b[1;32m      5\u001b[0m     \u001b[0mdf\u001b[0m \u001b[0;34m=\u001b[0m \u001b[0mclean_text\u001b[0m\u001b[0;34m(\u001b[0m\u001b[0mdf\u001b[0m\u001b[0;34m)\u001b[0m\u001b[0;34m\u001b[0m\u001b[0;34m\u001b[0m\u001b[0m\n",
      "\u001b[0;32m/usr/local/lib/python3.8/site-packages/pdfminer/high_level.py\u001b[0m in \u001b[0;36mextract_text\u001b[0;34m(pdf_file, password, page_numbers, maxpages, caching, codec, laparams)\u001b[0m\n\u001b[1;32m    119\u001b[0m                 \u001b[0mcaching\u001b[0m\u001b[0;34m=\u001b[0m\u001b[0mcaching\u001b[0m\u001b[0;34m,\u001b[0m\u001b[0;34m\u001b[0m\u001b[0;34m\u001b[0m\u001b[0m\n\u001b[1;32m    120\u001b[0m         ):\n\u001b[0;32m--> 121\u001b[0;31m             \u001b[0minterpreter\u001b[0m\u001b[0;34m.\u001b[0m\u001b[0mprocess_page\u001b[0m\u001b[0;34m(\u001b[0m\u001b[0mpage\u001b[0m\u001b[0;34m)\u001b[0m\u001b[0;34m\u001b[0m\u001b[0;34m\u001b[0m\u001b[0m\n\u001b[0m\u001b[1;32m    122\u001b[0m \u001b[0;34m\u001b[0m\u001b[0m\n\u001b[1;32m    123\u001b[0m         \u001b[0;32mreturn\u001b[0m \u001b[0moutput_string\u001b[0m\u001b[0;34m.\u001b[0m\u001b[0mgetvalue\u001b[0m\u001b[0;34m(\u001b[0m\u001b[0;34m)\u001b[0m\u001b[0;34m\u001b[0m\u001b[0;34m\u001b[0m\u001b[0m\n",
      "\u001b[0;32m/usr/local/lib/python3.8/site-packages/pdfminer/pdfinterp.py\u001b[0m in \u001b[0;36mprocess_page\u001b[0;34m(self, page)\u001b[0m\n\u001b[1;32m    893\u001b[0m             \u001b[0mctm\u001b[0m \u001b[0;34m=\u001b[0m \u001b[0;34m(\u001b[0m\u001b[0;36m1\u001b[0m\u001b[0;34m,\u001b[0m \u001b[0;36m0\u001b[0m\u001b[0;34m,\u001b[0m \u001b[0;36m0\u001b[0m\u001b[0;34m,\u001b[0m \u001b[0;36m1\u001b[0m\u001b[0;34m,\u001b[0m \u001b[0;34m-\u001b[0m\u001b[0mx0\u001b[0m\u001b[0;34m,\u001b[0m \u001b[0;34m-\u001b[0m\u001b[0my0\u001b[0m\u001b[0;34m)\u001b[0m\u001b[0;34m\u001b[0m\u001b[0;34m\u001b[0m\u001b[0m\n\u001b[1;32m    894\u001b[0m         \u001b[0mself\u001b[0m\u001b[0;34m.\u001b[0m\u001b[0mdevice\u001b[0m\u001b[0;34m.\u001b[0m\u001b[0mbegin_page\u001b[0m\u001b[0;34m(\u001b[0m\u001b[0mpage\u001b[0m\u001b[0;34m,\u001b[0m \u001b[0mctm\u001b[0m\u001b[0;34m)\u001b[0m\u001b[0;34m\u001b[0m\u001b[0;34m\u001b[0m\u001b[0m\n\u001b[0;32m--> 895\u001b[0;31m         \u001b[0mself\u001b[0m\u001b[0;34m.\u001b[0m\u001b[0mrender_contents\u001b[0m\u001b[0;34m(\u001b[0m\u001b[0mpage\u001b[0m\u001b[0;34m.\u001b[0m\u001b[0mresources\u001b[0m\u001b[0;34m,\u001b[0m \u001b[0mpage\u001b[0m\u001b[0;34m.\u001b[0m\u001b[0mcontents\u001b[0m\u001b[0;34m,\u001b[0m \u001b[0mctm\u001b[0m\u001b[0;34m=\u001b[0m\u001b[0mctm\u001b[0m\u001b[0;34m)\u001b[0m\u001b[0;34m\u001b[0m\u001b[0;34m\u001b[0m\u001b[0m\n\u001b[0m\u001b[1;32m    896\u001b[0m         \u001b[0mself\u001b[0m\u001b[0;34m.\u001b[0m\u001b[0mdevice\u001b[0m\u001b[0;34m.\u001b[0m\u001b[0mend_page\u001b[0m\u001b[0;34m(\u001b[0m\u001b[0mpage\u001b[0m\u001b[0;34m)\u001b[0m\u001b[0;34m\u001b[0m\u001b[0;34m\u001b[0m\u001b[0m\n\u001b[1;32m    897\u001b[0m         \u001b[0;32mreturn\u001b[0m\u001b[0;34m\u001b[0m\u001b[0;34m\u001b[0m\u001b[0m\n",
      "\u001b[0;32m/usr/local/lib/python3.8/site-packages/pdfminer/pdfinterp.py\u001b[0m in \u001b[0;36mrender_contents\u001b[0;34m(self, resources, streams, ctm)\u001b[0m\n\u001b[1;32m    906\u001b[0m         \u001b[0mself\u001b[0m\u001b[0;34m.\u001b[0m\u001b[0minit_resources\u001b[0m\u001b[0;34m(\u001b[0m\u001b[0mresources\u001b[0m\u001b[0;34m)\u001b[0m\u001b[0;34m\u001b[0m\u001b[0;34m\u001b[0m\u001b[0m\n\u001b[1;32m    907\u001b[0m         \u001b[0mself\u001b[0m\u001b[0;34m.\u001b[0m\u001b[0minit_state\u001b[0m\u001b[0;34m(\u001b[0m\u001b[0mctm\u001b[0m\u001b[0;34m)\u001b[0m\u001b[0;34m\u001b[0m\u001b[0;34m\u001b[0m\u001b[0m\n\u001b[0;32m--> 908\u001b[0;31m         \u001b[0mself\u001b[0m\u001b[0;34m.\u001b[0m\u001b[0mexecute\u001b[0m\u001b[0;34m(\u001b[0m\u001b[0mlist_value\u001b[0m\u001b[0;34m(\u001b[0m\u001b[0mstreams\u001b[0m\u001b[0;34m)\u001b[0m\u001b[0;34m)\u001b[0m\u001b[0;34m\u001b[0m\u001b[0;34m\u001b[0m\u001b[0m\n\u001b[0m\u001b[1;32m    909\u001b[0m         \u001b[0;32mreturn\u001b[0m\u001b[0;34m\u001b[0m\u001b[0;34m\u001b[0m\u001b[0m\n\u001b[1;32m    910\u001b[0m \u001b[0;34m\u001b[0m\u001b[0m\n",
      "\u001b[0;32m/usr/local/lib/python3.8/site-packages/pdfminer/pdfinterp.py\u001b[0m in \u001b[0;36mexecute\u001b[0;34m(self, streams)\u001b[0m\n\u001b[1;32m    917\u001b[0m         \u001b[0;32mwhile\u001b[0m \u001b[0;36m1\u001b[0m\u001b[0;34m:\u001b[0m\u001b[0;34m\u001b[0m\u001b[0;34m\u001b[0m\u001b[0m\n\u001b[1;32m    918\u001b[0m             \u001b[0;32mtry\u001b[0m\u001b[0;34m:\u001b[0m\u001b[0;34m\u001b[0m\u001b[0;34m\u001b[0m\u001b[0m\n\u001b[0;32m--> 919\u001b[0;31m                 \u001b[0;34m(\u001b[0m\u001b[0m_\u001b[0m\u001b[0;34m,\u001b[0m \u001b[0mobj\u001b[0m\u001b[0;34m)\u001b[0m \u001b[0;34m=\u001b[0m \u001b[0mparser\u001b[0m\u001b[0;34m.\u001b[0m\u001b[0mnextobject\u001b[0m\u001b[0;34m(\u001b[0m\u001b[0;34m)\u001b[0m\u001b[0;34m\u001b[0m\u001b[0;34m\u001b[0m\u001b[0m\n\u001b[0m\u001b[1;32m    920\u001b[0m             \u001b[0;32mexcept\u001b[0m \u001b[0mPSEOF\u001b[0m\u001b[0;34m:\u001b[0m\u001b[0;34m\u001b[0m\u001b[0;34m\u001b[0m\u001b[0m\n\u001b[1;32m    921\u001b[0m                 \u001b[0;32mbreak\u001b[0m\u001b[0;34m\u001b[0m\u001b[0;34m\u001b[0m\u001b[0m\n",
      "\u001b[0;32m/usr/local/lib/python3.8/site-packages/pdfminer/psparser.py\u001b[0m in \u001b[0;36mnextobject\u001b[0;34m(self)\u001b[0m\n\u001b[1;32m    565\u001b[0m         \"\"\"\n\u001b[1;32m    566\u001b[0m         \u001b[0;32mwhile\u001b[0m \u001b[0;32mnot\u001b[0m \u001b[0mself\u001b[0m\u001b[0;34m.\u001b[0m\u001b[0mresults\u001b[0m\u001b[0;34m:\u001b[0m\u001b[0;34m\u001b[0m\u001b[0;34m\u001b[0m\u001b[0m\n\u001b[0;32m--> 567\u001b[0;31m             \u001b[0;34m(\u001b[0m\u001b[0mpos\u001b[0m\u001b[0;34m,\u001b[0m \u001b[0mtoken\u001b[0m\u001b[0;34m)\u001b[0m \u001b[0;34m=\u001b[0m \u001b[0mself\u001b[0m\u001b[0;34m.\u001b[0m\u001b[0mnexttoken\u001b[0m\u001b[0;34m(\u001b[0m\u001b[0;34m)\u001b[0m\u001b[0;34m\u001b[0m\u001b[0;34m\u001b[0m\u001b[0m\n\u001b[0m\u001b[1;32m    568\u001b[0m             \u001b[0;32mif\u001b[0m \u001b[0misinstance\u001b[0m\u001b[0;34m(\u001b[0m\u001b[0mtoken\u001b[0m\u001b[0;34m,\u001b[0m \u001b[0;34m(\u001b[0m\u001b[0mint\u001b[0m\u001b[0;34m,\u001b[0m \u001b[0mfloat\u001b[0m\u001b[0;34m,\u001b[0m \u001b[0mbool\u001b[0m\u001b[0;34m,\u001b[0m \u001b[0mstr\u001b[0m\u001b[0;34m,\u001b[0m \u001b[0mbytes\u001b[0m\u001b[0;34m,\u001b[0m \u001b[0mPSLiteral\u001b[0m\u001b[0;34m)\u001b[0m\u001b[0;34m)\u001b[0m\u001b[0;34m:\u001b[0m\u001b[0;34m\u001b[0m\u001b[0;34m\u001b[0m\u001b[0m\n\u001b[1;32m    569\u001b[0m                 \u001b[0;31m# normal token\u001b[0m\u001b[0;34m\u001b[0m\u001b[0;34m\u001b[0m\u001b[0;34m\u001b[0m\u001b[0m\n",
      "\u001b[0;32m/usr/local/lib/python3.8/site-packages/pdfminer/psparser.py\u001b[0m in \u001b[0;36mnexttoken\u001b[0;34m(self)\u001b[0m\n\u001b[1;32m    492\u001b[0m         \u001b[0;32mwhile\u001b[0m \u001b[0;32mnot\u001b[0m \u001b[0mself\u001b[0m\u001b[0;34m.\u001b[0m\u001b[0m_tokens\u001b[0m\u001b[0;34m:\u001b[0m\u001b[0;34m\u001b[0m\u001b[0;34m\u001b[0m\u001b[0m\n\u001b[1;32m    493\u001b[0m             \u001b[0mself\u001b[0m\u001b[0;34m.\u001b[0m\u001b[0mfillbuf\u001b[0m\u001b[0;34m(\u001b[0m\u001b[0;34m)\u001b[0m\u001b[0;34m\u001b[0m\u001b[0;34m\u001b[0m\u001b[0m\n\u001b[0;32m--> 494\u001b[0;31m             \u001b[0mself\u001b[0m\u001b[0;34m.\u001b[0m\u001b[0mcharpos\u001b[0m \u001b[0;34m=\u001b[0m \u001b[0mself\u001b[0m\u001b[0;34m.\u001b[0m\u001b[0m_parse1\u001b[0m\u001b[0;34m(\u001b[0m\u001b[0mself\u001b[0m\u001b[0;34m.\u001b[0m\u001b[0mbuf\u001b[0m\u001b[0;34m,\u001b[0m \u001b[0mself\u001b[0m\u001b[0;34m.\u001b[0m\u001b[0mcharpos\u001b[0m\u001b[0;34m)\u001b[0m\u001b[0;34m\u001b[0m\u001b[0;34m\u001b[0m\u001b[0m\n\u001b[0m\u001b[1;32m    495\u001b[0m         \u001b[0mtoken\u001b[0m \u001b[0;34m=\u001b[0m \u001b[0mself\u001b[0m\u001b[0;34m.\u001b[0m\u001b[0m_tokens\u001b[0m\u001b[0;34m.\u001b[0m\u001b[0mpop\u001b[0m\u001b[0;34m(\u001b[0m\u001b[0;36m0\u001b[0m\u001b[0;34m)\u001b[0m\u001b[0;34m\u001b[0m\u001b[0;34m\u001b[0m\u001b[0m\n\u001b[1;32m    496\u001b[0m         \u001b[0mlog\u001b[0m\u001b[0;34m.\u001b[0m\u001b[0mdebug\u001b[0m\u001b[0;34m(\u001b[0m\u001b[0;34m'nexttoken: %r'\u001b[0m\u001b[0;34m,\u001b[0m \u001b[0mtoken\u001b[0m\u001b[0;34m)\u001b[0m\u001b[0;34m\u001b[0m\u001b[0;34m\u001b[0m\u001b[0m\n",
      "\u001b[0;32m/usr/local/lib/python3.8/site-packages/pdfminer/psparser.py\u001b[0m in \u001b[0;36m_parse_hexstring\u001b[0;34m(self, s, i)\u001b[0m\n\u001b[1;32m    483\u001b[0m         \u001b[0mj\u001b[0m \u001b[0;34m=\u001b[0m \u001b[0mm\u001b[0m\u001b[0;34m.\u001b[0m\u001b[0mstart\u001b[0m\u001b[0;34m(\u001b[0m\u001b[0;36m0\u001b[0m\u001b[0;34m)\u001b[0m\u001b[0;34m\u001b[0m\u001b[0;34m\u001b[0m\u001b[0m\n\u001b[1;32m    484\u001b[0m         \u001b[0mself\u001b[0m\u001b[0;34m.\u001b[0m\u001b[0m_curtoken\u001b[0m \u001b[0;34m+=\u001b[0m \u001b[0ms\u001b[0m\u001b[0;34m[\u001b[0m\u001b[0mi\u001b[0m\u001b[0;34m:\u001b[0m\u001b[0mj\u001b[0m\u001b[0;34m]\u001b[0m\u001b[0;34m\u001b[0m\u001b[0;34m\u001b[0m\u001b[0m\n\u001b[0;32m--> 485\u001b[0;31m         token = HEX_PAIR.sub(lambda m: bytes((int(m.group(0), 16),)),\n\u001b[0m\u001b[1;32m    486\u001b[0m                              SPC.sub(b'', self._curtoken))\n\u001b[1;32m    487\u001b[0m         \u001b[0mself\u001b[0m\u001b[0;34m.\u001b[0m\u001b[0m_add_token\u001b[0m\u001b[0;34m(\u001b[0m\u001b[0mtoken\u001b[0m\u001b[0;34m)\u001b[0m\u001b[0;34m\u001b[0m\u001b[0;34m\u001b[0m\u001b[0m\n",
      "\u001b[0;31mKeyboardInterrupt\u001b[0m: "
     ]
    }
   ],
   "source": [
    "adf_concated = pd.DataFrame()\n",
    "for file in tqdm(file_list):\n",
    "    string = high_level.extract_text(file)\n",
    "    df = pd.DataFrame(string.split(\"ELNÖK: \"))\n",
    "    df = clean_text(df)\n",
    "\n",
    "    df_concated = pd.concat([df_concated, df])"
   ]
  },
  {
   "cell_type": "code",
   "execution_count": 12,
   "metadata": {},
   "outputs": [],
   "source": [
    "df = pd.read_pickle(\"text_speeches.pkl\").reset_index(drop=True)\n",
    "df[\"name\"] = df[\"name\"].str.replace(\"  \",\" \")"
   ]
  },
  {
   "cell_type": "code",
   "execution_count": 21,
   "metadata": {},
   "outputs": [
    {
     "output_type": "execute_result",
     "data": {
      "text/plain": [
       "'UNGAR  PETER'"
      ]
     },
     "metadata": {},
     "execution_count": 21
    }
   ],
   "source": [
    "df.loc[600,\"name\"]"
   ]
  },
  {
   "cell_type": "code",
   "execution_count": 528,
   "metadata": {},
   "outputs": [
    {
     "data": {
      "text/plain": [
       "(447, 6)"
      ]
     },
     "execution_count": 528,
     "metadata": {},
     "output_type": "execute_result"
    }
   ],
   "source": [
    "df_concated.loc[df_concated[\"len\"]<1000].shape"
   ]
  },
  {
   "cell_type": "code",
   "execution_count": 529,
   "metadata": {},
   "outputs": [
    {
     "data": {
      "text/plain": [
       "(2482, 6)"
      ]
     },
     "execution_count": 529,
     "metadata": {},
     "output_type": "execute_result"
    }
   ],
   "source": [
    "df_concated.shape"
   ]
  },
  {
   "cell_type": "code",
   "execution_count": 50,
   "metadata": {
    "tags": []
   },
   "outputs": [
    {
     "output_type": "execute_result",
     "data": {
      "text/plain": [
       "k összesen 41 szervezetnél tárt fel a zárszámadásitörvény-javaslatban  szereplő  adatok  megbízhatóságát,  illetve a  2019-es központi  költségvetés végrehajtásának  szabályszerűségét  ugyan  nem  befolyásoló,  de  szabálytalanságokat,  hiányosságokat, amelyekre az ASZ levélben hívta fel az érintett vezetők figyelmét a jogszabályok keretei között. A figyelemfelhívásokban rögzített szabálytalanságok a számvitel, a könyvvezetés, a kötelezettségvállalás, valamint a kifizetést megelőző kontrollok működésének témaköreit érintették.  Rendkívül  előremutatónak  tartom,  hogy  a  41 szervezet többsége már az ellenőrzés során intézkedéseket tett a feltárt hibák kijavítása érdekében, és épp tegnap további, eddig még feledékeny szervezetek vezetőinek küldtem ismét levelet.  Felhívom a figyelmet arra is, hogy az Országgyűlés döntéshozatali munkájának hatékonyabb és eredményesebb támogatása érdekében a jelentésünk függeléke tartalmazza az Országgyűlés felé beszámolásra kötelezett intézmények zárszámadási ellenőrzésének eredményéről készített rövid összefoglaló értékelést.  Egy-egy  szervezetről  az  összefoglaló  értékelést azzal a céllal készítettük, hogy a szervezetek beszámolója kapcsán az országgyűlési képviselőket tájékoztassuk az adott szervezet beszámolójában szereplő adatok  megbízhatóságáról,  hiszen  a  szervezetek  beszámolói tartalmazzák a szervezet gazdálkodására vonatkozó információkat  is, amelyek  megtárgyalása többnyire egyébként az Országgyűlés egyes bizottságaiban történik.  Tisztelt  Országgyűlés!  Az  elmúlt  években  az  országgyűlési képviselők és a szakmai közvélemény részéről igény fogalmazódott meg aziránt, hogy a Számvevőszék  a  zárszámadásitörvény-javaslat  értékelése mellett a makrogazdasági folyamatok mélyebb összefüggéseiről is adjon visszajelzést. Ezt a munkát idén is elvégeztük, az elemzést a jelentéssel együtt benyújtottuk az Országgyűlés részére.  A  2019.  évi  makrogazdasági  folyamatokról  készült elemzésünkben rögzítettük, hogy a magyar GDP növekedése  2019-ben  4,6  százalék  volt,  ami  meghaladta a világ, az Európai Unió, illetve az eurózóna átlagát, valamint fél százalékponttal a költségvetésitörvény-javaslatban foglalt makrogazdasági előrejelzést, amelyet  egyébként  nagyon  sokan  Magyarországon, szakértők is, optimistának minősítettek, a 4,1 százalékot is.  A GDP alakulására a legjelentősebb hatást a beruházások és a fogyasztás bővülése gyakorolta. Az alkalmazásban állók havi bruttó és nettó átlagkeresetek ’18-ról ’19-re nemzetgazdasági szinten 11,4 százalékkal nőttek. Ehhez többek között a munkaerő megtartásáért folytatott versenyhelyzet, illetve a minimálbér és a garantált bérminimum 8 százalékos növekedése járult hozzá.  A foglalkoztatási ráta ’19 decemberében 60,8 százalékos volt, ami 0,7 százalékkal haladta meg a ’18. év végi adatot. A ráta emelkedését támogatta, hogy nőtt a munkaerő iránti kereslet, és az állam több, munkaerőpiacot ösztönző intézkedést tett a korábbi években. 2019-ben  a  fogyasztói  árindex  emelkedése  3,4 százalékos  volt.  Az  inflációt  felerősítette  az  élelmiszerárak  5,4  százalékos  növekedése,  a  jövedéki  adó emelkedése és a háztartások élénkülő kereslete is.  A  belső  fogyasztás  dinamikus  emelkedése  ellenére az import a tervezettnél csak 0,1 százalékponttal nőtt nagyobb mértékben, összefüggésben azzal, hogy az  export  növekedése  viszont  1,1  százalékponttal  elmaradt a 2018 júniusában becsült mértéktől. Osszességében  tehát  ’19-ben  a  külkereskedelmi  egyenleg romlása 1,1 százalékponttal még vissza is fogta a GDP növekedését a jó eredmény mellett. 2019-ben az adórendszer súlypontja továbbra is a fogyasztási-forgalmi típusú, valamint a negatív környezeti hatásokat terhelő és az egészségvédelmi célú adókon volt. A gazdaságfehérítés és az adócsalások elleni küzdelem jegyében 2019-től több termékcsoport áfakulcsa csökkent. A GDP bővítéséhez közvetett módon  hozzájárultak  a  gazdaság  fehérítését  célzó,  korábbi években bevezetett és 2019-ben is folytatódó intézkedések.  Ezek  közé  tartozik  az  online  számlázási rendszer  működtetése  és  fokozatos  szélesítése,  az adóhatóság által készített adóbevallások körének  ki22209  22210 terjesztése, a vállalkozások egyszerűsített adózási lehetőségeinek további bővítése. 2019-ben tovább fehéredett a magyar gazdaság. Szilárd  meggyőződésem,  hogy  a  magyar  gazdaság fenntartható kifehérítése - a foglalkoztatás jelentős bővülésével együtt - az elmúlt évek legjelentősebb gazdaságpolitikai  eredménye.  Az  áfabeszedés  hatékonyságának javítása európai szinten is kiemelkedő, az online pénztárgépek, a közúti áruszállítás elektronikus ellenőrzése  és az online számlarendszer révén jelentősen  zsugorodott  a  hazai  feketegazdaság,  tisztultak a piaci viszonyok. Az  áfarés,  azaz  a  potenciálisan  beszedhető  és  a ténylegesen beszedett áfa közötti különbség 2018-ban 140 milliárd euróra rúgott az Európai Unióban, ami átlagosan  9,2  százalékos  értéknek  felelt  meg.  A  számok  évek  óta  lassú,  de  biztos  javulást  mutatnak, ugyanakkor az egyes országokban igencsak eltérő kép tárul elénk. Romániában például 33,8 százalékos volt az  áfarés  2018-ban,  míg  Svédországban  mindössze 0,7 százalékos, azaz a svéd államnak sikerült beszednie  az  áfa  csaknem  teljes  összegét,  és  Magyarország ekkor 8,4 százalékos áfaréssel a régió élén végzett, és valóban 2019-ben ez tovább folytatódott, ahogy ez el is  hangzott,  az  Eurostat  becslései  szerint  7  százalék körüli. De maradva a ’18. éves adatoknál, Lengyelország 9,9 százalék, Csehország a 12 százalék, illetve a 20 százalékos szlovák értékkel lehet összevetni és értékelni igazán az előrelépést, amely az Európai Unióban az egyik legnagyobb előrelépés. A magyar állam áfabeszedési hatékonysága egyébiránt a nyugat-európai országok szintjén áll az adatok alapján, sőt a német, osztrák, belga és épp brit értéknél is jobb. 2017-hez képest a legnagyobb, 5,1 százalékpontos csökkenést épp Magyarország érte el az áfarés tekintetében. Mindezt  azért  emeltem  ki,  mert  a  fehérítés  sok száz milliárdos bevételt jelent a költségvetésnek, miközben  növeli  az  átláthatóságot,  fair  viszonyokat  teremt  a  gazdaság  szereplői  számára,  és  jelentősen csökkenti  a  korrupció  lehetőségét.  Ezért  mondjuk, hogy a magyar gazdaság fenntartható és európai szinten is kiemelkedő kifehérítése a korrupció elleni rendszerszintű fellépés egyik leglátványosabb és megkérdőjelezhetetlen eredménye. Az  áfabeszedéssel  kapcsolatban  röviden  ki  kell térjek  az  áfacsökkentéssel  kapcsolatos  kezdeményezésekre,  hiszen  ezek  időről    időre  felmerülnek.  Kétségkívül az egyes termékcsoportokat, illetve ágazatokat  érintő,  célzott  általánosforgalmiadó-csökkentésnek van gazdaságélénkítő, gazdaságfehérítő hatása. Az  elemzéseink  ugyanakkor  egyértelműen  mutatják,  hogy  azokban  a  termékcsoportokban,  amelyekben  az  elmúlt  években  áfakulcscsökkentés  történt, ez az intézkedés hosszú távon általában nem járt a fogyasztói árak csökkenésével, sőt az elemzett termékcsoportok egy részében emelkedtek is a fogyasztói  árak.  Tehát  igazából  a  gazdaságélénkítések  és  a gazdaságfehérítés lehetnek az érvek, amelyek az áfakulcsokat  csökkentik,  a  fogyasztóiár-csökkenés  nem egyértelműen bizonyítható.  Mindez azt támasztja alá, hogy az áfacsökkentésnek  hosszú  távon  nincs  árcsökkentő  hatása,  az  árak alakulását alapvetően egyéb gazdasági és termelési tényezők,  főleg  a  keresleti-kínálati  viszonyok  határozták  meg.  Mindezek  alapján  az  Allami  Számvevőszék álláspontja évek óta változatlan.  Mivel  a  fogyasztási  típusú  adók  meghatározó súlyt képviselnek a költségvetés stabilitásában, a bevételi oldal biztosításában, ezért ezek kivetése és hatékony beszedése a magyar gazdaság növekedésének meghatározó tényezője. Ezzel szemben a munkát terhelő adók további mérséklését indokoltnak tartjuk, és fenntartjuk az ezzel kapcsolatos javaslatainkat is.     Tisztelt Ház!  2019-ben folytatódott a költségvetési  stabilizációnak  és  a  gazdaság  dinamizálásának több éve tartó folyamata. Ezek a folyamatok a Covid19  járvány  hatására  2020-ban  megtörtek,  de  pozitív következményei 2020-ban is éreztetik hatásukat, mivel  biztonságosabb  alapot  teremtettek  a  gazdasági visszaesés  káros  következményeinek  enyhítéséhez. E fejlemények közül az alábbiakat emelem ki. Egyrészt  az  államadósság  GDP-hez  viszonyított szintjének folyamatos és jelentős csökkentése hozzájárult  a  hazánk  iránti  befektetői  bizalom  erősödéséhez. Ugyanakkor az államadósság nominális összege az elmúlt években is emelkedett, ami növeli a finanszírozási kockázatokat. Ezért is fontos, hogy az államadósságon  belül  jelentősen  mérséklődött  a  devizaadósság aránya, a finanszírozásban pedig lényegesen nőttek a hazai és ezen belül a lakossági megtakarítások. Ezzel összhangban Magyarország külső eladósodottsága számottevően javult.  Másrészt a dinamikus gazdasági növekedés hatására  nemcsak  a  foglalkoztatás  szintje  nőtt  meg,  hanem a munkaerő értékesebb erőforrássá vált. Ennek következtében  a  munkáltatók  többsége  2020-ban  a gazdasági visszaesés ellenére is létszámának megtartására törekedett, illetve a járványtól kevésbé érintett munkáltatók a  nyár folyamán elhelyezkedési lehetőséget tudtak kínálni a munkahelyüket a veszélyhelyzet idején elvesztők részére. Harmadrészt  a  magyar  költségvetés  éveken  keresztül jó néhány száz milliárd forinttal megelőlegezte az EU társfinanszírozásában megvalósuló programok uniós bevételeit, ezáltal felgyorsítva a célzott fejlesztéseket  hazánkban.  A  megelőlegezett  összegek  beérkezése  egy  kritikus  időszakban,  reményeink  szerint, mérsékeli majd az államadósságot.  Negyedrészt  a  gazdaság  kifehérítése  érdekében hozott  intézkedések  hatására  javult  az  adóbeszedés hatékonysága, és ez az idei gazdasági visszaesés idején is stabilizálóan hat a költségvetés bevételeire.  Tisztelt Képviselők! Az Allami Számvevőszék törvényben  meghatározott  feladata  a  jól  irányított  állam támogatása. A Számvevőszék a jelentések  mellett e törvényi előírásnak való megfelelés érdekében készít elemzéseket, tanulmányokat a tanácsadó tevékenysége  keretében.  A  Számvevőszék  elemzői  nem 22211  22212 megállapításokat  tesznek,  hanem  összefüggésekre, hatásokra  világítanak  rá,  felhívják  a  figyelmet  az adott  területen  jelentkező  dilemmákra,  kockázatokra, valamint bemutatják az eredményeket.  Amint  az  expozém  elején  már  kiemeltem,  a Covid-19-világjárvány  alapjaiban  változtatta  meg  az életünket és változtatja meg a mindennapokban is, illetve a pandémia brutális hatással van a gazdasági és költségvetési  folyamatokra,  így  a  ma  kezdődő  parlamenti vita jóval túlmutat a ’19-es költségvetés makrogazdasági folyamatainak értékelésén. Csak a legutolsó IMF-értékelés szerint a 2008-2009-es válsághoz képest  kétszer  súlyosabb  hatással  lesznek  a  világra  a most kibontakozó és ma zajló folyamatok. Mindezekből  következően  alapvető  jelentősége van  az  objektív  helyzetértékelésnek.  Ennek  támogatása  érdekében  az  elmúlt  hetekben  több  elemzést  is nyilvánosságra hoztunk, amelyekben a Covid-19 járvány  gazdasági,  költségvetési,  munkaerőpiaci  hatásait,  következményeit  értékelték  a  kollégáim,  illetve következtetéseket és felvetéseket fogalmaztunk meg. Az  elemzéseink  nyilvánosak,  a  honlapunkon  elérhetőek. Ezúton is ajánlom a tisztelt képviselő hölgyek és urak figyelmébe.  Az  elmúlt  héten  a  zárszámadási  jelentésünkkel együtt benyújtott elemzésünk egy táblázatának tényszerű  adatai  kapcsán  élénk  közéleti,  illetve  szakmai vita bontakozott ki az öregségi nyugdíjak megállapítási módjáról, illetve az újonnan nyugdíjba vonulók és a  már  régebben  nyugellátásban  részesülők  átlagos nyugdíja  különbségeiről.  Rendkívül  örvendetesnek tartom,  hogy  az  Allami  Számvevőszék  zárszámadási jelentése, illetve az ahhoz szorosan kapcsolódó elemzések közéleti diskurzust eredményeztek. Feladatunk és célunk, hogy hozzájáruljunk a társadalmat érdeklő és sokakat érintő közéleti témák elemzéséhez. Látva, olvasva a vitában megjelent véleményeket, szeretném  felhívni  a  figyelmet  a  Számvevőszéknek egy  másik,  ez  év  augusztusában  nyilvánosságra  hozott, a nyugdíj, az egészségügy és az adózási rendszer összefüggéseit bemutató elemzésére. Ezúton is megerősítem ezen elemzésünk fő következtetését, miszerint  erősíteni kell a lakosság öngondoskodással öszszefüggő ismereteit és képességeit. Az  állam  felelőssége  a  társadalombiztosítás  feltételeinek megteremtésére terjed ki, az egyén felelőssége  pedig  az,  hogy  tudatosan  részt  vegyen  ebben  a rendszerben. Magyarországon a nyugdíjak forrását az aktív dolgozók befizetései fedezik, az egészségbiztosítási  ellátások  igénybevételét  pedig  a  munkát  végzők esetében járulékfizetés alapozza meg. A társadalombiztosítási nyugdíj a szolgálati idő hosszától és - a korábbi keresetek alapján - a költségvetésbe történő befizetések mértékétől függ, egyéb korrekciós tényezők alkalmazásával. Egy közösség tagjaként nem lehet az öngondoskodásra hivatkozva mellőzni a közteherviselést, ugyanakkor  a  közteherviselés  nem  jelenti  azt,  hogy  ne  lenne szükség - természetesen mindenkinek a lehetőségei és képességei  szerint,  és  megfelelő  időben,  előrelátóan megtett lépésekkel - az öngondoskodásra. A közteherviselés és az öngondoskodás fontosságát, illetve együttes, egymást semmiképpen sem kizáró követelményét az Alaptörvény is kimondja. Idézem  „Mindenki felelős önmagáért, képességei és lehetőségei szerint köteles az állami és közösségi feladatok ellátásához hozzájárulni.” Mindez  arra  világít  rá,  hogy  az  időskori  jólét  és jóllét biztosításánál az öngondoskodás és a közteherviselés együttes követelmény. Ezért álláspontom szerint rendkívül káros, sőt, ha megengedik, demagóg és populista féligazságokkal szembeállítani egymással a „régi”  nyugdíjasokat,  illetve  az  újonnan  nyugállományba  vonulókat.  Az  Allami  Számvevőszék  nem  is tett ilyet a jelentésében, illetve az elemzésében. Tisztelt  Országgyűlés!  A  jelenlegi  helyzetben  a legfőbb prioritás nyilvánvalóan a járvány megfékezéfeltétlenül  szükséges  eszközök - gazdasági, séhez pénzügyi  és  egészségügyi  eszközök természetesen - biztosítása és a létalapjukat elveszítő állampolgárok  megsegítése.  Ezt  követően  azonban  olyan  javaslatok  megvalósításának  célszerű  prioritást  adni, amelyeknek kettős hatása van, azaz segítik a járvány okozta nehézségek enyhítését, de egyúttal hozzájárulnak ahhoz is, hogy a járvány utáni fellendülés során a magyar  állami  és  üzleti  szféra  versenyképesebb  legyen, és fenntartható módon tovább tudjon fejlődni. Ezen belül arra célszerű törekedni, hogy az egyes intézkedéseknek  több  kedvező,  egymást  erősítő  hatása legyen. Az egyes intézkedéseket komplex szemléletben,  úgy  kell  megtervezni  és  megvalósítani,  hogy szinergiájuk maximális legyen. A Számvevőszék megítélése  szerint  ezt  úgy  lehet  elérni,  ha  a  kormányzat felállít egy kritériumrendszert, és azoknak a javaslatoknak a kidolgozását rendeli el, amelyek ennek a kritériumrendszernek  a  leginkább  megfelelnek.  Az  ennek nyomán kidolgozott intézkedések megvalósítását is csak akkor támogathatja a kormányzat - és az Országgyűlés is talán -, ha a döntés-előkészítés a kritériumok teljesítését alátámasztja, és a teljesítés nyomon követhető. Az  Allami  Számvevőszék  egy  ilyen  kritériumrendszer tíz, úgynevezett helyénvalósági kritériumára tett javaslatot még a tavasszal. Az első öt helyénvalósági  kritérium  a  támogatandó  célokra  vonatkozott, míg a következő öt kritérium az intézkedések szinergiájának  megítéléséhez  szolgált  támpontul.  A  „helyénvalósági  kritérium”  elnevezés  arra  utal,  hogy  a kritériumot konkrét jogszabályok nem írják elő, de az megfelel a közpénzfelhasználás alkotmányos követelményeinek, így a célszerűségnek, az eredményességnek  és  az  átláthatóságnak.  E  kritériumoknak  való megfelelés  alapján  lehet  rangsorolni  az  intézkedési, illetve  a  befektetési  javaslatokat.  Es  nyilvánvalóan mindegyiket nem lehet kielégíteni. Az  ASZ  szándékosan  a  „befektetés”  szót  használja,  annak  a  törekvésnek  a  célszerűségét  hangsúlyozva,  hogy  az  intézkedések - széles  értelemben véve - megtérülő  befektetések  legyenek.  Az  intézkedési - befektetési - javaslatok  közötti  választáshoz  az alábbi tíz helyénvalósági kritériumot fogalmazta meg 22213  22214 az  ASZ.  Az  intézkedés - befektetés - preferált  céljainak kritériumait, engedjék meg, hogy röviden ismertessem.  1. A  humán  erőforrás  képzettségi  hiányosságainak megszüntetése és a foglalkoztatás rugalmasságának javítása.  2. Környezetkímélő  technológiák  bevezetésének ösztönzése,  illetve  az  energia-  és  anyagfelhasználás csökkentése irányába mutató döntések.    3. A digitalizáció vívmányainak széles körű elterjesztése,  bevezetése  állami  és/vagy  üzleti  területen, ideértve az ezt elősegítő képzést, továbbképzést, szabályozási és jogalkotási kezdeményezéseket is.  4. A gazdasági és az állami szereplők tevékenységeinek  hatékonyságát,  termelékenységét  jelentősen javító  fejlesztések,  úgymint  a  munkafolyamat-felülvizsgálatok,  a  gépesítés  és  a  technológiafejlesztés  a nagy  hozzáadott  értékű  területeken  és  különösen  a nagy létszámot  foglalkoztató,  betanított  munkát igénylő,  rutinszerű  műveletekből  felépülő  tevékenységek területén.  5. A  kritikus  infrastruktúra  fejlesztése,  nemzeti irányításának erősítése.  Az  intézkedés  szinergiájára  vonatkozó  kritériumok pedig a következő öt pontban foglalhatók össze  1. Az  intézkedés  fenntartható  módon  hozzájárul az  adóegyszerűsítéshez,  a  gazdaság  kifehérítéséhez, az állami működés integritásának erősítéséhez. 2. Az intézkedés javítja az államnak az igazgatási hatékonyságát is. 3. Az  intézkedés  felgyorsítja  a  közszolgáltatások célszerű,  hatékony  és  gazdaságos  működését  célzó változtatásokat,  például  a  méretgazdaságosság  további térnyerése útján. 4. Az  intézkedés  visszaszorítja  az  állam  kevésbé indokolt,  esetenként  pazarló  kapacitását,  legyen  az vagyon vagy létszám, esetleg támogatások felszabadításával. 5. Zárógondolatként   az  intézkedés  ösztönzi  és elismeri  az  állampolgárok  kockázatkezelő,  megelőzésorientált  és  tervezésalapú  gondolkodását,  öngondoskodását.  Ugy  értékeljük,  hogy  az  eddig  meghozott  kormányzati  intézkedések  közül  több  e  kritériumrendszer  alapján  is  magas  prioritást  érdemel.  A  további gazdaságvédelmi intézkedések esetén még fontosabbnak  tartom,  hogy  a  szociális  problémák  enyhítése mellett azok ne pusztán csak költségvetési kiadások, hanem olyan befektetések legyenek, amelyek segítik a magyar  gazdaság  versenyképes  illeszkedését  a  járvány következtében még gyorsabban átalakuló regionális és világgazdaságban. Tisztelt  Országgyűlés!  Meggyőződésem  szerint munkánkkal,  az  október  5-én  nyilvánosságra  hozott és  az  Országgyűlésnek  elektronikus  úton  benyújtott jelentésünkkel  és  elemzésünkkel  hozzájárulunk  a kedvező költségvetési folyamatokhoz, és támogatjuk, hogy az Országgyűlés a zárszámadásitörvény-javaslat elfogadásáról megalapozott döntést hozhasson. Munkánk hasznosul, hiszen tapasztalataink hozzájárulnak a megalapozott és hosszú távú gazdasági növekedést eredményező költségvetési politika alkalmazásához. Végezetül  ezúton  is  szeretném  megköszönni mind a Pénzügyminisztérium, mind a több tucat, több mint száz ellenőrzött szervezet együttműködését, kollégáinak  áldozatos  munkáját  ezen  nehéz  pandémiás környezetben is, hogy rendelkezésre bocsátották adataikat, a dokumentumokat, de emellett szeretném az ellenőrzési és elemzési munkában részt vevő számvevőszéki  kollégáimnak  is  az  erőfeszítéseit  megköszönni,  akik  itt  most  néhányan  a  páholyban  is  jelen vannak.  Onöknek  pedig,  engedjék  meg,  hogy  tartalmas szakmai vitát kívánják. Köszönöm megtisztelő figyelmüket.  Jó  munkát!'"
      ]
     },
     "metadata": {},
     "execution_count": 50
    }
   ],
   "source": [
    "df.loc[df[\"len\"]>30000].loc[13693,\"text\"]"
   ]
  },
  {
   "cell_type": "code",
   "execution_count": 41,
   "metadata": {
    "scrolled": false
   },
   "outputs": [
    {
     "output_type": "execute_result",
     "data": {
      "text/plain": [
       "<AxesSubplot:>"
      ]
     },
     "metadata": {},
     "execution_count": 41
    },
    {
     "output_type": "display_data",
     "data": {
      "text/plain": "<Figure size 432x288 with 1 Axes>",
      "image/svg+xml": "<?xml version=\"1.0\" encoding=\"utf-8\" standalone=\"no\"?>\n<!DOCTYPE svg PUBLIC \"-//W3C//DTD SVG 1.1//EN\"\n  \"http://www.w3.org/Graphics/SVG/1.1/DTD/svg11.dtd\">\n<!-- Created with matplotlib (https://matplotlib.org/) -->\n<svg height=\"248.518125pt\" version=\"1.1\" viewBox=\"0 0 391.640508 248.518125\" width=\"391.640508pt\" xmlns=\"http://www.w3.org/2000/svg\" xmlns:xlink=\"http://www.w3.org/1999/xlink\">\n <metadata>\n  <rdf:RDF xmlns:cc=\"http://creativecommons.org/ns#\" xmlns:dc=\"http://purl.org/dc/elements/1.1/\" xmlns:rdf=\"http://www.w3.org/1999/02/22-rdf-syntax-ns#\">\n   <cc:Work>\n    <dc:type rdf:resource=\"http://purl.org/dc/dcmitype/StillImage\"/>\n    <dc:date>2021-01-31T14:22:20.027023</dc:date>\n    <dc:format>image/svg+xml</dc:format>\n    <dc:creator>\n     <cc:Agent>\n      <dc:title>Matplotlib v3.3.1, https://matplotlib.org/</dc:title>\n     </cc:Agent>\n    </dc:creator>\n   </cc:Work>\n  </rdf:RDF>\n </metadata>\n <defs>\n  <style type=\"text/css\">*{stroke-linecap:butt;stroke-linejoin:round;}</style>\n </defs>\n <g id=\"figure_1\">\n  <g id=\"patch_1\">\n   <path d=\"M -0 248.518125 \nL 391.640508 248.518125 \nL 391.640508 0 \nL -0 0 \nz\n\" style=\"fill:none;\"/>\n  </g>\n  <g id=\"axes_1\">\n   <g id=\"patch_2\">\n    <path d=\"M 39.65 224.64 \nL 374.45 224.64 \nL 374.45 7.2 \nL 39.65 7.2 \nz\n\" style=\"fill:#ffffff;\"/>\n   </g>\n   <g id=\"patch_3\">\n    <path clip-path=\"url(#p1d6ae780d5)\" d=\"M 54.868182 224.64 \nL 57.911818 224.64 \nL 57.911818 105.931224 \nL 54.868182 105.931224 \nz\n\" style=\"fill:#1f77b4;\"/>\n   </g>\n   <g id=\"patch_4\">\n    <path clip-path=\"url(#p1d6ae780d5)\" d=\"M 57.911818 224.64 \nL 60.955455 224.64 \nL 60.955455 163.867217 \nL 57.911818 163.867217 \nz\n\" style=\"fill:#1f77b4;\"/>\n   </g>\n   <g id=\"patch_5\">\n    <path clip-path=\"url(#p1d6ae780d5)\" d=\"M 60.955455 224.64 \nL 63.999091 224.64 \nL 63.999091 106.694975 \nL 60.955455 106.694975 \nz\n\" style=\"fill:#1f77b4;\"/>\n   </g>\n   <g id=\"patch_6\">\n    <path clip-path=\"url(#p1d6ae780d5)\" d=\"M 63.999091 224.64 \nL 67.042727 224.64 \nL 67.042727 66.543477 \nL 63.999091 66.543477 \nz\n\" style=\"fill:#1f77b4;\"/>\n   </g>\n   <g id=\"patch_7\">\n    <path clip-path=\"url(#p1d6ae780d5)\" d=\"M 67.042727 224.64 \nL 70.086364 224.64 \nL 70.086364 105.603902 \nL 67.042727 105.603902 \nz\n\" style=\"fill:#1f77b4;\"/>\n   </g>\n   <g id=\"patch_8\">\n    <path clip-path=\"url(#p1d6ae780d5)\" d=\"M 70.086364 224.64 \nL 73.13 224.64 \nL 73.13 17.554286 \nL 70.086364 17.554286 \nz\n\" style=\"fill:#1f77b4;\"/>\n   </g>\n   <g id=\"patch_9\">\n    <path clip-path=\"url(#p1d6ae780d5)\" d=\"M 73.13 224.64 \nL 76.173636 224.64 \nL 76.173636 46.467728 \nL 73.13 46.467728 \nz\n\" style=\"fill:#1f77b4;\"/>\n   </g>\n   <g id=\"patch_10\">\n    <path clip-path=\"url(#p1d6ae780d5)\" d=\"M 76.173636 224.64 \nL 79.217273 224.64 \nL 79.217273 150.2288 \nL 76.173636 150.2288 \nz\n\" style=\"fill:#1f77b4;\"/>\n   </g>\n   <g id=\"patch_11\">\n    <path clip-path=\"url(#p1d6ae780d5)\" d=\"M 79.217273 224.64 \nL 82.260909 224.64 \nL 82.260909 175.432594 \nL 79.217273 175.432594 \nz\n\" style=\"fill:#1f77b4;\"/>\n   </g>\n   <g id=\"patch_12\">\n    <path clip-path=\"url(#p1d6ae780d5)\" d=\"M 82.260909 224.64 \nL 85.304545 224.64 \nL 85.304545 182.306356 \nL 82.260909 182.306356 \nz\n\" style=\"fill:#1f77b4;\"/>\n   </g>\n   <g id=\"patch_13\">\n    <path clip-path=\"url(#p1d6ae780d5)\" d=\"M 85.304545 224.64 \nL 88.348182 224.64 \nL 88.348182 171.286515 \nL 85.304545 171.286515 \nz\n\" style=\"fill:#1f77b4;\"/>\n   </g>\n   <g id=\"patch_14\">\n    <path clip-path=\"url(#p1d6ae780d5)\" d=\"M 88.348182 224.64 \nL 91.391818 224.64 \nL 91.391818 161.248641 \nL 88.348182 161.248641 \nz\n\" style=\"fill:#1f77b4;\"/>\n   </g>\n   <g id=\"patch_15\">\n    <path clip-path=\"url(#p1d6ae780d5)\" d=\"M 91.391818 224.64 \nL 94.435455 224.64 \nL 94.435455 142.809502 \nL 91.391818 142.809502 \nz\n\" style=\"fill:#1f77b4;\"/>\n   </g>\n   <g id=\"patch_16\">\n    <path clip-path=\"url(#p1d6ae780d5)\" d=\"M 94.435455 224.64 \nL 97.479091 224.64 \nL 97.479091 145.7554 \nL 94.435455 145.7554 \nz\n\" style=\"fill:#1f77b4;\"/>\n   </g>\n   <g id=\"patch_17\">\n    <path clip-path=\"url(#p1d6ae780d5)\" d=\"M 97.479091 224.64 \nL 100.522727 224.64 \nL 100.522727 147.282902 \nL 97.479091 147.282902 \nz\n\" style=\"fill:#1f77b4;\"/>\n   </g>\n   <g id=\"patch_18\">\n    <path clip-path=\"url(#p1d6ae780d5)\" d=\"M 100.522727 224.64 \nL 103.566364 224.64 \nL 103.566364 171.0683 \nL 100.522727 171.0683 \nz\n\" style=\"fill:#1f77b4;\"/>\n   </g>\n   <g id=\"patch_19\">\n    <path clip-path=\"url(#p1d6ae780d5)\" d=\"M 103.566364 224.64 \nL 106.61 224.64 \nL 106.61 185.906897 \nL 103.566364 185.906897 \nz\n\" style=\"fill:#1f77b4;\"/>\n   </g>\n   <g id=\"patch_20\">\n    <path clip-path=\"url(#p1d6ae780d5)\" d=\"M 106.61 224.64 \nL 109.653636 224.64 \nL 109.653636 196.162987 \nL 106.61 196.162987 \nz\n\" style=\"fill:#1f77b4;\"/>\n   </g>\n   <g id=\"patch_21\">\n    <path clip-path=\"url(#p1d6ae780d5)\" d=\"M 109.653636 224.64 \nL 112.697273 224.64 \nL 112.697273 204.673358 \nL 109.653636 204.673358 \nz\n\" style=\"fill:#1f77b4;\"/>\n   </g>\n   <g id=\"patch_22\">\n    <path clip-path=\"url(#p1d6ae780d5)\" d=\"M 112.697273 224.64 \nL 115.740909 224.64 \nL 115.740909 207.182827 \nL 112.697273 207.182827 \nz\n\" style=\"fill:#1f77b4;\"/>\n   </g>\n   <g id=\"patch_23\">\n    <path clip-path=\"url(#p1d6ae780d5)\" d=\"M 115.740909 224.64 \nL 118.784545 224.64 \nL 118.784545 210.456047 \nL 115.740909 210.456047 \nz\n\" style=\"fill:#1f77b4;\"/>\n   </g>\n   <g id=\"patch_24\">\n    <path clip-path=\"url(#p1d6ae780d5)\" d=\"M 118.784545 224.64 \nL 121.828182 224.64 \nL 121.828182 209.91051 \nL 118.784545 209.91051 \nz\n\" style=\"fill:#1f77b4;\"/>\n   </g>\n   <g id=\"patch_25\">\n    <path clip-path=\"url(#p1d6ae780d5)\" d=\"M 121.828182 224.64 \nL 124.871818 224.64 \nL 124.871818 209.91051 \nL 121.828182 209.91051 \nz\n\" style=\"fill:#1f77b4;\"/>\n   </g>\n   <g id=\"patch_26\">\n    <path clip-path=\"url(#p1d6ae780d5)\" d=\"M 124.871818 224.64 \nL 127.915455 224.64 \nL 127.915455 210.892476 \nL 124.871818 210.892476 \nz\n\" style=\"fill:#1f77b4;\"/>\n   </g>\n   <g id=\"patch_27\">\n    <path clip-path=\"url(#p1d6ae780d5)\" d=\"M 127.915455 224.64 \nL 130.959091 224.64 \nL 130.959091 211.765335 \nL 127.915455 211.765335 \nz\n\" style=\"fill:#1f77b4;\"/>\n   </g>\n   <g id=\"patch_28\">\n    <path clip-path=\"url(#p1d6ae780d5)\" d=\"M 130.959091 224.64 \nL 134.002727 224.64 \nL 134.002727 212.529086 \nL 130.959091 212.529086 \nz\n\" style=\"fill:#1f77b4;\"/>\n   </g>\n   <g id=\"patch_29\">\n    <path clip-path=\"url(#p1d6ae780d5)\" d=\"M 134.002727 224.64 \nL 137.046364 224.64 \nL 137.046364 212.310872 \nL 134.002727 212.310872 \nz\n\" style=\"fill:#1f77b4;\"/>\n   </g>\n   <g id=\"patch_30\">\n    <path clip-path=\"url(#p1d6ae780d5)\" d=\"M 137.046364 224.64 \nL 140.09 224.64 \nL 140.09 214.82034 \nL 137.046364 214.82034 \nz\n\" style=\"fill:#1f77b4;\"/>\n   </g>\n   <g id=\"patch_31\">\n    <path clip-path=\"url(#p1d6ae780d5)\" d=\"M 140.09 224.64 \nL 143.133636 224.64 \nL 143.133636 214.274804 \nL 140.09 214.274804 \nz\n\" style=\"fill:#1f77b4;\"/>\n   </g>\n   <g id=\"patch_32\">\n    <path clip-path=\"url(#p1d6ae780d5)\" d=\"M 143.133636 224.64 \nL 146.177273 224.64 \nL 146.177273 214.929448 \nL 143.133636 214.929448 \nz\n\" style=\"fill:#1f77b4;\"/>\n   </g>\n   <g id=\"patch_33\">\n    <path clip-path=\"url(#p1d6ae780d5)\" d=\"M 146.177273 224.64 \nL 149.220909 224.64 \nL 149.220909 215.038555 \nL 146.177273 215.038555 \nz\n\" style=\"fill:#1f77b4;\"/>\n   </g>\n   <g id=\"patch_34\">\n    <path clip-path=\"url(#p1d6ae780d5)\" d=\"M 149.220909 224.64 \nL 152.264545 224.64 \nL 152.264545 217.766238 \nL 149.220909 217.766238 \nz\n\" style=\"fill:#1f77b4;\"/>\n   </g>\n   <g id=\"patch_35\">\n    <path clip-path=\"url(#p1d6ae780d5)\" d=\"M 152.264545 224.64 \nL 155.308182 224.64 \nL 155.308182 215.802306 \nL 152.264545 215.802306 \nz\n\" style=\"fill:#1f77b4;\"/>\n   </g>\n   <g id=\"patch_36\">\n    <path clip-path=\"url(#p1d6ae780d5)\" d=\"M 155.308182 224.64 \nL 158.351818 224.64 \nL 158.351818 216.566058 \nL 155.308182 216.566058 \nz\n\" style=\"fill:#1f77b4;\"/>\n   </g>\n   <g id=\"patch_37\">\n    <path clip-path=\"url(#p1d6ae780d5)\" d=\"M 158.351818 224.64 \nL 161.395455 224.64 \nL 161.395455 216.675165 \nL 158.351818 216.675165 \nz\n\" style=\"fill:#1f77b4;\"/>\n   </g>\n   <g id=\"patch_38\">\n    <path clip-path=\"url(#p1d6ae780d5)\" d=\"M 161.395455 224.64 \nL 164.439091 224.64 \nL 164.439091 217.657131 \nL 161.395455 217.657131 \nz\n\" style=\"fill:#1f77b4;\"/>\n   </g>\n   <g id=\"patch_39\">\n    <path clip-path=\"url(#p1d6ae780d5)\" d=\"M 164.439091 224.64 \nL 167.482727 224.64 \nL 167.482727 215.365877 \nL 164.439091 215.365877 \nz\n\" style=\"fill:#1f77b4;\"/>\n   </g>\n   <g id=\"patch_40\">\n    <path clip-path=\"url(#p1d6ae780d5)\" d=\"M 167.482727 224.64 \nL 170.526364 224.64 \nL 170.526364 217.111594 \nL 167.482727 217.111594 \nz\n\" style=\"fill:#1f77b4;\"/>\n   </g>\n   <g id=\"patch_41\">\n    <path clip-path=\"url(#p1d6ae780d5)\" d=\"M 170.526364 224.64 \nL 173.57 224.64 \nL 173.57 216.784272 \nL 170.526364 216.784272 \nz\n\" style=\"fill:#1f77b4;\"/>\n   </g>\n   <g id=\"patch_42\">\n    <path clip-path=\"url(#p1d6ae780d5)\" d=\"M 173.57 224.64 \nL 176.613636 224.64 \nL 176.613636 219.511955 \nL 173.57 219.511955 \nz\n\" style=\"fill:#1f77b4;\"/>\n   </g>\n   <g id=\"patch_43\">\n    <path clip-path=\"url(#p1d6ae780d5)\" d=\"M 176.613636 224.64 \nL 179.657273 224.64 \nL 179.657273 218.966419 \nL 176.613636 218.966419 \nz\n\" style=\"fill:#1f77b4;\"/>\n   </g>\n   <g id=\"patch_44\">\n    <path clip-path=\"url(#p1d6ae780d5)\" d=\"M 179.657273 224.64 \nL 182.700909 224.64 \nL 182.700909 220.275707 \nL 179.657273 220.275707 \nz\n\" style=\"fill:#1f77b4;\"/>\n   </g>\n   <g id=\"patch_45\">\n    <path clip-path=\"url(#p1d6ae780d5)\" d=\"M 182.700909 224.64 \nL 185.744545 224.64 \nL 185.744545 219.621063 \nL 182.700909 219.621063 \nz\n\" style=\"fill:#1f77b4;\"/>\n   </g>\n   <g id=\"patch_46\">\n    <path clip-path=\"url(#p1d6ae780d5)\" d=\"M 185.744545 224.64 \nL 188.788182 224.64 \nL 188.788182 221.912317 \nL 185.744545 221.912317 \nz\n\" style=\"fill:#1f77b4;\"/>\n   </g>\n   <g id=\"patch_47\">\n    <path clip-path=\"url(#p1d6ae780d5)\" d=\"M 188.788182 224.64 \nL 191.831818 224.64 \nL 191.831818 221.694102 \nL 188.788182 221.694102 \nz\n\" style=\"fill:#1f77b4;\"/>\n   </g>\n   <g id=\"patch_48\">\n    <path clip-path=\"url(#p1d6ae780d5)\" d=\"M 191.831818 224.64 \nL 194.875455 224.64 \nL 194.875455 220.930351 \nL 191.831818 220.930351 \nz\n\" style=\"fill:#1f77b4;\"/>\n   </g>\n   <g id=\"patch_49\">\n    <path clip-path=\"url(#p1d6ae780d5)\" d=\"M 194.875455 224.64 \nL 197.919091 224.64 \nL 197.919091 223.00339 \nL 194.875455 223.00339 \nz\n\" style=\"fill:#1f77b4;\"/>\n   </g>\n   <g id=\"patch_50\">\n    <path clip-path=\"url(#p1d6ae780d5)\" d=\"M 197.919091 224.64 \nL 200.962727 224.64 \nL 200.962727 223.221605 \nL 197.919091 223.221605 \nz\n\" style=\"fill:#1f77b4;\"/>\n   </g>\n   <g id=\"patch_51\">\n    <path clip-path=\"url(#p1d6ae780d5)\" d=\"M 200.962727 224.64 \nL 204.006364 224.64 \nL 204.006364 223.221605 \nL 200.962727 223.221605 \nz\n\" style=\"fill:#1f77b4;\"/>\n   </g>\n   <g id=\"patch_52\">\n    <path clip-path=\"url(#p1d6ae780d5)\" d=\"M 204.006364 224.64 \nL 207.05 224.64 \nL 207.05 223.112497 \nL 204.006364 223.112497 \nz\n\" style=\"fill:#1f77b4;\"/>\n   </g>\n   <g id=\"patch_53\">\n    <path clip-path=\"url(#p1d6ae780d5)\" d=\"M 207.05 224.64 \nL 210.093636 224.64 \nL 210.093636 222.894283 \nL 207.05 222.894283 \nz\n\" style=\"fill:#1f77b4;\"/>\n   </g>\n   <g id=\"patch_54\">\n    <path clip-path=\"url(#p1d6ae780d5)\" d=\"M 210.093636 224.64 \nL 213.137273 224.64 \nL 213.137273 223.985356 \nL 210.093636 223.985356 \nz\n\" style=\"fill:#1f77b4;\"/>\n   </g>\n   <g id=\"patch_55\">\n    <path clip-path=\"url(#p1d6ae780d5)\" d=\"M 213.137273 224.64 \nL 216.180909 224.64 \nL 216.180909 223.439819 \nL 213.137273 223.439819 \nz\n\" style=\"fill:#1f77b4;\"/>\n   </g>\n   <g id=\"patch_56\">\n    <path clip-path=\"url(#p1d6ae780d5)\" d=\"M 216.180909 224.64 \nL 219.224545 224.64 \nL 219.224545 224.094463 \nL 216.180909 224.094463 \nz\n\" style=\"fill:#1f77b4;\"/>\n   </g>\n   <g id=\"patch_57\">\n    <path clip-path=\"url(#p1d6ae780d5)\" d=\"M 219.224545 224.64 \nL 222.268182 224.64 \nL 222.268182 224.094463 \nL 219.224545 224.094463 \nz\n\" style=\"fill:#1f77b4;\"/>\n   </g>\n   <g id=\"patch_58\">\n    <path clip-path=\"url(#p1d6ae780d5)\" d=\"M 222.268182 224.64 \nL 225.311818 224.64 \nL 225.311818 223.985356 \nL 222.268182 223.985356 \nz\n\" style=\"fill:#1f77b4;\"/>\n   </g>\n   <g id=\"patch_59\">\n    <path clip-path=\"url(#p1d6ae780d5)\" d=\"M 225.311818 224.64 \nL 228.355455 224.64 \nL 228.355455 224.421785 \nL 225.311818 224.421785 \nz\n\" style=\"fill:#1f77b4;\"/>\n   </g>\n   <g id=\"patch_60\">\n    <path clip-path=\"url(#p1d6ae780d5)\" d=\"M 228.355455 224.64 \nL 231.399091 224.64 \nL 231.399091 223.658034 \nL 228.355455 223.658034 \nz\n\" style=\"fill:#1f77b4;\"/>\n   </g>\n   <g id=\"patch_61\">\n    <path clip-path=\"url(#p1d6ae780d5)\" d=\"M 231.399091 224.64 \nL 234.442727 224.64 \nL 234.442727 223.658034 \nL 231.399091 223.658034 \nz\n\" style=\"fill:#1f77b4;\"/>\n   </g>\n   <g id=\"patch_62\">\n    <path clip-path=\"url(#p1d6ae780d5)\" d=\"M 234.442727 224.64 \nL 237.486364 224.64 \nL 237.486364 224.312678 \nL 234.442727 224.312678 \nz\n\" style=\"fill:#1f77b4;\"/>\n   </g>\n   <g id=\"patch_63\">\n    <path clip-path=\"url(#p1d6ae780d5)\" d=\"M 237.486364 224.64 \nL 240.53 224.64 \nL 240.53 223.330712 \nL 237.486364 223.330712 \nz\n\" style=\"fill:#1f77b4;\"/>\n   </g>\n   <g id=\"patch_64\">\n    <path clip-path=\"url(#p1d6ae780d5)\" d=\"M 240.53 224.64 \nL 243.573636 224.64 \nL 243.573636 224.094463 \nL 240.53 224.094463 \nz\n\" style=\"fill:#1f77b4;\"/>\n   </g>\n   <g id=\"patch_65\">\n    <path clip-path=\"url(#p1d6ae780d5)\" d=\"M 243.573636 224.64 \nL 246.617273 224.64 \nL 246.617273 223.767141 \nL 243.573636 223.767141 \nz\n\" style=\"fill:#1f77b4;\"/>\n   </g>\n   <g id=\"patch_66\">\n    <path clip-path=\"url(#p1d6ae780d5)\" d=\"M 246.617273 224.64 \nL 249.660909 224.64 \nL 249.660909 223.985356 \nL 246.617273 223.985356 \nz\n\" style=\"fill:#1f77b4;\"/>\n   </g>\n   <g id=\"patch_67\">\n    <path clip-path=\"url(#p1d6ae780d5)\" d=\"M 249.660909 224.64 \nL 252.704545 224.64 \nL 252.704545 224.203571 \nL 249.660909 224.203571 \nz\n\" style=\"fill:#1f77b4;\"/>\n   </g>\n   <g id=\"patch_68\">\n    <path clip-path=\"url(#p1d6ae780d5)\" d=\"M 252.704545 224.64 \nL 255.748182 224.64 \nL 255.748182 224.203571 \nL 252.704545 224.203571 \nz\n\" style=\"fill:#1f77b4;\"/>\n   </g>\n   <g id=\"patch_69\">\n    <path clip-path=\"url(#p1d6ae780d5)\" d=\"M 255.748182 224.64 \nL 258.791818 224.64 \nL 258.791818 224.421785 \nL 255.748182 224.421785 \nz\n\" style=\"fill:#1f77b4;\"/>\n   </g>\n   <g id=\"patch_70\">\n    <path clip-path=\"url(#p1d6ae780d5)\" d=\"M 258.791818 224.64 \nL 261.835455 224.64 \nL 261.835455 224.312678 \nL 258.791818 224.312678 \nz\n\" style=\"fill:#1f77b4;\"/>\n   </g>\n   <g id=\"patch_71\">\n    <path clip-path=\"url(#p1d6ae780d5)\" d=\"M 261.835455 224.64 \nL 264.879091 224.64 \nL 264.879091 223.985356 \nL 261.835455 223.985356 \nz\n\" style=\"fill:#1f77b4;\"/>\n   </g>\n   <g id=\"patch_72\">\n    <path clip-path=\"url(#p1d6ae780d5)\" d=\"M 264.879091 224.64 \nL 267.922727 224.64 \nL 267.922727 224.421785 \nL 264.879091 224.421785 \nz\n\" style=\"fill:#1f77b4;\"/>\n   </g>\n   <g id=\"patch_73\">\n    <path clip-path=\"url(#p1d6ae780d5)\" d=\"M 267.922727 224.64 \nL 270.966364 224.64 \nL 270.966364 224.203571 \nL 267.922727 224.203571 \nz\n\" style=\"fill:#1f77b4;\"/>\n   </g>\n   <g id=\"patch_74\">\n    <path clip-path=\"url(#p1d6ae780d5)\" d=\"M 270.966364 224.64 \nL 274.01 224.64 \nL 274.01 224.421785 \nL 270.966364 224.421785 \nz\n\" style=\"fill:#1f77b4;\"/>\n   </g>\n   <g id=\"patch_75\">\n    <path clip-path=\"url(#p1d6ae780d5)\" d=\"M 274.01 224.64 \nL 277.053636 224.64 \nL 277.053636 224.312678 \nL 274.01 224.312678 \nz\n\" style=\"fill:#1f77b4;\"/>\n   </g>\n   <g id=\"patch_76\">\n    <path clip-path=\"url(#p1d6ae780d5)\" d=\"M 277.053636 224.64 \nL 280.097273 224.64 \nL 280.097273 224.203571 \nL 277.053636 224.203571 \nz\n\" style=\"fill:#1f77b4;\"/>\n   </g>\n   <g id=\"patch_77\">\n    <path clip-path=\"url(#p1d6ae780d5)\" d=\"M 280.097273 224.64 \nL 283.140909 224.64 \nL 283.140909 224.203571 \nL 280.097273 224.203571 \nz\n\" style=\"fill:#1f77b4;\"/>\n   </g>\n   <g id=\"patch_78\">\n    <path clip-path=\"url(#p1d6ae780d5)\" d=\"M 283.140909 224.64 \nL 286.184545 224.64 \nL 286.184545 224.203571 \nL 283.140909 224.203571 \nz\n\" style=\"fill:#1f77b4;\"/>\n   </g>\n   <g id=\"patch_79\">\n    <path clip-path=\"url(#p1d6ae780d5)\" d=\"M 286.184545 224.64 \nL 289.228182 224.64 \nL 289.228182 224.203571 \nL 286.184545 224.203571 \nz\n\" style=\"fill:#1f77b4;\"/>\n   </g>\n   <g id=\"patch_80\">\n    <path clip-path=\"url(#p1d6ae780d5)\" d=\"M 289.228182 224.64 \nL 292.271818 224.64 \nL 292.271818 224.312678 \nL 289.228182 224.312678 \nz\n\" style=\"fill:#1f77b4;\"/>\n   </g>\n   <g id=\"patch_81\">\n    <path clip-path=\"url(#p1d6ae780d5)\" d=\"M 292.271818 224.64 \nL 295.315455 224.64 \nL 295.315455 224.203571 \nL 292.271818 224.203571 \nz\n\" style=\"fill:#1f77b4;\"/>\n   </g>\n   <g id=\"patch_82\">\n    <path clip-path=\"url(#p1d6ae780d5)\" d=\"M 295.315455 224.64 \nL 298.359091 224.64 \nL 298.359091 224.530893 \nL 295.315455 224.530893 \nz\n\" style=\"fill:#1f77b4;\"/>\n   </g>\n   <g id=\"patch_83\">\n    <path clip-path=\"url(#p1d6ae780d5)\" d=\"M 298.359091 224.64 \nL 301.402727 224.64 \nL 301.402727 224.203571 \nL 298.359091 224.203571 \nz\n\" style=\"fill:#1f77b4;\"/>\n   </g>\n   <g id=\"patch_84\">\n    <path clip-path=\"url(#p1d6ae780d5)\" d=\"M 301.402727 224.64 \nL 304.446364 224.64 \nL 304.446364 224.530893 \nL 301.402727 224.530893 \nz\n\" style=\"fill:#1f77b4;\"/>\n   </g>\n   <g id=\"patch_85\">\n    <path clip-path=\"url(#p1d6ae780d5)\" d=\"M 304.446364 224.64 \nL 307.49 224.64 \nL 307.49 224.530893 \nL 304.446364 224.530893 \nz\n\" style=\"fill:#1f77b4;\"/>\n   </g>\n   <g id=\"patch_86\">\n    <path clip-path=\"url(#p1d6ae780d5)\" d=\"M 307.49 224.64 \nL 310.533636 224.64 \nL 310.533636 224.530893 \nL 307.49 224.530893 \nz\n\" style=\"fill:#1f77b4;\"/>\n   </g>\n   <g id=\"patch_87\">\n    <path clip-path=\"url(#p1d6ae780d5)\" d=\"M 310.533636 224.64 \nL 313.577273 224.64 \nL 313.577273 224.64 \nL 310.533636 224.64 \nz\n\" style=\"fill:#1f77b4;\"/>\n   </g>\n   <g id=\"patch_88\">\n    <path clip-path=\"url(#p1d6ae780d5)\" d=\"M 313.577273 224.64 \nL 316.620909 224.64 \nL 316.620909 224.094463 \nL 313.577273 224.094463 \nz\n\" style=\"fill:#1f77b4;\"/>\n   </g>\n   <g id=\"patch_89\">\n    <path clip-path=\"url(#p1d6ae780d5)\" d=\"M 316.620909 224.64 \nL 319.664545 224.64 \nL 319.664545 224.530893 \nL 316.620909 224.530893 \nz\n\" style=\"fill:#1f77b4;\"/>\n   </g>\n   <g id=\"patch_90\">\n    <path clip-path=\"url(#p1d6ae780d5)\" d=\"M 319.664545 224.64 \nL 322.708182 224.64 \nL 322.708182 224.530893 \nL 319.664545 224.530893 \nz\n\" style=\"fill:#1f77b4;\"/>\n   </g>\n   <g id=\"patch_91\">\n    <path clip-path=\"url(#p1d6ae780d5)\" d=\"M 322.708182 224.64 \nL 325.751818 224.64 \nL 325.751818 224.530893 \nL 322.708182 224.530893 \nz\n\" style=\"fill:#1f77b4;\"/>\n   </g>\n   <g id=\"patch_92\">\n    <path clip-path=\"url(#p1d6ae780d5)\" d=\"M 325.751818 224.64 \nL 328.795455 224.64 \nL 328.795455 224.530893 \nL 325.751818 224.530893 \nz\n\" style=\"fill:#1f77b4;\"/>\n   </g>\n   <g id=\"patch_93\">\n    <path clip-path=\"url(#p1d6ae780d5)\" d=\"M 328.795455 224.64 \nL 331.839091 224.64 \nL 331.839091 224.64 \nL 328.795455 224.64 \nz\n\" style=\"fill:#1f77b4;\"/>\n   </g>\n   <g id=\"patch_94\">\n    <path clip-path=\"url(#p1d6ae780d5)\" d=\"M 331.839091 224.64 \nL 334.882727 224.64 \nL 334.882727 224.64 \nL 331.839091 224.64 \nz\n\" style=\"fill:#1f77b4;\"/>\n   </g>\n   <g id=\"patch_95\">\n    <path clip-path=\"url(#p1d6ae780d5)\" d=\"M 334.882727 224.64 \nL 337.926364 224.64 \nL 337.926364 224.64 \nL 334.882727 224.64 \nz\n\" style=\"fill:#1f77b4;\"/>\n   </g>\n   <g id=\"patch_96\">\n    <path clip-path=\"url(#p1d6ae780d5)\" d=\"M 337.926364 224.64 \nL 340.97 224.64 \nL 340.97 224.421785 \nL 337.926364 224.421785 \nz\n\" style=\"fill:#1f77b4;\"/>\n   </g>\n   <g id=\"patch_97\">\n    <path clip-path=\"url(#p1d6ae780d5)\" d=\"M 340.97 224.64 \nL 344.013636 224.64 \nL 344.013636 224.64 \nL 340.97 224.64 \nz\n\" style=\"fill:#1f77b4;\"/>\n   </g>\n   <g id=\"patch_98\">\n    <path clip-path=\"url(#p1d6ae780d5)\" d=\"M 344.013636 224.64 \nL 347.057273 224.64 \nL 347.057273 224.64 \nL 344.013636 224.64 \nz\n\" style=\"fill:#1f77b4;\"/>\n   </g>\n   <g id=\"patch_99\">\n    <path clip-path=\"url(#p1d6ae780d5)\" d=\"M 347.057273 224.64 \nL 350.100909 224.64 \nL 350.100909 224.64 \nL 347.057273 224.64 \nz\n\" style=\"fill:#1f77b4;\"/>\n   </g>\n   <g id=\"patch_100\">\n    <path clip-path=\"url(#p1d6ae780d5)\" d=\"M 350.100909 224.64 \nL 353.144545 224.64 \nL 353.144545 224.64 \nL 350.100909 224.64 \nz\n\" style=\"fill:#1f77b4;\"/>\n   </g>\n   <g id=\"patch_101\">\n    <path clip-path=\"url(#p1d6ae780d5)\" d=\"M 353.144545 224.64 \nL 356.188182 224.64 \nL 356.188182 224.421785 \nL 353.144545 224.421785 \nz\n\" style=\"fill:#1f77b4;\"/>\n   </g>\n   <g id=\"patch_102\">\n    <path clip-path=\"url(#p1d6ae780d5)\" d=\"M 356.188182 224.64 \nL 359.231818 224.64 \nL 359.231818 224.530893 \nL 356.188182 224.530893 \nz\n\" style=\"fill:#1f77b4;\"/>\n   </g>\n   <g id=\"matplotlib.axis_1\">\n    <g id=\"xtick_1\">\n     <g id=\"line2d_1\">\n      <path clip-path=\"url(#p1d6ae780d5)\" d=\"M 54.868182 224.64 \nL 54.868182 7.2 \n\" style=\"fill:none;stroke:#b0b0b0;stroke-linecap:square;stroke-width:0.8;\"/>\n     </g>\n     <g id=\"line2d_2\">\n      <defs>\n       <path d=\"M 0 0 \nL 0 3.5 \n\" id=\"mbad7c94d1c\" style=\"stroke:#000000;stroke-width:0.8;\"/>\n      </defs>\n      <g>\n       <use style=\"stroke:#000000;stroke-width:0.8;\" x=\"54.868182\" xlink:href=\"#mbad7c94d1c\" y=\"224.64\"/>\n      </g>\n     </g>\n     <g id=\"text_1\">\n      <!-- 0 -->\n      <g transform=\"translate(51.686932 239.238437)scale(0.1 -0.1)\">\n       <defs>\n        <path d=\"M 31.78125 66.40625 \nQ 24.171875 66.40625 20.328125 58.90625 \nQ 16.5 51.421875 16.5 36.375 \nQ 16.5 21.390625 20.328125 13.890625 \nQ 24.171875 6.390625 31.78125 6.390625 \nQ 39.453125 6.390625 43.28125 13.890625 \nQ 47.125 21.390625 47.125 36.375 \nQ 47.125 51.421875 43.28125 58.90625 \nQ 39.453125 66.40625 31.78125 66.40625 \nz\nM 31.78125 74.21875 \nQ 44.046875 74.21875 50.515625 64.515625 \nQ 56.984375 54.828125 56.984375 36.375 \nQ 56.984375 17.96875 50.515625 8.265625 \nQ 44.046875 -1.421875 31.78125 -1.421875 \nQ 19.53125 -1.421875 13.0625 8.265625 \nQ 6.59375 17.96875 6.59375 36.375 \nQ 6.59375 54.828125 13.0625 64.515625 \nQ 19.53125 74.21875 31.78125 74.21875 \nz\n\" id=\"DejaVuSans-48\"/>\n       </defs>\n       <use xlink:href=\"#DejaVuSans-48\"/>\n      </g>\n     </g>\n    </g>\n    <g id=\"xtick_2\">\n     <g id=\"line2d_3\">\n      <path clip-path=\"url(#p1d6ae780d5)\" d=\"M 99.677621 224.64 \nL 99.677621 7.2 \n\" style=\"fill:none;stroke:#b0b0b0;stroke-linecap:square;stroke-width:0.8;\"/>\n     </g>\n     <g id=\"line2d_4\">\n      <g>\n       <use style=\"stroke:#000000;stroke-width:0.8;\" x=\"99.677621\" xlink:href=\"#mbad7c94d1c\" y=\"224.64\"/>\n      </g>\n     </g>\n     <g id=\"text_2\">\n      <!-- 5000 -->\n      <g transform=\"translate(86.952621 239.238437)scale(0.1 -0.1)\">\n       <defs>\n        <path d=\"M 10.796875 72.90625 \nL 49.515625 72.90625 \nL 49.515625 64.59375 \nL 19.828125 64.59375 \nL 19.828125 46.734375 \nQ 21.96875 47.46875 24.109375 47.828125 \nQ 26.265625 48.1875 28.421875 48.1875 \nQ 40.625 48.1875 47.75 41.5 \nQ 54.890625 34.8125 54.890625 23.390625 \nQ 54.890625 11.625 47.5625 5.09375 \nQ 40.234375 -1.421875 26.90625 -1.421875 \nQ 22.3125 -1.421875 17.546875 -0.640625 \nQ 12.796875 0.140625 7.71875 1.703125 \nL 7.71875 11.625 \nQ 12.109375 9.234375 16.796875 8.0625 \nQ 21.484375 6.890625 26.703125 6.890625 \nQ 35.15625 6.890625 40.078125 11.328125 \nQ 45.015625 15.765625 45.015625 23.390625 \nQ 45.015625 31 40.078125 35.4375 \nQ 35.15625 39.890625 26.703125 39.890625 \nQ 22.75 39.890625 18.8125 39.015625 \nQ 14.890625 38.140625 10.796875 36.28125 \nz\n\" id=\"DejaVuSans-53\"/>\n       </defs>\n       <use xlink:href=\"#DejaVuSans-53\"/>\n       <use x=\"63.623047\" xlink:href=\"#DejaVuSans-48\"/>\n       <use x=\"127.246094\" xlink:href=\"#DejaVuSans-48\"/>\n       <use x=\"190.869141\" xlink:href=\"#DejaVuSans-48\"/>\n      </g>\n     </g>\n    </g>\n    <g id=\"xtick_3\">\n     <g id=\"line2d_5\">\n      <path clip-path=\"url(#p1d6ae780d5)\" d=\"M 144.487061 224.64 \nL 144.487061 7.2 \n\" style=\"fill:none;stroke:#b0b0b0;stroke-linecap:square;stroke-width:0.8;\"/>\n     </g>\n     <g id=\"line2d_6\">\n      <g>\n       <use style=\"stroke:#000000;stroke-width:0.8;\" x=\"144.487061\" xlink:href=\"#mbad7c94d1c\" y=\"224.64\"/>\n      </g>\n     </g>\n     <g id=\"text_3\">\n      <!-- 10000 -->\n      <g transform=\"translate(128.580811 239.238437)scale(0.1 -0.1)\">\n       <defs>\n        <path d=\"M 12.40625 8.296875 \nL 28.515625 8.296875 \nL 28.515625 63.921875 \nL 10.984375 60.40625 \nL 10.984375 69.390625 \nL 28.421875 72.90625 \nL 38.28125 72.90625 \nL 38.28125 8.296875 \nL 54.390625 8.296875 \nL 54.390625 0 \nL 12.40625 0 \nz\n\" id=\"DejaVuSans-49\"/>\n       </defs>\n       <use xlink:href=\"#DejaVuSans-49\"/>\n       <use x=\"63.623047\" xlink:href=\"#DejaVuSans-48\"/>\n       <use x=\"127.246094\" xlink:href=\"#DejaVuSans-48\"/>\n       <use x=\"190.869141\" xlink:href=\"#DejaVuSans-48\"/>\n       <use x=\"254.492188\" xlink:href=\"#DejaVuSans-48\"/>\n      </g>\n     </g>\n    </g>\n    <g id=\"xtick_4\">\n     <g id=\"line2d_7\">\n      <path clip-path=\"url(#p1d6ae780d5)\" d=\"M 189.2965 224.64 \nL 189.2965 7.2 \n\" style=\"fill:none;stroke:#b0b0b0;stroke-linecap:square;stroke-width:0.8;\"/>\n     </g>\n     <g id=\"line2d_8\">\n      <g>\n       <use style=\"stroke:#000000;stroke-width:0.8;\" x=\"189.2965\" xlink:href=\"#mbad7c94d1c\" y=\"224.64\"/>\n      </g>\n     </g>\n     <g id=\"text_4\">\n      <!-- 15000 -->\n      <g transform=\"translate(173.39025 239.238437)scale(0.1 -0.1)\">\n       <use xlink:href=\"#DejaVuSans-49\"/>\n       <use x=\"63.623047\" xlink:href=\"#DejaVuSans-53\"/>\n       <use x=\"127.246094\" xlink:href=\"#DejaVuSans-48\"/>\n       <use x=\"190.869141\" xlink:href=\"#DejaVuSans-48\"/>\n       <use x=\"254.492188\" xlink:href=\"#DejaVuSans-48\"/>\n      </g>\n     </g>\n    </g>\n    <g id=\"xtick_5\">\n     <g id=\"line2d_9\">\n      <path clip-path=\"url(#p1d6ae780d5)\" d=\"M 234.10594 224.64 \nL 234.10594 7.2 \n\" style=\"fill:none;stroke:#b0b0b0;stroke-linecap:square;stroke-width:0.8;\"/>\n     </g>\n     <g id=\"line2d_10\">\n      <g>\n       <use style=\"stroke:#000000;stroke-width:0.8;\" x=\"234.10594\" xlink:href=\"#mbad7c94d1c\" y=\"224.64\"/>\n      </g>\n     </g>\n     <g id=\"text_5\">\n      <!-- 20000 -->\n      <g transform=\"translate(218.19969 239.238437)scale(0.1 -0.1)\">\n       <defs>\n        <path d=\"M 19.1875 8.296875 \nL 53.609375 8.296875 \nL 53.609375 0 \nL 7.328125 0 \nL 7.328125 8.296875 \nQ 12.9375 14.109375 22.625 23.890625 \nQ 32.328125 33.6875 34.8125 36.53125 \nQ 39.546875 41.84375 41.421875 45.53125 \nQ 43.3125 49.21875 43.3125 52.78125 \nQ 43.3125 58.59375 39.234375 62.25 \nQ 35.15625 65.921875 28.609375 65.921875 \nQ 23.96875 65.921875 18.8125 64.3125 \nQ 13.671875 62.703125 7.8125 59.421875 \nL 7.8125 69.390625 \nQ 13.765625 71.78125 18.9375 73 \nQ 24.125 74.21875 28.421875 74.21875 \nQ 39.75 74.21875 46.484375 68.546875 \nQ 53.21875 62.890625 53.21875 53.421875 \nQ 53.21875 48.921875 51.53125 44.890625 \nQ 49.859375 40.875 45.40625 35.40625 \nQ 44.1875 33.984375 37.640625 27.21875 \nQ 31.109375 20.453125 19.1875 8.296875 \nz\n\" id=\"DejaVuSans-50\"/>\n       </defs>\n       <use xlink:href=\"#DejaVuSans-50\"/>\n       <use x=\"63.623047\" xlink:href=\"#DejaVuSans-48\"/>\n       <use x=\"127.246094\" xlink:href=\"#DejaVuSans-48\"/>\n       <use x=\"190.869141\" xlink:href=\"#DejaVuSans-48\"/>\n       <use x=\"254.492188\" xlink:href=\"#DejaVuSans-48\"/>\n      </g>\n     </g>\n    </g>\n    <g id=\"xtick_6\">\n     <g id=\"line2d_11\">\n      <path clip-path=\"url(#p1d6ae780d5)\" d=\"M 278.915379 224.64 \nL 278.915379 7.2 \n\" style=\"fill:none;stroke:#b0b0b0;stroke-linecap:square;stroke-width:0.8;\"/>\n     </g>\n     <g id=\"line2d_12\">\n      <g>\n       <use style=\"stroke:#000000;stroke-width:0.8;\" x=\"278.915379\" xlink:href=\"#mbad7c94d1c\" y=\"224.64\"/>\n      </g>\n     </g>\n     <g id=\"text_6\">\n      <!-- 25000 -->\n      <g transform=\"translate(263.009129 239.238437)scale(0.1 -0.1)\">\n       <use xlink:href=\"#DejaVuSans-50\"/>\n       <use x=\"63.623047\" xlink:href=\"#DejaVuSans-53\"/>\n       <use x=\"127.246094\" xlink:href=\"#DejaVuSans-48\"/>\n       <use x=\"190.869141\" xlink:href=\"#DejaVuSans-48\"/>\n       <use x=\"254.492188\" xlink:href=\"#DejaVuSans-48\"/>\n      </g>\n     </g>\n    </g>\n    <g id=\"xtick_7\">\n     <g id=\"line2d_13\">\n      <path clip-path=\"url(#p1d6ae780d5)\" d=\"M 323.724818 224.64 \nL 323.724818 7.2 \n\" style=\"fill:none;stroke:#b0b0b0;stroke-linecap:square;stroke-width:0.8;\"/>\n     </g>\n     <g id=\"line2d_14\">\n      <g>\n       <use style=\"stroke:#000000;stroke-width:0.8;\" x=\"323.724818\" xlink:href=\"#mbad7c94d1c\" y=\"224.64\"/>\n      </g>\n     </g>\n     <g id=\"text_7\">\n      <!-- 30000 -->\n      <g transform=\"translate(307.818568 239.238437)scale(0.1 -0.1)\">\n       <defs>\n        <path d=\"M 40.578125 39.3125 \nQ 47.65625 37.796875 51.625 33 \nQ 55.609375 28.21875 55.609375 21.1875 \nQ 55.609375 10.40625 48.1875 4.484375 \nQ 40.765625 -1.421875 27.09375 -1.421875 \nQ 22.515625 -1.421875 17.65625 -0.515625 \nQ 12.796875 0.390625 7.625 2.203125 \nL 7.625 11.71875 \nQ 11.71875 9.328125 16.59375 8.109375 \nQ 21.484375 6.890625 26.8125 6.890625 \nQ 36.078125 6.890625 40.9375 10.546875 \nQ 45.796875 14.203125 45.796875 21.1875 \nQ 45.796875 27.640625 41.28125 31.265625 \nQ 36.765625 34.90625 28.71875 34.90625 \nL 20.21875 34.90625 \nL 20.21875 43.015625 \nL 29.109375 43.015625 \nQ 36.375 43.015625 40.234375 45.921875 \nQ 44.09375 48.828125 44.09375 54.296875 \nQ 44.09375 59.90625 40.109375 62.90625 \nQ 36.140625 65.921875 28.71875 65.921875 \nQ 24.65625 65.921875 20.015625 65.03125 \nQ 15.375 64.15625 9.8125 62.3125 \nL 9.8125 71.09375 \nQ 15.4375 72.65625 20.34375 73.4375 \nQ 25.25 74.21875 29.59375 74.21875 \nQ 40.828125 74.21875 47.359375 69.109375 \nQ 53.90625 64.015625 53.90625 55.328125 \nQ 53.90625 49.265625 50.4375 45.09375 \nQ 46.96875 40.921875 40.578125 39.3125 \nz\n\" id=\"DejaVuSans-51\"/>\n       </defs>\n       <use xlink:href=\"#DejaVuSans-51\"/>\n       <use x=\"63.623047\" xlink:href=\"#DejaVuSans-48\"/>\n       <use x=\"127.246094\" xlink:href=\"#DejaVuSans-48\"/>\n       <use x=\"190.869141\" xlink:href=\"#DejaVuSans-48\"/>\n       <use x=\"254.492188\" xlink:href=\"#DejaVuSans-48\"/>\n      </g>\n     </g>\n    </g>\n    <g id=\"xtick_8\">\n     <g id=\"line2d_15\">\n      <path clip-path=\"url(#p1d6ae780d5)\" d=\"M 368.534258 224.64 \nL 368.534258 7.2 \n\" style=\"fill:none;stroke:#b0b0b0;stroke-linecap:square;stroke-width:0.8;\"/>\n     </g>\n     <g id=\"line2d_16\">\n      <g>\n       <use style=\"stroke:#000000;stroke-width:0.8;\" x=\"368.534258\" xlink:href=\"#mbad7c94d1c\" y=\"224.64\"/>\n      </g>\n     </g>\n     <g id=\"text_8\">\n      <!-- 35000 -->\n      <g transform=\"translate(352.628008 239.238437)scale(0.1 -0.1)\">\n       <use xlink:href=\"#DejaVuSans-51\"/>\n       <use x=\"63.623047\" xlink:href=\"#DejaVuSans-53\"/>\n       <use x=\"127.246094\" xlink:href=\"#DejaVuSans-48\"/>\n       <use x=\"190.869141\" xlink:href=\"#DejaVuSans-48\"/>\n       <use x=\"254.492188\" xlink:href=\"#DejaVuSans-48\"/>\n      </g>\n     </g>\n    </g>\n   </g>\n   <g id=\"matplotlib.axis_2\">\n    <g id=\"ytick_1\">\n     <g id=\"line2d_17\">\n      <path clip-path=\"url(#p1d6ae780d5)\" d=\"M 39.65 224.64 \nL 374.45 224.64 \n\" style=\"fill:none;stroke:#b0b0b0;stroke-linecap:square;stroke-width:0.8;\"/>\n     </g>\n     <g id=\"line2d_18\">\n      <defs>\n       <path d=\"M 0 0 \nL -3.5 0 \n\" id=\"m208be14fbd\" style=\"stroke:#000000;stroke-width:0.8;\"/>\n      </defs>\n      <g>\n       <use style=\"stroke:#000000;stroke-width:0.8;\" x=\"39.65\" xlink:href=\"#m208be14fbd\" y=\"224.64\"/>\n      </g>\n     </g>\n     <g id=\"text_9\">\n      <!-- 0 -->\n      <g transform=\"translate(26.2875 228.439219)scale(0.1 -0.1)\">\n       <use xlink:href=\"#DejaVuSans-48\"/>\n      </g>\n     </g>\n    </g>\n    <g id=\"ytick_2\">\n     <g id=\"line2d_19\">\n      <path clip-path=\"url(#p1d6ae780d5)\" d=\"M 39.65 197.363167 \nL 374.45 197.363167 \n\" style=\"fill:none;stroke:#b0b0b0;stroke-linecap:square;stroke-width:0.8;\"/>\n     </g>\n     <g id=\"line2d_20\">\n      <g>\n       <use style=\"stroke:#000000;stroke-width:0.8;\" x=\"39.65\" xlink:href=\"#m208be14fbd\" y=\"197.363167\"/>\n      </g>\n     </g>\n     <g id=\"text_10\">\n      <!-- 250 -->\n      <g transform=\"translate(13.5625 201.162386)scale(0.1 -0.1)\">\n       <use xlink:href=\"#DejaVuSans-50\"/>\n       <use x=\"63.623047\" xlink:href=\"#DejaVuSans-53\"/>\n       <use x=\"127.246094\" xlink:href=\"#DejaVuSans-48\"/>\n      </g>\n     </g>\n    </g>\n    <g id=\"ytick_3\">\n     <g id=\"line2d_21\">\n      <path clip-path=\"url(#p1d6ae780d5)\" d=\"M 39.65 170.086334 \nL 374.45 170.086334 \n\" style=\"fill:none;stroke:#b0b0b0;stroke-linecap:square;stroke-width:0.8;\"/>\n     </g>\n     <g id=\"line2d_22\">\n      <g>\n       <use style=\"stroke:#000000;stroke-width:0.8;\" x=\"39.65\" xlink:href=\"#m208be14fbd\" y=\"170.086334\"/>\n      </g>\n     </g>\n     <g id=\"text_11\">\n      <!-- 500 -->\n      <g transform=\"translate(13.5625 173.885553)scale(0.1 -0.1)\">\n       <use xlink:href=\"#DejaVuSans-53\"/>\n       <use x=\"63.623047\" xlink:href=\"#DejaVuSans-48\"/>\n       <use x=\"127.246094\" xlink:href=\"#DejaVuSans-48\"/>\n      </g>\n     </g>\n    </g>\n    <g id=\"ytick_4\">\n     <g id=\"line2d_23\">\n      <path clip-path=\"url(#p1d6ae780d5)\" d=\"M 39.65 142.809502 \nL 374.45 142.809502 \n\" style=\"fill:none;stroke:#b0b0b0;stroke-linecap:square;stroke-width:0.8;\"/>\n     </g>\n     <g id=\"line2d_24\">\n      <g>\n       <use style=\"stroke:#000000;stroke-width:0.8;\" x=\"39.65\" xlink:href=\"#m208be14fbd\" y=\"142.809502\"/>\n      </g>\n     </g>\n     <g id=\"text_12\">\n      <!-- 750 -->\n      <g transform=\"translate(13.5625 146.60872)scale(0.1 -0.1)\">\n       <defs>\n        <path d=\"M 8.203125 72.90625 \nL 55.078125 72.90625 \nL 55.078125 68.703125 \nL 28.609375 0 \nL 18.3125 0 \nL 43.21875 64.59375 \nL 8.203125 64.59375 \nz\n\" id=\"DejaVuSans-55\"/>\n       </defs>\n       <use xlink:href=\"#DejaVuSans-55\"/>\n       <use x=\"63.623047\" xlink:href=\"#DejaVuSans-53\"/>\n       <use x=\"127.246094\" xlink:href=\"#DejaVuSans-48\"/>\n      </g>\n     </g>\n    </g>\n    <g id=\"ytick_5\">\n     <g id=\"line2d_25\">\n      <path clip-path=\"url(#p1d6ae780d5)\" d=\"M 39.65 115.532669 \nL 374.45 115.532669 \n\" style=\"fill:none;stroke:#b0b0b0;stroke-linecap:square;stroke-width:0.8;\"/>\n     </g>\n     <g id=\"line2d_26\">\n      <g>\n       <use style=\"stroke:#000000;stroke-width:0.8;\" x=\"39.65\" xlink:href=\"#m208be14fbd\" y=\"115.532669\"/>\n      </g>\n     </g>\n     <g id=\"text_13\">\n      <!-- 1000 -->\n      <g transform=\"translate(7.2 119.331888)scale(0.1 -0.1)\">\n       <use xlink:href=\"#DejaVuSans-49\"/>\n       <use x=\"63.623047\" xlink:href=\"#DejaVuSans-48\"/>\n       <use x=\"127.246094\" xlink:href=\"#DejaVuSans-48\"/>\n       <use x=\"190.869141\" xlink:href=\"#DejaVuSans-48\"/>\n      </g>\n     </g>\n    </g>\n    <g id=\"ytick_6\">\n     <g id=\"line2d_27\">\n      <path clip-path=\"url(#p1d6ae780d5)\" d=\"M 39.65 88.255836 \nL 374.45 88.255836 \n\" style=\"fill:none;stroke:#b0b0b0;stroke-linecap:square;stroke-width:0.8;\"/>\n     </g>\n     <g id=\"line2d_28\">\n      <g>\n       <use style=\"stroke:#000000;stroke-width:0.8;\" x=\"39.65\" xlink:href=\"#m208be14fbd\" y=\"88.255836\"/>\n      </g>\n     </g>\n     <g id=\"text_14\">\n      <!-- 1250 -->\n      <g transform=\"translate(7.2 92.055055)scale(0.1 -0.1)\">\n       <use xlink:href=\"#DejaVuSans-49\"/>\n       <use x=\"63.623047\" xlink:href=\"#DejaVuSans-50\"/>\n       <use x=\"127.246094\" xlink:href=\"#DejaVuSans-53\"/>\n       <use x=\"190.869141\" xlink:href=\"#DejaVuSans-48\"/>\n      </g>\n     </g>\n    </g>\n    <g id=\"ytick_7\">\n     <g id=\"line2d_29\">\n      <path clip-path=\"url(#p1d6ae780d5)\" d=\"M 39.65 60.979003 \nL 374.45 60.979003 \n\" style=\"fill:none;stroke:#b0b0b0;stroke-linecap:square;stroke-width:0.8;\"/>\n     </g>\n     <g id=\"line2d_30\">\n      <g>\n       <use style=\"stroke:#000000;stroke-width:0.8;\" x=\"39.65\" xlink:href=\"#m208be14fbd\" y=\"60.979003\"/>\n      </g>\n     </g>\n     <g id=\"text_15\">\n      <!-- 1500 -->\n      <g transform=\"translate(7.2 64.778222)scale(0.1 -0.1)\">\n       <use xlink:href=\"#DejaVuSans-49\"/>\n       <use x=\"63.623047\" xlink:href=\"#DejaVuSans-53\"/>\n       <use x=\"127.246094\" xlink:href=\"#DejaVuSans-48\"/>\n       <use x=\"190.869141\" xlink:href=\"#DejaVuSans-48\"/>\n      </g>\n     </g>\n    </g>\n    <g id=\"ytick_8\">\n     <g id=\"line2d_31\">\n      <path clip-path=\"url(#p1d6ae780d5)\" d=\"M 39.65 33.702171 \nL 374.45 33.702171 \n\" style=\"fill:none;stroke:#b0b0b0;stroke-linecap:square;stroke-width:0.8;\"/>\n     </g>\n     <g id=\"line2d_32\">\n      <g>\n       <use style=\"stroke:#000000;stroke-width:0.8;\" x=\"39.65\" xlink:href=\"#m208be14fbd\" y=\"33.702171\"/>\n      </g>\n     </g>\n     <g id=\"text_16\">\n      <!-- 1750 -->\n      <g transform=\"translate(7.2 37.501389)scale(0.1 -0.1)\">\n       <use xlink:href=\"#DejaVuSans-49\"/>\n       <use x=\"63.623047\" xlink:href=\"#DejaVuSans-55\"/>\n       <use x=\"127.246094\" xlink:href=\"#DejaVuSans-53\"/>\n       <use x=\"190.869141\" xlink:href=\"#DejaVuSans-48\"/>\n      </g>\n     </g>\n    </g>\n   </g>\n   <g id=\"patch_103\">\n    <path d=\"M 39.65 224.64 \nL 39.65 7.2 \n\" style=\"fill:none;stroke:#000000;stroke-linecap:square;stroke-linejoin:miter;stroke-width:0.8;\"/>\n   </g>\n   <g id=\"patch_104\">\n    <path d=\"M 374.45 224.64 \nL 374.45 7.2 \n\" style=\"fill:none;stroke:#000000;stroke-linecap:square;stroke-linejoin:miter;stroke-width:0.8;\"/>\n   </g>\n   <g id=\"patch_105\">\n    <path d=\"M 39.65 224.64 \nL 374.45 224.64 \n\" style=\"fill:none;stroke:#000000;stroke-linecap:square;stroke-linejoin:miter;stroke-width:0.8;\"/>\n   </g>\n   <g id=\"patch_106\">\n    <path d=\"M 39.65 7.2 \nL 374.45 7.2 \n\" style=\"fill:none;stroke:#000000;stroke-linecap:square;stroke-linejoin:miter;stroke-width:0.8;\"/>\n   </g>\n  </g>\n </g>\n <defs>\n  <clipPath id=\"p1d6ae780d5\">\n   <rect height=\"217.44\" width=\"334.8\" x=\"39.65\" y=\"7.2\"/>\n  </clipPath>\n </defs>\n</svg>\n",
      "image/png": "[encoded data removed]"
     },
     "metadata": {
      "needs_background": "light"
     }
    }
   ],
   "source": [
    "df[\"len\"].hist(bins=100)"
   ]
  },
  {
   "cell_type": "code",
   "execution_count": 33,
   "metadata": {},
   "outputs": [],
   "source": [
    "df[\"name\"] = df[\"name\"].str.replace(\"  \",\" \")"
   ]
  },
  {
   "cell_type": "code",
   "execution_count": null,
   "metadata": {},
   "outputs": [],
   "source": []
  }
 ],
 "metadata": {
  "kernelspec": {
   "display_name": "Python 3",
   "language": "python",
   "name": "python3"
  },
  "language_info": {
   "codemirror_mode": {
    "name": "ipython",
    "version": 3
   },
   "file_extension": ".py",
   "mimetype": "text/x-python",
   "name": "python",
   "nbconvert_exporter": "python",
   "pygments_lexer": "ipython3",
   "version": "3.8.6-final"
  }
 },
 "nbformat": 4,
 "nbformat_minor": 4
}